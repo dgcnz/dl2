{
 "cells": [
  {
   "cell_type": "code",
   "execution_count": null,
   "metadata": {},
   "outputs": [],
   "source": [
    "import os\n",
    "from pathlib import Path\n",
    "\n",
    "try:\n",
    "    import google.colab\n",
    "\n",
    "    IN_COLAB = True\n",
    "except:\n",
    "    IN_COLAB = False\n",
    "\n",
    "if IN_COLAB:\n",
    "    from google.colab import userdata\n",
    "\n",
    "    repo_name = \"dgcnz/dl2\"\n",
    "    url = f\"https://{userdata.get('gh_pat')}@github.com/{repo_name}.git\"\n",
    "    !git clone {url}\n",
    "    print(\"\\nCurrent Directory:\")\n",
    "    %cd dl2\n",
    "    #!pip install torch torchvision numpy matplotlib git+https://github.com/AMLab-Amsterdam/lie_learn escnn scipy\n",
    "    !pip install torchvision git+https://github.com/AMLab-Amsterdam/lie_learn escnn lightning wandb git+https://github.com/dgcnz/neuralyze\n",
    "    #!pip install -r requirements.txt\n",
    "\n",
    "\n",
    "else:  # automatically checks if the current directory is 'repo name'\n",
    "    curdir = Path.cwd()\n",
    "    print(\"Current Directory\", curdir)\n",
    "    assert (\n",
    "        curdir.name == \"dl2\" or curdir.parent.name == \"dl2\"\n",
    "    ), \"Notebook cwd has to be on the project root\"\n",
    "    if curdir.name == \"notebooks\":\n",
    "        %cd .."
   ]
  },
  {
   "cell_type": "code",
   "execution_count": null,
   "metadata": {},
   "outputs": [],
   "source": [
    "import json\n",
    "import matplotlib.pyplot as plt\n",
    "import numpy as np\n",
    "from scipy.stats import gaussian_kde"
   ]
  },
  {
   "cell_type": "code",
   "execution_count": null,
   "metadata": {},
   "outputs": [],
   "source": [
    "path_dict ={'cnn_v2': \"uva-dl2/CNN_RotMNIST/model-4l530hst:v2\",\n",
    "            'cnn_v24': \"uva-dl2/CNN_RotMNIST/model-4l530hst:v24\",\n",
    "            'scnn_v2': \"uva-dl2/C8steerable_RotMNIST/model-u3vh8ed9:v2\",\n",
    "            'scnn_v24': \"uva-dl2/C8steerable_RotMNIST/model-u3vh8ed9:v24\"\n",
    "\n",
    "}\n",
    "dict_string = json.dumps(path_dict)"
   ]
  },
  {
   "cell_type": "code",
   "execution_count": null,
   "metadata": {},
   "outputs": [],
   "source": [
    "!python hessian_spectra.py --weight_decay 1e-5 --percentage_data 20 --ckpt_path_dict dict_string "
   ]
  },
  {
   "cell_type": "code",
   "execution_count": null,
   "metadata": {},
   "outputs": [],
   "source": [
    "def plot_fn(spectrums: list, names: list, epoch: int):\n",
    "    fig, ax = plt.subplots()\n",
    "    # Create kernel density estimate\n",
    "    for spectrum, name in zip(spectrums, names):\n",
    "        kde = gaussian_kde(spectrum)\n",
    "\n",
    "        # Create x values for the plot\n",
    "        x = np.linspace(min(spectrum), max(spectrum), 1000)\n",
    "\n",
    "        # Compute the density estimate\n",
    "        density = kde(x)\n",
    "\n",
    "        # Plot density estimate as a line\n",
    "        ax.plot(x, density, label=name)\n",
    "\n",
    "    # Add labels and title\n",
    "    ax.set_xlabel(\"Max Eigenvalue\")\n",
    "    ax.set_ylabel(\"Density\")\n",
    "    ax.set_title(\"Density plot of max eigenvalues at epoch \" + str(epoch))\n",
    "    ax.legend()\n",
    "    plt.show()"
   ]
  },
  {
   "cell_type": "code",
   "execution_count": null,
   "metadata": {},
   "outputs": [],
   "source": [
    "with open('logs/hessian_values/spectra.json') as json_file:\n",
    "    spectra_dict = json.load(json_file)\n",
    "\n",
    "#and then plot the ones you want to plot together. "
   ]
  }
 ],
 "metadata": {
  "language_info": {
   "name": "python"
  }
 },
 "nbformat": 4,
 "nbformat_minor": 2
}

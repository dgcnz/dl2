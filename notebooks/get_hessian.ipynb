{
  "cells": [
    {
      "cell_type": "code",
      "source": [
        "import os\n",
        "from pathlib import Path\n",
        "\n",
        "try:\n",
        "    import google.colab\n",
        "    IN_COLAB = True\n",
        "except:\n",
        "    IN_COLAB = False\n",
        "\n",
        "if IN_COLAB:\n",
        "    from google.colab import userdata\n",
        "    repo_name = 'dgcnz/dl2'\n",
        "    url = f\"https://{userdata.get('gh_pat')}@github.com/{repo_name}.git\"\n",
        "    !git clone {url}\n",
        "    print(\"\\nCurrent Directory:\")\n",
        "    %cd dl2\n",
        "    #!pip install torch torchvision numpy matplotlib git+https://github.com/AMLab-Amsterdam/lie_learn escnn scipy\n",
        "    !pip install torchvision git+https://github.com/AMLab-Amsterdam/lie_learn escnn lightning wandb git+https://github.com/dgcnz/neuralyze\n",
        "    #!pip install -r requirements.txt\n",
        "\n",
        "\n",
        "else: # automatically checks if the current directory is 'repo name'\n",
        "    curdir = Path.cwd()\n",
        "    print(\"Current Directory\", curdir)\n",
        "    assert curdir.name == \"dl2\" or curdir.parent.name == \"dl2\", \"Notebook cwd has to be on the project root\"\n",
        "    if curdir.name == \"notebooks\":\n",
        "        %cd .."
      ],
      "metadata": {
        "colab": {
          "base_uri": "https://localhost:8080/"
        },
        "id": "gMGIjAHcKEo7",
        "outputId": "72280ca0-2171-4346-cb23-93ab94d52ad2"
      },
      "execution_count": null,
      "outputs": [
        {
          "output_type": "stream",
          "name": "stdout",
          "text": [
            "Cloning into 'dl2'...\n",
            "remote: Enumerating objects: 204, done.\u001b[K\n",
            "remote: Counting objects: 100% (204/204), done.\u001b[K\n",
            "remote: Compressing objects: 100% (151/151), done.\u001b[K\n",
            "remote: Total 204 (delta 76), reused 143 (delta 42), pack-reused 0\u001b[K\n",
            "Receiving objects: 100% (204/204), 102.34 KiB | 6.02 MiB/s, done.\n",
            "Resolving deltas: 100% (76/76), done.\n",
            "\n",
            "Current Directory:\n",
            "/content/dl2\n",
            "Collecting git+https://github.com/AMLab-Amsterdam/lie_learn\n",
            "  Cloning https://github.com/AMLab-Amsterdam/lie_learn to /tmp/pip-req-build-feuxitkd\n",
            "  Running command git clone --filter=blob:none --quiet https://github.com/AMLab-Amsterdam/lie_learn /tmp/pip-req-build-feuxitkd\n",
            "  Resolved https://github.com/AMLab-Amsterdam/lie_learn to commit 1ccc2106e402d517a29de5438c9367c959e67338\n",
            "  Installing build dependencies ... \u001b[?25l\u001b[?25hdone\n",
            "  Getting requirements to build wheel ... \u001b[?25l\u001b[?25hdone\n",
            "  Installing backend dependencies ... \u001b[?25l\u001b[?25hdone\n",
            "  Preparing metadata (pyproject.toml) ... \u001b[?25l\u001b[?25hdone\n",
            "Collecting git+https://github.com/dgcnz/neuralyze\n",
            "  Cloning https://github.com/dgcnz/neuralyze to /tmp/pip-req-build-2hg5yuuv\n",
            "  Running command git clone --filter=blob:none --quiet https://github.com/dgcnz/neuralyze /tmp/pip-req-build-2hg5yuuv\n",
            "  Resolved https://github.com/dgcnz/neuralyze to commit e706d9eb9169fb500d070555f2b39ad6bea76939\n",
            "  Installing build dependencies ... \u001b[?25l\u001b[?25hdone\n",
            "  Getting requirements to build wheel ... \u001b[?25l\u001b[?25hdone\n",
            "  Preparing metadata (pyproject.toml) ... \u001b[?25l\u001b[?25hdone\n",
            "Requirement already satisfied: torchvision in /usr/local/lib/python3.10/dist-packages (0.17.1+cu121)\n",
            "Collecting escnn\n",
            "  Downloading escnn-1.0.11-py3-none-any.whl (373 kB)\n",
            "\u001b[2K     \u001b[90m━━━━━━━━━━━━━━━━━━━━━━━━━━━━━━━━━━━━━━━━\u001b[0m \u001b[32m373.9/373.9 kB\u001b[0m \u001b[31m7.8 MB/s\u001b[0m eta \u001b[36m0:00:00\u001b[0m\n",
            "\u001b[?25hCollecting lightning\n",
            "  Downloading lightning-2.2.2-py3-none-any.whl (2.0 MB)\n",
            "\u001b[2K     \u001b[90m━━━━━━━━━━━━━━━━━━━━━━━━━━━━━━━━━━━━━━━━\u001b[0m \u001b[32m2.0/2.0 MB\u001b[0m \u001b[31m17.7 MB/s\u001b[0m eta \u001b[36m0:00:00\u001b[0m\n",
            "\u001b[?25hCollecting wandb\n",
            "  Downloading wandb-0.16.6-py3-none-any.whl (2.2 MB)\n",
            "\u001b[2K     \u001b[90m━━━━━━━━━━━━━━━━━━━━━━━━━━━━━━━━━━━━━━━━\u001b[0m \u001b[32m2.2/2.2 MB\u001b[0m \u001b[31m25.7 MB/s\u001b[0m eta \u001b[36m0:00:00\u001b[0m\n",
            "\u001b[?25hRequirement already satisfied: numpy in /usr/local/lib/python3.10/dist-packages (from torchvision) (1.25.2)\n",
            "Requirement already satisfied: torch==2.2.1 in /usr/local/lib/python3.10/dist-packages (from torchvision) (2.2.1+cu121)\n",
            "Requirement already satisfied: pillow!=8.3.*,>=5.3.0 in /usr/local/lib/python3.10/dist-packages (from torchvision) (9.4.0)\n",
            "Requirement already satisfied: filelock in /usr/local/lib/python3.10/dist-packages (from torch==2.2.1->torchvision) (3.13.4)\n",
            "Requirement already satisfied: typing-extensions>=4.8.0 in /usr/local/lib/python3.10/dist-packages (from torch==2.2.1->torchvision) (4.11.0)\n",
            "Requirement already satisfied: sympy in /usr/local/lib/python3.10/dist-packages (from torch==2.2.1->torchvision) (1.12)\n",
            "Requirement already satisfied: networkx in /usr/local/lib/python3.10/dist-packages (from torch==2.2.1->torchvision) (3.3)\n",
            "Requirement already satisfied: jinja2 in /usr/local/lib/python3.10/dist-packages (from torch==2.2.1->torchvision) (3.1.3)\n",
            "Requirement already satisfied: fsspec in /usr/local/lib/python3.10/dist-packages (from torch==2.2.1->torchvision) (2023.6.0)\n",
            "Collecting nvidia-cuda-nvrtc-cu12==12.1.105 (from torch==2.2.1->torchvision)\n",
            "  Using cached nvidia_cuda_nvrtc_cu12-12.1.105-py3-none-manylinux1_x86_64.whl (23.7 MB)\n",
            "Collecting nvidia-cuda-runtime-cu12==12.1.105 (from torch==2.2.1->torchvision)\n",
            "  Using cached nvidia_cuda_runtime_cu12-12.1.105-py3-none-manylinux1_x86_64.whl (823 kB)\n",
            "Collecting nvidia-cuda-cupti-cu12==12.1.105 (from torch==2.2.1->torchvision)\n",
            "  Using cached nvidia_cuda_cupti_cu12-12.1.105-py3-none-manylinux1_x86_64.whl (14.1 MB)\n",
            "Collecting nvidia-cudnn-cu12==8.9.2.26 (from torch==2.2.1->torchvision)\n",
            "  Using cached nvidia_cudnn_cu12-8.9.2.26-py3-none-manylinux1_x86_64.whl (731.7 MB)\n",
            "Collecting nvidia-cublas-cu12==12.1.3.1 (from torch==2.2.1->torchvision)\n",
            "  Using cached nvidia_cublas_cu12-12.1.3.1-py3-none-manylinux1_x86_64.whl (410.6 MB)\n",
            "Collecting nvidia-cufft-cu12==11.0.2.54 (from torch==2.2.1->torchvision)\n",
            "  Using cached nvidia_cufft_cu12-11.0.2.54-py3-none-manylinux1_x86_64.whl (121.6 MB)\n",
            "Collecting nvidia-curand-cu12==10.3.2.106 (from torch==2.2.1->torchvision)\n",
            "  Using cached nvidia_curand_cu12-10.3.2.106-py3-none-manylinux1_x86_64.whl (56.5 MB)\n",
            "Collecting nvidia-cusolver-cu12==11.4.5.107 (from torch==2.2.1->torchvision)\n",
            "  Using cached nvidia_cusolver_cu12-11.4.5.107-py3-none-manylinux1_x86_64.whl (124.2 MB)\n",
            "Collecting nvidia-cusparse-cu12==12.1.0.106 (from torch==2.2.1->torchvision)\n",
            "  Using cached nvidia_cusparse_cu12-12.1.0.106-py3-none-manylinux1_x86_64.whl (196.0 MB)\n",
            "Collecting nvidia-nccl-cu12==2.19.3 (from torch==2.2.1->torchvision)\n",
            "  Using cached nvidia_nccl_cu12-2.19.3-py3-none-manylinux1_x86_64.whl (166.0 MB)\n",
            "Collecting nvidia-nvtx-cu12==12.1.105 (from torch==2.2.1->torchvision)\n",
            "  Using cached nvidia_nvtx_cu12-12.1.105-py3-none-manylinux1_x86_64.whl (99 kB)\n",
            "Requirement already satisfied: triton==2.2.0 in /usr/local/lib/python3.10/dist-packages (from torch==2.2.1->torchvision) (2.2.0)\n",
            "Collecting nvidia-nvjitlink-cu12 (from nvidia-cusolver-cu12==11.4.5.107->torch==2.2.1->torchvision)\n",
            "  Using cached nvidia_nvjitlink_cu12-12.4.127-py3-none-manylinux2014_x86_64.whl (21.1 MB)\n",
            "Requirement already satisfied: requests in /usr/local/lib/python3.10/dist-packages (from lie_learn==0.0.1.post1) (2.31.0)\n",
            "Requirement already satisfied: scipy in /usr/local/lib/python3.10/dist-packages (from lie_learn==0.0.1.post1) (1.11.4)\n",
            "Requirement already satisfied: joblib in /usr/local/lib/python3.10/dist-packages (from escnn) (1.4.0)\n",
            "Collecting pymanopt (from escnn)\n",
            "  Downloading pymanopt-2.2.0-py3-none-any.whl (71 kB)\n",
            "\u001b[2K     \u001b[90m━━━━━━━━━━━━━━━━━━━━━━━━━━━━━━━━━━━━━━━━\u001b[0m \u001b[32m71.8/71.8 kB\u001b[0m \u001b[31m9.6 MB/s\u001b[0m eta \u001b[36m0:00:00\u001b[0m\n",
            "\u001b[?25hRequirement already satisfied: autograd in /usr/local/lib/python3.10/dist-packages (from escnn) (1.6.2)\n",
            "Collecting py3nj (from escnn)\n",
            "  Downloading py3nj-0.2.1.tar.gz (49 kB)\n",
            "\u001b[2K     \u001b[90m━━━━━━━━━━━━━━━━━━━━━━━━━━━━━━━━━━━━━━━━\u001b[0m \u001b[32m50.0/50.0 kB\u001b[0m \u001b[31m6.5 MB/s\u001b[0m eta \u001b[36m0:00:00\u001b[0m\n",
            "\u001b[?25h  Installing build dependencies ... \u001b[?25l\u001b[?25hdone\n",
            "  Getting requirements to build wheel ... \u001b[?25l\u001b[?25hdone\n",
            "  Installing backend dependencies ... \u001b[?25l\u001b[?25hdone\n",
            "  Preparing metadata (pyproject.toml) ... \u001b[?25l\u001b[?25hdone\n",
            "Requirement already satisfied: PyYAML<8.0,>=5.4 in /usr/local/lib/python3.10/dist-packages (from lightning) (6.0.1)\n",
            "Collecting lightning-utilities<2.0,>=0.8.0 (from lightning)\n",
            "  Downloading lightning_utilities-0.11.2-py3-none-any.whl (26 kB)\n",
            "Requirement already satisfied: packaging<25.0,>=20.0 in /usr/local/lib/python3.10/dist-packages (from lightning) (24.0)\n",
            "Collecting torchmetrics<3.0,>=0.7.0 (from lightning)\n",
            "  Downloading torchmetrics-1.3.2-py3-none-any.whl (841 kB)\n",
            "\u001b[2K     \u001b[90m━━━━━━━━━━━━━━━━━━━━━━━━━━━━━━━━━━━━━━━━\u001b[0m \u001b[32m841.5/841.5 kB\u001b[0m \u001b[31m30.6 MB/s\u001b[0m eta \u001b[36m0:00:00\u001b[0m\n",
            "\u001b[?25hRequirement already satisfied: tqdm<6.0,>=4.57.0 in /usr/local/lib/python3.10/dist-packages (from lightning) (4.66.2)\n",
            "Collecting pytorch-lightning (from lightning)\n",
            "  Downloading pytorch_lightning-2.2.2-py3-none-any.whl (801 kB)\n",
            "\u001b[2K     \u001b[90m━━━━━━━━━━━━━━━━━━━━━━━━━━━━━━━━━━━━━━━━\u001b[0m \u001b[32m801.9/801.9 kB\u001b[0m \u001b[31m31.8 MB/s\u001b[0m eta \u001b[36m0:00:00\u001b[0m\n",
            "\u001b[?25hRequirement already satisfied: Click!=8.0.0,>=7.1 in /usr/local/lib/python3.10/dist-packages (from wandb) (8.1.7)\n",
            "Collecting GitPython!=3.1.29,>=1.0.0 (from wandb)\n",
            "  Downloading GitPython-3.1.43-py3-none-any.whl (207 kB)\n",
            "\u001b[2K     \u001b[90m━━━━━━━━━━━━━━━━━━━━━━━━━━━━━━━━━━━━━━━━\u001b[0m \u001b[32m207.3/207.3 kB\u001b[0m \u001b[31m27.1 MB/s\u001b[0m eta \u001b[36m0:00:00\u001b[0m\n",
            "\u001b[?25hRequirement already satisfied: psutil>=5.0.0 in /usr/local/lib/python3.10/dist-packages (from wandb) (5.9.5)\n",
            "Collecting sentry-sdk>=1.0.0 (from wandb)\n",
            "  Downloading sentry_sdk-1.45.0-py2.py3-none-any.whl (267 kB)\n",
            "\u001b[2K     \u001b[90m━━━━━━━━━━━━━━━━━━━━━━━━━━━━━━━━━━━━━━━━\u001b[0m \u001b[32m267.1/267.1 kB\u001b[0m \u001b[31m33.7 MB/s\u001b[0m eta \u001b[36m0:00:00\u001b[0m\n",
            "\u001b[?25hCollecting docker-pycreds>=0.4.0 (from wandb)\n",
            "  Downloading docker_pycreds-0.4.0-py2.py3-none-any.whl (9.0 kB)\n",
            "Collecting setproctitle (from wandb)\n",
            "  Downloading setproctitle-1.3.3-cp310-cp310-manylinux_2_5_x86_64.manylinux1_x86_64.manylinux_2_17_x86_64.manylinux2014_x86_64.whl (30 kB)\n",
            "Requirement already satisfied: setuptools in /usr/local/lib/python3.10/dist-packages (from wandb) (67.7.2)\n",
            "Requirement already satisfied: appdirs>=1.4.3 in /usr/local/lib/python3.10/dist-packages (from wandb) (1.4.4)\n",
            "Requirement already satisfied: protobuf!=4.21.0,<5,>=3.19.0 in /usr/local/lib/python3.10/dist-packages (from wandb) (3.20.3)\n",
            "Collecting pyhessian@ git+https://github.com/dgcnz/PyHessian (from neuralyze==0.1.0)\n",
            "  Cloning https://github.com/dgcnz/PyHessian to /tmp/pip-install-dyvkuzor/pyhessian_7f6c912376674f71ac06bac2f4fd9690\n",
            "  Running command git clone --filter=blob:none --quiet https://github.com/dgcnz/PyHessian /tmp/pip-install-dyvkuzor/pyhessian_7f6c912376674f71ac06bac2f4fd9690\n",
            "  Resolved https://github.com/dgcnz/PyHessian to commit dbfb016793399c3bed301a48f3d1e7fb62461b21\n",
            "  Preparing metadata (setup.py) ... \u001b[?25l\u001b[?25hdone\n",
            "INFO: pip is looking at multiple versions of neuralyze to determine which version is compatible with other requirements. This could take a while.\n",
            "Collecting lightning\n",
            "  Downloading lightning-2.2.1-py3-none-any.whl (2.1 MB)\n",
            "\u001b[2K     \u001b[90m━━━━━━━━━━━━━━━━━━━━━━━━━━━━━━━━━━━━━━━━\u001b[0m \u001b[32m2.1/2.1 MB\u001b[0m \u001b[31m40.5 MB/s\u001b[0m eta \u001b[36m0:00:00\u001b[0m\n",
            "\u001b[?25h  Downloading lightning-2.2.0.post0-py3-none-any.whl (2.1 MB)\n",
            "\u001b[2K     \u001b[90m━━━━━━━━━━━━━━━━━━━━━━━━━━━━━━━━━━━━━━━━\u001b[0m \u001b[32m2.1/2.1 MB\u001b[0m \u001b[31m47.1 MB/s\u001b[0m eta \u001b[36m0:00:00\u001b[0m\n",
            "\u001b[?25h  Downloading lightning-2.2.0-py3-none-any.whl (2.1 MB)\n",
            "\u001b[2K     \u001b[90m━━━━━━━━━━━━━━━━━━━━━━━━━━━━━━━━━━━━━━━━\u001b[0m \u001b[32m2.1/2.1 MB\u001b[0m \u001b[31m53.1 MB/s\u001b[0m eta \u001b[36m0:00:00\u001b[0m\n",
            "\u001b[?25h  Downloading lightning-2.1.4-py3-none-any.whl (2.0 MB)\n",
            "\u001b[2K     \u001b[90m━━━━━━━━━━━━━━━━━━━━━━━━━━━━━━━━━━━━━━━━\u001b[0m \u001b[32m2.0/2.0 MB\u001b[0m \u001b[31m56.0 MB/s\u001b[0m eta \u001b[36m0:00:00\u001b[0m\n",
            "\u001b[?25h  Downloading lightning-2.1.3-py3-none-any.whl (2.0 MB)\n",
            "\u001b[2K     \u001b[90m━━━━━━━━━━━━━━━━━━━━━━━━━━━━━━━━━━━━━━━━\u001b[0m \u001b[32m2.0/2.0 MB\u001b[0m \u001b[31m62.7 MB/s\u001b[0m eta \u001b[36m0:00:00\u001b[0m\n",
            "\u001b[?25h  Downloading lightning-2.1.2-py3-none-any.whl (2.0 MB)\n",
            "\u001b[2K     \u001b[90m━━━━━━━━━━━━━━━━━━━━━━━━━━━━━━━━━━━━━━━━\u001b[0m \u001b[32m2.0/2.0 MB\u001b[0m \u001b[31m64.7 MB/s\u001b[0m eta \u001b[36m0:00:00\u001b[0m\n",
            "\u001b[?25h  Downloading lightning-2.1.1-py3-none-any.whl (2.0 MB)\n",
            "\u001b[2K     \u001b[90m━━━━━━━━━━━━━━━━━━━━━━━━━━━━━━━━━━━━━━━━\u001b[0m \u001b[32m2.0/2.0 MB\u001b[0m \u001b[31m59.5 MB/s\u001b[0m eta \u001b[36m0:00:00\u001b[0m\n",
            "\u001b[?25hINFO: pip is looking at multiple versions of neuralyze to determine which version is compatible with other requirements. This could take a while.\n",
            "  Downloading lightning-2.1.0-py3-none-any.whl (2.0 MB)\n",
            "\u001b[2K     \u001b[90m━━━━━━━━━━━━━━━━━━━━━━━━━━━━━━━━━━━━━━━━\u001b[0m \u001b[32m2.0/2.0 MB\u001b[0m \u001b[31m76.3 MB/s\u001b[0m eta \u001b[36m0:00:00\u001b[0m\n",
            "\u001b[?25h  Downloading lightning-2.0.9.post0-py3-none-any.whl (1.9 MB)\n",
            "\u001b[2K     \u001b[90m━━━━━━━━━━━━━━━━━━━━━━━━━━━━━━━━━━━━━━━━\u001b[0m \u001b[32m1.9/1.9 MB\u001b[0m \u001b[31m79.7 MB/s\u001b[0m eta \u001b[36m0:00:00\u001b[0m\n",
            "\u001b[?25hCollecting arrow<3.0,>=1.2.0 (from lightning)\n",
            "  Downloading arrow-1.3.0-py3-none-any.whl (66 kB)\n",
            "\u001b[2K     \u001b[90m━━━━━━━━━━━━━━━━━━━━━━━━━━━━━━━━━━━━━━━━\u001b[0m \u001b[32m66.4/66.4 kB\u001b[0m \u001b[31m10.2 MB/s\u001b[0m eta \u001b[36m0:00:00\u001b[0m\n",
            "\u001b[?25hCollecting backoff<4.0,>=2.2.1 (from lightning)\n",
            "  Downloading backoff-2.2.1-py3-none-any.whl (15 kB)\n",
            "Requirement already satisfied: beautifulsoup4<6.0,>=4.8.0 in /usr/local/lib/python3.10/dist-packages (from lightning) (4.12.3)\n",
            "Collecting croniter<1.5.0,>=1.3.0 (from lightning)\n",
            "  Downloading croniter-1.4.1-py2.py3-none-any.whl (19 kB)\n",
            "Collecting dateutils<2.0 (from lightning)\n",
            "  Downloading dateutils-0.6.12-py2.py3-none-any.whl (5.7 kB)\n",
            "Collecting deepdiff<8.0,>=5.7.0 (from lightning)\n",
            "  Downloading deepdiff-7.0.1-py3-none-any.whl (80 kB)\n",
            "\u001b[2K     \u001b[90m━━━━━━━━━━━━━━━━━━━━━━━━━━━━━━━━━━━━━━━━\u001b[0m \u001b[32m80.8/80.8 kB\u001b[0m \u001b[31m10.6 MB/s\u001b[0m eta \u001b[36m0:00:00\u001b[0m\n",
            "\u001b[?25hCollecting fastapi<2.0,>=0.92.0 (from lightning)\n",
            "  Downloading fastapi-0.110.2-py3-none-any.whl (91 kB)\n",
            "\u001b[2K     \u001b[90m━━━━━━━━━━━━━━━━━━━━━━━━━━━━━━━━━━━━━━━━\u001b[0m \u001b[32m91.9/91.9 kB\u001b[0m \u001b[31m12.9 MB/s\u001b[0m eta \u001b[36m0:00:00\u001b[0m\n",
            "\u001b[?25hCollecting inquirer<5.0,>=2.10.0 (from lightning)\n",
            "  Downloading inquirer-3.2.4-py3-none-any.whl (18 kB)\n",
            "Collecting lightning-cloud>=0.5.38 (from lightning)\n",
            "  Downloading lightning_cloud-0.5.67-py3-none-any.whl (1.1 MB)\n",
            "\u001b[2K     \u001b[90m━━━━━━━━━━━━━━━━━━━━━━━━━━━━━━━━━━━━━━━━\u001b[0m \u001b[32m1.1/1.1 MB\u001b[0m \u001b[31m71.7 MB/s\u001b[0m eta \u001b[36m0:00:00\u001b[0m\n",
            "\u001b[?25hCollecting pydantic<2.2.0,>=1.7.4 (from lightning)\n",
            "  Downloading pydantic-2.1.1-py3-none-any.whl (370 kB)\n",
            "\u001b[2K     \u001b[90m━━━━━━━━━━━━━━━━━━━━━━━━━━━━━━━━━━━━━━━━\u001b[0m \u001b[32m370.9/370.9 kB\u001b[0m \u001b[31m38.6 MB/s\u001b[0m eta \u001b[36m0:00:00\u001b[0m\n",
            "\u001b[?25hCollecting python-multipart<2.0,>=0.0.5 (from lightning)\n",
            "  Downloading python_multipart-0.0.9-py3-none-any.whl (22 kB)\n",
            "Requirement already satisfied: rich<15.0,>=12.3.0 in /usr/local/lib/python3.10/dist-packages (from lightning) (13.7.1)\n",
            "Collecting starlette (from lightning)\n",
            "  Downloading starlette-0.37.2-py3-none-any.whl (71 kB)\n",
            "\u001b[2K     \u001b[90m━━━━━━━━━━━━━━━━━━━━━━━━━━━━━━━━━━━━━━━━\u001b[0m \u001b[32m71.9/71.9 kB\u001b[0m \u001b[31m10.6 MB/s\u001b[0m eta \u001b[36m0:00:00\u001b[0m\n",
            "\u001b[?25hCollecting starsessions<2.0,>=1.2.1 (from lightning)\n",
            "  Downloading starsessions-1.3.0-py3-none-any.whl (10 kB)\n",
            "Requirement already satisfied: traitlets<7.0,>=5.3.0 in /usr/local/lib/python3.10/dist-packages (from lightning) (5.7.1)\n",
            "Requirement already satisfied: urllib3<4.0 in /usr/local/lib/python3.10/dist-packages (from lightning) (2.0.7)\n",
            "Collecting uvicorn<2.0 (from lightning)\n",
            "  Downloading uvicorn-0.29.0-py3-none-any.whl (60 kB)\n",
            "\u001b[2K     \u001b[90m━━━━━━━━━━━━━━━━━━━━━━━━━━━━━━━━━━━━━━━━\u001b[0m \u001b[32m60.8/60.8 kB\u001b[0m \u001b[31m9.1 MB/s\u001b[0m eta \u001b[36m0:00:00\u001b[0m\n",
            "\u001b[?25hRequirement already satisfied: websocket-client<3.0 in /usr/local/lib/python3.10/dist-packages (from lightning) (1.7.0)\n",
            "Collecting websockets<13.0 (from lightning)\n",
            "  Downloading websockets-12.0-cp310-cp310-manylinux_2_5_x86_64.manylinux1_x86_64.manylinux_2_17_x86_64.manylinux2014_x86_64.whl (130 kB)\n",
            "\u001b[2K     \u001b[90m━━━━━━━━━━━━━━━━━━━━━━━━━━━━━━━━━━━━━━━━\u001b[0m \u001b[32m130.2/130.2 kB\u001b[0m \u001b[31m17.4 MB/s\u001b[0m eta \u001b[36m0:00:00\u001b[0m\n",
            "\u001b[?25hCollecting lightning\n",
            "  Downloading lightning-2.0.9-py3-none-any.whl (1.9 MB)\n",
            "\u001b[2K     \u001b[90m━━━━━━━━━━━━━━━━━━━━━━━━━━━━━━━━━━━━━━━━\u001b[0m \u001b[32m1.9/1.9 MB\u001b[0m \u001b[31m75.7 MB/s\u001b[0m eta \u001b[36m0:00:00\u001b[0m\n",
            "\u001b[?25h  Downloading lightning-2.0.8-py3-none-any.whl (1.9 MB)\n",
            "\u001b[2K     \u001b[90m━━━━━━━━━━━━━━━━━━━━━━━━━━━━━━━━━━━━━━━━\u001b[0m \u001b[32m1.9/1.9 MB\u001b[0m \u001b[31m73.7 MB/s\u001b[0m eta \u001b[36m0:00:00\u001b[0m\n",
            "\u001b[?25h  Downloading lightning-2.0.7-py3-none-any.whl (1.9 MB)\n",
            "\u001b[2K     \u001b[90m━━━━━━━━━━━━━━━━━━━━━━━━━━━━━━━━━━━━━━━━\u001b[0m \u001b[32m1.9/1.9 MB\u001b[0m \u001b[31m81.0 MB/s\u001b[0m eta \u001b[36m0:00:00\u001b[0m\n",
            "\u001b[?25hINFO: This is taking longer than usual. You might need to provide the dependency resolver with stricter constraints to reduce runtime. See https://pip.pypa.io/warnings/backtracking for guidance. If you want to abort this run, press Ctrl + C.\n",
            "  Downloading lightning-2.0.6-py3-none-any.whl (1.9 MB)\n",
            "\u001b[2K     \u001b[90m━━━━━━━━━━━━━━━━━━━━━━━━━━━━━━━━━━━━━━━━\u001b[0m \u001b[32m1.9/1.9 MB\u001b[0m \u001b[31m83.2 MB/s\u001b[0m eta \u001b[36m0:00:00\u001b[0m\n",
            "\u001b[?25hCollecting pydantic<2.1.0,>=1.7.4 (from lightning)\n",
            "  Downloading pydantic-2.0.3-py3-none-any.whl (364 kB)\n",
            "\u001b[2K     \u001b[90m━━━━━━━━━━━━━━━━━━━━━━━━━━━━━━━━━━━━━━━━\u001b[0m \u001b[32m364.0/364.0 kB\u001b[0m \u001b[31m40.3 MB/s\u001b[0m eta \u001b[36m0:00:00\u001b[0m\n",
            "\u001b[?25hCollecting lightning\n",
            "  Downloading lightning-2.0.5-py3-none-any.whl (1.9 MB)\n",
            "\u001b[2K     \u001b[90m━━━━━━━━━━━━━━━━━━━━━━━━━━━━━━━━━━━━━━━━\u001b[0m \u001b[32m1.9/1.9 MB\u001b[0m \u001b[31m75.4 MB/s\u001b[0m eta \u001b[36m0:00:00\u001b[0m\n",
            "\u001b[?25hCollecting pydantic<2.0.0,>=1.7.4 (from lightning)\n",
            "  Downloading pydantic-1.10.15-cp310-cp310-manylinux_2_17_x86_64.manylinux2014_x86_64.whl (3.1 MB)\n",
            "\u001b[2K     \u001b[90m━━━━━━━━━━━━━━━━━━━━━━━━━━━━━━━━━━━━━━━━\u001b[0m \u001b[32m3.1/3.1 MB\u001b[0m \u001b[31m84.0 MB/s\u001b[0m eta \u001b[36m0:00:00\u001b[0m\n",
            "\u001b[?25hCollecting lightning\n",
            "  Downloading lightning-2.0.4-py3-none-any.whl (1.8 MB)\n",
            "\u001b[2K     \u001b[90m━━━━━━━━━━━━━━━━━━━━━━━━━━━━━━━━━━━━━━━━\u001b[0m \u001b[32m1.8/1.8 MB\u001b[0m \u001b[31m20.1 MB/s\u001b[0m eta \u001b[36m0:00:00\u001b[0m\n",
            "\u001b[?25hCollecting croniter<1.4.0,>=1.3.0 (from lightning)\n",
            "  Downloading croniter-1.3.15-py2.py3-none-any.whl (19 kB)\n",
            "Requirement already satisfied: pydantic<4.0,>=1.7.4 in /usr/local/lib/python3.10/dist-packages (from lightning) (2.7.0)\n",
            "Collecting websockets<12.0 (from lightning)\n",
            "  Downloading websockets-11.0.3-cp310-cp310-manylinux_2_5_x86_64.manylinux1_x86_64.manylinux_2_17_x86_64.manylinux2014_x86_64.whl (129 kB)\n",
            "\u001b[2K     \u001b[90m━━━━━━━━━━━━━━━━━━━━━━━━━━━━━━━━━━━━━━━━\u001b[0m \u001b[32m129.9/129.9 kB\u001b[0m \u001b[31m18.3 MB/s\u001b[0m eta \u001b[36m0:00:00\u001b[0m\n",
            "\u001b[?25hCollecting lightning\n",
            "  Downloading lightning-2.0.3-py3-none-any.whl (1.8 MB)\n",
            "\u001b[2K     \u001b[90m━━━━━━━━━━━━━━━━━━━━━━━━━━━━━━━━━━━━━━━━\u001b[0m \u001b[32m1.8/1.8 MB\u001b[0m \u001b[31m82.6 MB/s\u001b[0m eta \u001b[36m0:00:00\u001b[0m\n",
            "\u001b[?25hCollecting fastapi<0.89.0,>=0.69.0 (from lightning)\n",
            "  Downloading fastapi-0.88.0-py3-none-any.whl (55 kB)\n",
            "\u001b[2K     \u001b[90m━━━━━━━━━━━━━━━━━━━━━━━━━━━━━━━━━━━━━━━━\u001b[0m \u001b[32m55.5/55.5 kB\u001b[0m \u001b[31m7.6 MB/s\u001b[0m eta \u001b[36m0:00:00\u001b[0m\n",
            "\u001b[?25hCollecting lightning\n",
            "  Downloading lightning-2.0.2-py3-none-any.whl (1.8 MB)\n",
            "\u001b[2K     \u001b[90m━━━━━━━━━━━━━━━━━━━━━━━━━━━━━━━━━━━━━━━━\u001b[0m \u001b[32m1.8/1.8 MB\u001b[0m \u001b[31m79.7 MB/s\u001b[0m eta \u001b[36m0:00:00\u001b[0m\n",
            "\u001b[?25h  Downloading lightning-2.0.1.post0-py3-none-any.whl (1.8 MB)\n",
            "\u001b[2K     \u001b[90m━━━━━━━━━━━━━━━━━━━━━━━━━━━━━━━━━━━━━━━━\u001b[0m \u001b[32m1.8/1.8 MB\u001b[0m \u001b[31m79.6 MB/s\u001b[0m eta \u001b[36m0:00:00\u001b[0m\n",
            "\u001b[?25h  Downloading lightning-2.0.1-py3-none-any.whl (1.8 MB)\n",
            "\u001b[2K     \u001b[90m━━━━━━━━━━━━━━━━━━━━━━━━━━━━━━━━━━━━━━━━\u001b[0m \u001b[32m1.8/1.8 MB\u001b[0m \u001b[31m81.0 MB/s\u001b[0m eta \u001b[36m0:00:00\u001b[0m\n",
            "\u001b[?25h  Downloading lightning-2.0.0-py3-none-any.whl (1.8 MB)\n",
            "\u001b[2K     \u001b[90m━━━━━━━━━━━━━━━━━━━━━━━━━━━━━━━━━━━━━━━━\u001b[0m \u001b[32m1.8/1.8 MB\u001b[0m \u001b[31m42.3 MB/s\u001b[0m eta \u001b[36m0:00:00\u001b[0m\n",
            "\u001b[?25h  Downloading lightning-1.9.5-py3-none-any.whl (2.1 MB)\n",
            "\u001b[2K     \u001b[90m━━━━━━━━━━━━━━━━━━━━━━━━━━━━━━━━━━━━━━━━\u001b[0m \u001b[32m2.1/2.1 MB\u001b[0m \u001b[31m21.2 MB/s\u001b[0m eta \u001b[36m0:00:00\u001b[0m\n",
            "\u001b[?25h  Downloading lightning-1.9.4-py3-none-any.whl (2.1 MB)\n",
            "\u001b[2K     \u001b[90m━━━━━━━━━━━━━━━━━━━━━━━━━━━━━━━━━━━━━━━━\u001b[0m \u001b[32m2.1/2.1 MB\u001b[0m \u001b[31m20.8 MB/s\u001b[0m eta \u001b[36m0:00:00\u001b[0m\n",
            "\u001b[?25h  Downloading lightning-1.9.3-py3-none-any.whl (2.1 MB)\n",
            "\u001b[2K     \u001b[90m━━━━━━━━━━━━━━━━━━━━━━━━━━━━━━━━━━━━━━━━\u001b[0m \u001b[32m2.1/2.1 MB\u001b[0m \u001b[31m21.3 MB/s\u001b[0m eta \u001b[36m0:00:00\u001b[0m\n",
            "\u001b[?25h  Downloading lightning-1.9.2-py3-none-any.whl (2.1 MB)\n",
            "\u001b[2K     \u001b[90m━━━━━━━━━━━━━━━━━━━━━━━━━━━━━━━━━━━━━━━━\u001b[0m \u001b[32m2.1/2.1 MB\u001b[0m \u001b[31m14.7 MB/s\u001b[0m eta \u001b[36m0:00:00\u001b[0m\n",
            "\u001b[?25h  Downloading lightning-1.9.1-py3-none-any.whl (2.1 MB)\n",
            "\u001b[2K     \u001b[90m━━━━━━━━━━━━━━━━━━━━━━━━━━━━━━━━━━━━━━━━\u001b[0m \u001b[32m2.1/2.1 MB\u001b[0m \u001b[31m14.9 MB/s\u001b[0m eta \u001b[36m0:00:00\u001b[0m\n",
            "\u001b[?25h  Downloading lightning-1.9.0-py3-none-any.whl (2.1 MB)\n",
            "\u001b[2K     \u001b[90m━━━━━━━━━━━━━━━━━━━━━━━━━━━━━━━━━━━━━━━━\u001b[0m \u001b[32m2.1/2.1 MB\u001b[0m \u001b[31m66.0 MB/s\u001b[0m eta \u001b[36m0:00:00\u001b[0m\n",
            "\u001b[?25hCollecting packaging (from lightning)\n",
            "  Downloading packaging-22.0-py3-none-any.whl (42 kB)\n",
            "\u001b[2K     \u001b[90m━━━━━━━━━━━━━━━━━━━━━━━━━━━━━━━━━━━━━━━━\u001b[0m \u001b[32m42.6/42.6 kB\u001b[0m \u001b[31m5.4 MB/s\u001b[0m eta \u001b[36m0:00:00\u001b[0m\n",
            "\u001b[?25hCollecting lightning\n",
            "  Downloading lightning-1.8.6-py3-none-any.whl (1.8 MB)\n",
            "\u001b[2K     \u001b[90m━━━━━━━━━━━━━━━━━━━━━━━━━━━━━━━━━━━━━━━━\u001b[0m \u001b[32m1.8/1.8 MB\u001b[0m \u001b[31m62.6 MB/s\u001b[0m eta \u001b[36m0:00:00\u001b[0m\n",
            "\u001b[?25hRequirement already satisfied: aiohttp>=3.8.0 in /usr/local/lib/python3.10/dist-packages (from lightning) (3.9.5)\n",
            "Collecting tensorboardX>=2.2 (from lightning)\n",
            "  Downloading tensorboardX-2.6.2.2-py2.py3-none-any.whl (101 kB)\n",
            "\u001b[2K     \u001b[90m━━━━━━━━━━━━━━━━━━━━━━━━━━━━━━━━━━━━━━━━\u001b[0m \u001b[32m101.7/101.7 kB\u001b[0m \u001b[31m14.4 MB/s\u001b[0m eta \u001b[36m0:00:00\u001b[0m\n",
            "\u001b[?25hCollecting lightning\n",
            "  Downloading lightning-1.8.5.post0-py3-none-any.whl (1.8 MB)\n",
            "\u001b[2K     \u001b[90m━━━━━━━━━━━━━━━━━━━━━━━━━━━━━━━━━━━━━━━━\u001b[0m \u001b[32m1.8/1.8 MB\u001b[0m \u001b[31m19.7 MB/s\u001b[0m eta \u001b[36m0:00:00\u001b[0m\n",
            "\u001b[?25h  Downloading lightning-1.8.5-py3-none-any.whl (1.8 MB)\n",
            "\u001b[2K     \u001b[90m━━━━━━━━━━━━━━━━━━━━━━━━━━━━━━━━━━━━━━━━\u001b[0m \u001b[32m1.8/1.8 MB\u001b[0m \u001b[31m21.4 MB/s\u001b[0m eta \u001b[36m0:00:00\u001b[0m\n",
            "\u001b[?25h  Downloading lightning-1.8.4.post0-py3-none-any.whl (1.8 MB)\n",
            "\u001b[2K     \u001b[90m━━━━━━━━━━━━━━━━━━━━━━━━━━━━━━━━━━━━━━━━\u001b[0m \u001b[32m1.8/1.8 MB\u001b[0m \u001b[31m23.9 MB/s\u001b[0m eta \u001b[36m0:00:00\u001b[0m\n",
            "\u001b[?25h  Downloading lightning-1.8.4-py3-none-any.whl (1.8 MB)\n",
            "\u001b[2K     \u001b[90m━━━━━━━━━━━━━━━━━━━━━━━━━━━━━━━━━━━━━━━━\u001b[0m \u001b[32m1.8/1.8 MB\u001b[0m \u001b[31m21.5 MB/s\u001b[0m eta \u001b[36m0:00:00\u001b[0m\n",
            "\u001b[?25hCollecting s3fs>=2022.5.0 (from lightning)\n",
            "  Downloading s3fs-2024.3.1-py3-none-any.whl (29 kB)\n",
            "Collecting lightning\n",
            "  Downloading lightning-1.8.3.post2-py3-none-any.whl (1.8 MB)\n",
            "\u001b[2K     \u001b[90m━━━━━━━━━━━━━━━━━━━━━━━━━━━━━━━━━━━━━━━━\u001b[0m \u001b[32m1.8/1.8 MB\u001b[0m \u001b[31m20.6 MB/s\u001b[0m eta \u001b[36m0:00:00\u001b[0m\n",
            "\u001b[?25hCollecting lightning-utilities==0.3.* (from lightning)\n",
            "  Downloading lightning_utilities-0.3.0-py3-none-any.whl (15 kB)\n",
            "Collecting lightning-api-access>=0.0.1 (from lightning)\n",
            "  Downloading lightning_api_access-0.0.5-py3-none-any.whl (888 kB)\n",
            "\u001b[2K     \u001b[90m━━━━━━━━━━━━━━━━━━━━━━━━━━━━━━━━━━━━━━━━\u001b[0m \u001b[32m888.9/888.9 kB\u001b[0m \u001b[31m60.3 MB/s\u001b[0m eta \u001b[36m0:00:00\u001b[0m\n",
            "\u001b[?25hCollecting fire (from lightning-utilities==0.3.*->lightning)\n",
            "  Downloading fire-0.6.0.tar.gz (88 kB)\n",
            "\u001b[2K     \u001b[90m━━━━━━━━━━━━━━━━━━━━━━━━━━━━━━━━━━━━━━━━\u001b[0m \u001b[32m88.4/88.4 kB\u001b[0m \u001b[31m12.8 MB/s\u001b[0m eta \u001b[36m0:00:00\u001b[0m\n",
            "\u001b[?25h  Preparing metadata (setup.py) ... \u001b[?25l\u001b[?25hdone\n",
            "Collecting lightning\n",
            "  Downloading lightning-1.8.3.post1-py3-none-any.whl (1.7 MB)\n",
            "\u001b[2K     \u001b[90m━━━━━━━━━━━━━━━━━━━━━━━━━━━━━━━━━━━━━━━━\u001b[0m \u001b[32m1.7/1.7 MB\u001b[0m \u001b[31m17.9 MB/s\u001b[0m eta \u001b[36m0:00:00\u001b[0m\n",
            "\u001b[?25h  Downloading lightning-1.8.3.post0-py3-none-any.whl (1.7 MB)\n",
            "\u001b[2K     \u001b[90m━━━━━━━━━━━━━━━━━━━━━━━━━━━━━━━━━━━━━━━━\u001b[0m \u001b[32m1.7/1.7 MB\u001b[0m \u001b[31m22.7 MB/s\u001b[0m eta \u001b[36m0:00:00\u001b[0m\n",
            "\u001b[?25h  Downloading lightning-1.8.3-py3-none-any.whl (1.7 MB)\n",
            "\u001b[2K     \u001b[90m━━━━━━━━━━━━━━━━━━━━━━━━━━━━━━━━━━━━━━━━\u001b[0m \u001b[32m1.7/1.7 MB\u001b[0m \u001b[31m21.3 MB/s\u001b[0m eta \u001b[36m0:00:00\u001b[0m\n",
            "\u001b[?25h  Downloading lightning-1.8.2-py3-none-any.whl (1.7 MB)\n",
            "\u001b[2K     \u001b[90m━━━━━━━━━━━━━━━━━━━━━━━━━━━━━━━━━━━━━━━━\u001b[0m \u001b[32m1.7/1.7 MB\u001b[0m \u001b[31m21.2 MB/s\u001b[0m eta \u001b[36m0:00:00\u001b[0m\n",
            "\u001b[?25hRequirement already satisfied: tensorboard>=2.9.1 in /usr/local/lib/python3.10/dist-packages (from lightning) (2.15.2)\n",
            "  Downloading lightning-1.8.1-py3-none-any.whl (1.7 MB)\n",
            "\u001b[2K     \u001b[90m━━━━━━━━━━━━━━━━━━━━━━━━━━━━━━━━━━━━━━━━\u001b[0m \u001b[32m1.7/1.7 MB\u001b[0m \u001b[31m21.9 MB/s\u001b[0m eta \u001b[36m0:00:00\u001b[0m\n",
            "\u001b[?25h  Downloading lightning-1.8.0.post1-py3-none-any.whl (1.6 MB)\n",
            "\u001b[2K     \u001b[90m━━━━━━━━━━━━━━━━━━━━━━━━━━━━━━━━━━━━━━━━\u001b[0m \u001b[32m1.6/1.6 MB\u001b[0m \u001b[31m15.7 MB/s\u001b[0m eta \u001b[36m0:00:00\u001b[0m\n",
            "\u001b[?25hCollecting lightning-lite (from lightning)\n",
            "  Downloading lightning_lite-1.8.6-py3-none-any.whl (136 kB)\n",
            "\u001b[2K     \u001b[90m━━━━━━━━━━━━━━━━━━━━━━━━━━━━━━━━━━━━━━━━\u001b[0m \u001b[32m136.7/136.7 kB\u001b[0m \u001b[31m16.5 MB/s\u001b[0m eta \u001b[36m0:00:00\u001b[0m\n",
            "\u001b[?25hCollecting escnn\n",
            "  Downloading escnn-1.0.10-py3-none-any.whl (367 kB)\n",
            "\u001b[2K     \u001b[90m━━━━━━━━━━━━━━━━━━━━━━━━━━━━━━━━━━━━━━━━\u001b[0m \u001b[32m368.0/368.0 kB\u001b[0m \u001b[31m33.0 MB/s\u001b[0m eta \u001b[36m0:00:00\u001b[0m\n",
            "\u001b[?25h  Downloading escnn-1.0.8-py3-none-any.whl (365 kB)\n",
            "\u001b[2K     \u001b[90m━━━━━━━━━━━━━━━━━━━━━━━━━━━━━━━━━━━━━━━━\u001b[0m \u001b[32m365.4/365.4 kB\u001b[0m \u001b[31m37.1 MB/s\u001b[0m eta \u001b[36m0:00:00\u001b[0m\n",
            "\u001b[?25h  Downloading escnn-1.0.7-py3-none-any.whl (364 kB)\n",
            "\u001b[2K     \u001b[90m━━━━━━━━━━━━━━━━━━━━━━━━━━━━━━━━━━━━━━━━\u001b[0m \u001b[32m364.6/364.6 kB\u001b[0m \u001b[31m40.5 MB/s\u001b[0m eta \u001b[36m0:00:00\u001b[0m\n",
            "\u001b[?25h  Downloading escnn-1.0.4-py3-none-any.whl (360 kB)\n",
            "\u001b[2K     \u001b[90m━━━━━━━━━━━━━━━━━━━━━━━━━━━━━━━━━━━━━━━━\u001b[0m \u001b[32m360.9/360.9 kB\u001b[0m \u001b[31m39.6 MB/s\u001b[0m eta \u001b[36m0:00:00\u001b[0m\n",
            "\u001b[?25h  Downloading escnn-1.0.3-py3-none-any.whl (359 kB)\n",
            "\u001b[2K     \u001b[90m━━━━━━━━━━━━━━━━━━━━━━━━━━━━━━━━━━━━━━━━\u001b[0m \u001b[32m359.7/359.7 kB\u001b[0m \u001b[31m37.6 MB/s\u001b[0m eta \u001b[36m0:00:00\u001b[0m\n",
            "\u001b[?25h  Downloading escnn-1.0.2-py3-none-any.whl (359 kB)\n",
            "\u001b[2K     \u001b[90m━━━━━━━━━━━━━━━━━━━━━━━━━━━━━━━━━━━━━━━━\u001b[0m \u001b[32m359.9/359.9 kB\u001b[0m \u001b[31m34.3 MB/s\u001b[0m eta \u001b[36m0:00:00\u001b[0m\n",
            "\u001b[?25h  Downloading escnn-1.0.0-py3-none-any.whl (359 kB)\n",
            "\u001b[2K     \u001b[90m━━━━━━━━━━━━━━━━━━━━━━━━━━━━━━━━━━━━━━━━\u001b[0m \u001b[32m359.6/359.6 kB\u001b[0m \u001b[31m38.2 MB/s\u001b[0m eta \u001b[36m0:00:00\u001b[0m\n",
            "\u001b[?25h  Downloading escnn-0.1.9-py3-none-any.whl (353 kB)\n",
            "\u001b[2K     \u001b[90m━━━━━━━━━━━━━━━━━━━━━━━━━━━━━━━━━━━━━━━━\u001b[0m \u001b[32m353.2/353.2 kB\u001b[0m \u001b[31m37.0 MB/s\u001b[0m eta \u001b[36m0:00:00\u001b[0m\n",
            "\u001b[?25h  Downloading escnn-0.1.6-py3-none-any.whl (350 kB)\n",
            "\u001b[2K     \u001b[90m━━━━━━━━━━━━━━━━━━━━━━━━━━━━━━━━━━━━━━━━\u001b[0m \u001b[32m350.3/350.3 kB\u001b[0m \u001b[31m36.4 MB/s\u001b[0m eta \u001b[36m0:00:00\u001b[0m\n",
            "\u001b[?25h  Downloading escnn-0.1.5-py3-none-any.whl (341 kB)\n",
            "\u001b[2K     \u001b[90m━━━━━━━━━━━━━━━━━━━━━━━━━━━━━━━━━━━━━━━━\u001b[0m \u001b[32m342.0/342.0 kB\u001b[0m \u001b[31m34.5 MB/s\u001b[0m eta \u001b[36m0:00:00\u001b[0m\n",
            "\u001b[?25h  Downloading escnn-0.1.4-py3-none-any.whl (341 kB)\n",
            "\u001b[2K     \u001b[90m━━━━━━━━━━━━━━━━━━━━━━━━━━━━━━━━━━━━━━━━\u001b[0m \u001b[32m341.5/341.5 kB\u001b[0m \u001b[31m31.4 MB/s\u001b[0m eta \u001b[36m0:00:00\u001b[0m\n",
            "\u001b[?25h  Downloading escnn-0.1.3-py3-none-any.whl (341 kB)\n",
            "\u001b[2K     \u001b[90m━━━━━━━━━━━━━━━━━━━━━━━━━━━━━━━━━━━━━━━━\u001b[0m \u001b[32m341.5/341.5 kB\u001b[0m \u001b[31m32.3 MB/s\u001b[0m eta \u001b[36m0:00:00\u001b[0m\n",
            "\u001b[?25h  Downloading escnn-0.1.2-py3-none-any.whl (341 kB)\n",
            "\u001b[2K     \u001b[90m━━━━━━━━━━━━━━━━━━━━━━━━━━━━━━━━━━━━━━━━\u001b[0m \u001b[32m341.3/341.3 kB\u001b[0m \u001b[31m32.5 MB/s\u001b[0m eta \u001b[36m0:00:00\u001b[0m\n",
            "\u001b[?25h  Downloading escnn-0.1.1-py3-none-any.whl (337 kB)\n",
            "\u001b[2K     \u001b[90m━━━━━━━━━━━━━━━━━━━━━━━━━━━━━━━━━━━━━━━━\u001b[0m \u001b[32m337.5/337.5 kB\u001b[0m \u001b[31m35.5 MB/s\u001b[0m eta \u001b[36m0:00:00\u001b[0m\n",
            "\u001b[?25h  Downloading escnn-0.1-py3-none-any.whl (337 kB)\n",
            "\u001b[2K     \u001b[90m━━━━━━━━━━━━━━━━━━━━━━━━━━━━━━━━━━━━━━━━\u001b[0m \u001b[32m337.5/337.5 kB\u001b[0m \u001b[31m38.5 MB/s\u001b[0m eta \u001b[36m0:00:00\u001b[0m\n",
            "\u001b[?25hCollecting torchvision\n",
            "  Downloading torchvision-0.17.2-cp310-cp310-manylinux1_x86_64.whl (6.9 MB)\n",
            "\u001b[2K     \u001b[90m━━━━━━━━━━━━━━━━━━━━━━━━━━━━━━━━━━━━━━━━\u001b[0m \u001b[32m6.9/6.9 MB\u001b[0m \u001b[31m89.3 MB/s\u001b[0m eta \u001b[36m0:00:00\u001b[0m\n",
            "\u001b[?25hCollecting torch==2.2.2 (from torchvision)\n",
            "  Downloading torch-2.2.2-cp310-cp310-manylinux1_x86_64.whl (755.5 MB)\n",
            "\u001b[2K     \u001b[90m━━━━━━━━━━━━━━━━━━━━━━━━━━━━━━━━━━━━━━━━\u001b[0m \u001b[32m755.5/755.5 MB\u001b[0m \u001b[31m1.0 MB/s\u001b[0m eta \u001b[36m0:00:00\u001b[0m\n",
            "\u001b[?25hRequirement already satisfied: six>=1.4.0 in /usr/local/lib/python3.10/dist-packages (from docker-pycreds>=0.4.0->wandb) (1.16.0)\n",
            "Collecting gitdb<5,>=4.0.1 (from GitPython!=3.1.29,>=1.0.0->wandb)\n",
            "  Downloading gitdb-4.0.11-py3-none-any.whl (62 kB)\n",
            "\u001b[2K     \u001b[90m━━━━━━━━━━━━━━━━━━━━━━━━━━━━━━━━━━━━━━━━\u001b[0m \u001b[32m62.7/62.7 kB\u001b[0m \u001b[31m9.0 MB/s\u001b[0m eta \u001b[36m0:00:00\u001b[0m\n",
            "\u001b[?25hRequirement already satisfied: charset-normalizer<4,>=2 in /usr/local/lib/python3.10/dist-packages (from requests->lie_learn==0.0.1.post1) (3.3.2)\n",
            "Requirement already satisfied: idna<4,>=2.5 in /usr/local/lib/python3.10/dist-packages (from requests->lie_learn==0.0.1.post1) (3.7)\n",
            "Requirement already satisfied: certifi>=2017.4.17 in /usr/local/lib/python3.10/dist-packages (from requests->lie_learn==0.0.1.post1) (2024.2.2)\n",
            "Requirement already satisfied: future>=0.15.2 in /usr/local/lib/python3.10/dist-packages (from autograd->escnn) (0.18.3)\n",
            "Collecting scipy (from escnn)\n",
            "  Downloading scipy-1.9.3-cp310-cp310-manylinux_2_17_x86_64.manylinux2014_x86_64.whl (33.7 MB)\n",
            "\u001b[2K     \u001b[90m━━━━━━━━━━━━━━━━━━━━━━━━━━━━━━━━━━━━━━━━\u001b[0m \u001b[32m33.7/33.7 MB\u001b[0m \u001b[31m41.8 MB/s\u001b[0m eta \u001b[36m0:00:00\u001b[0m\n",
            "\u001b[?25hRequirement already satisfied: aiosignal>=1.1.2 in /usr/local/lib/python3.10/dist-packages (from aiohttp>=3.8.0->lightning) (1.3.1)\n",
            "Requirement already satisfied: attrs>=17.3.0 in /usr/local/lib/python3.10/dist-packages (from aiohttp>=3.8.0->lightning) (23.2.0)\n",
            "Requirement already satisfied: frozenlist>=1.1.1 in /usr/local/lib/python3.10/dist-packages (from aiohttp>=3.8.0->lightning) (1.4.1)\n",
            "Requirement already satisfied: multidict<7.0,>=4.5 in /usr/local/lib/python3.10/dist-packages (from aiohttp>=3.8.0->lightning) (6.0.5)\n",
            "Requirement already satisfied: yarl<2.0,>=1.0 in /usr/local/lib/python3.10/dist-packages (from aiohttp>=3.8.0->lightning) (1.9.4)\n",
            "Requirement already satisfied: async-timeout<5.0,>=4.0 in /usr/local/lib/python3.10/dist-packages (from aiohttp>=3.8.0->lightning) (4.0.3)\n",
            "Collecting smmap<6,>=3.0.1 (from gitdb<5,>=4.0.1->GitPython!=3.1.29,>=1.0.0->wandb)\n",
            "  Downloading smmap-5.0.1-py3-none-any.whl (24 kB)\n",
            "Requirement already satisfied: MarkupSafe>=2.0 in /usr/local/lib/python3.10/dist-packages (from jinja2->torch==2.2.1->torchvision) (2.1.5)\n",
            "Requirement already satisfied: mpmath>=0.19 in /usr/local/lib/python3.10/dist-packages (from sympy->torch==2.2.1->torchvision) (1.3.0)\n",
            "Building wheels for collected packages: neuralyze, lie_learn, py3nj, pyhessian\n",
            "  Building wheel for neuralyze (pyproject.toml) ... \u001b[?25l\u001b[?25hdone\n",
            "  Created wheel for neuralyze: filename=neuralyze-0.1.0-py3-none-any.whl size=2482 sha256=f9b970a023f3af7ff5ea061e27370a1cc44d4cd5e56d013281648355e5bc70c0\n",
            "  Stored in directory: /tmp/pip-ephem-wheel-cache-qun5947l/wheels/2f/98/dd/f535ed53b25c8ab41f965409022d32ae642af4f914d79b9133\n",
            "  Building wheel for lie_learn (pyproject.toml) ... \u001b[?25l\u001b[?25hdone\n",
            "  Created wheel for lie_learn: filename=lie_learn-0.0.1.post1-cp310-cp310-linux_x86_64.whl size=16176486 sha256=f43fac4d32c6a0a68e3348b185fa856c8d6859bc557952653ef9897b00d7c4a2\n",
            "  Stored in directory: /tmp/pip-ephem-wheel-cache-qun5947l/wheels/3f/33/85/b8725ee77011bc42d77e4e35aeca2088482c3094f5c0a650a6\n",
            "  Building wheel for py3nj (pyproject.toml) ... \u001b[?25l\u001b[?25hdone\n",
            "  Created wheel for py3nj: filename=py3nj-0.2.1-cp310-cp310-linux_x86_64.whl size=44135 sha256=46e17c3e286472f02aa3719def56746693cf4d104a8b5fd2d3499d0f2bbd08d1\n",
            "  Stored in directory: /root/.cache/pip/wheels/71/e9/70/30a34ed6dbc8b54ce93f25c091be4cf7a24319e27d953a882b\n",
            "  Building wheel for pyhessian (setup.py) ... \u001b[?25l\u001b[?25hdone\n",
            "  Created wheel for pyhessian: filename=PyHessian-0.0.1-py3-none-any.whl size=6904 sha256=d3807e809fe090c5d08678231adeef389e64c68ff12069ab477582af9b850048\n",
            "  Stored in directory: /tmp/pip-ephem-wheel-cache-qun5947l/wheels/74/16/42/56bc01710ed8ae69943a8fd6526e820b63e8732617a43d68e3\n",
            "Successfully built neuralyze lie_learn py3nj pyhessian\n",
            "Installing collected packages: smmap, setproctitle, sentry-sdk, scipy, py3nj, nvidia-nvtx-cu12, nvidia-nvjitlink-cu12, nvidia-nccl-cu12, nvidia-curand-cu12, nvidia-cufft-cu12, nvidia-cuda-runtime-cu12, nvidia-cuda-nvrtc-cu12, nvidia-cuda-cupti-cu12, nvidia-cublas-cu12, lightning-utilities, docker-pycreds, pymanopt, nvidia-cusparse-cu12, nvidia-cudnn-cu12, lie_learn, gitdb, nvidia-cusolver-cu12, GitPython, wandb, torch, torchvision, torchmetrics, pyhessian, escnn, pytorch-lightning, neuralyze, lightning\n",
            "  Attempting uninstall: scipy\n",
            "    Found existing installation: scipy 1.11.4\n",
            "    Uninstalling scipy-1.11.4:\n",
            "      Successfully uninstalled scipy-1.11.4\n",
            "  Attempting uninstall: torch\n",
            "    Found existing installation: torch 2.2.1+cu121\n",
            "    Uninstalling torch-2.2.1+cu121:\n",
            "      Successfully uninstalled torch-2.2.1+cu121\n",
            "  Attempting uninstall: torchvision\n",
            "    Found existing installation: torchvision 0.17.1+cu121\n",
            "    Uninstalling torchvision-0.17.1+cu121:\n",
            "      Successfully uninstalled torchvision-0.17.1+cu121\n",
            "\u001b[31mERROR: pip's dependency resolver does not currently take into account all the packages that are installed. This behaviour is the source of the following dependency conflicts.\n",
            "torchaudio 2.2.1+cu121 requires torch==2.2.1, but you have torch 2.2.2 which is incompatible.\n",
            "torchtext 0.17.1 requires torch==2.2.1, but you have torch 2.2.2 which is incompatible.\u001b[0m\u001b[31m\n",
            "\u001b[0mSuccessfully installed GitPython-3.1.43 docker-pycreds-0.4.0 escnn-1.0.11 gitdb-4.0.11 lie_learn-0.0.1.post1 lightning-2.2.2 lightning-utilities-0.11.2 neuralyze-0.1.0 nvidia-cublas-cu12-12.1.3.1 nvidia-cuda-cupti-cu12-12.1.105 nvidia-cuda-nvrtc-cu12-12.1.105 nvidia-cuda-runtime-cu12-12.1.105 nvidia-cudnn-cu12-8.9.2.26 nvidia-cufft-cu12-11.0.2.54 nvidia-curand-cu12-10.3.2.106 nvidia-cusolver-cu12-11.4.5.107 nvidia-cusparse-cu12-12.1.0.106 nvidia-nccl-cu12-2.19.3 nvidia-nvjitlink-cu12-12.4.127 nvidia-nvtx-cu12-12.1.105 py3nj-0.2.1 pyhessian-0.0.1 pymanopt-2.2.0 pytorch-lightning-2.2.2 scipy-1.9.3 sentry-sdk-1.45.0 setproctitle-1.3.3 smmap-5.0.1 torch-2.2.2 torchmetrics-1.3.2 torchvision-0.17.2 wandb-0.16.6\n"
          ]
        }
      ]
    },
    {
      "cell_type": "code",
      "source": [
        "import wandb\n",
        "wandb.login(key=userdata.get('wandb_key'))"
      ],
      "metadata": {
        "colab": {
          "base_uri": "https://localhost:8080/"
        },
        "id": "CDX9lHpDWOWm",
        "outputId": "b48128bb-db7b-4127-f7f2-384822f6269b"
      },
      "execution_count": null,
      "outputs": [
        {
          "output_type": "stream",
          "name": "stderr",
          "text": [
            "\u001b[34m\u001b[1mwandb\u001b[0m: W&B API key is configured. Use \u001b[1m`wandb login --relogin`\u001b[0m to force relogin\n",
            "\u001b[34m\u001b[1mwandb\u001b[0m: \u001b[33mWARNING\u001b[0m If you're specifying your api key in code, ensure this code is not shared publicly.\n",
            "\u001b[34m\u001b[1mwandb\u001b[0m: \u001b[33mWARNING\u001b[0m Consider setting the WANDB_API_KEY environment variable, or running `wandb login` from the command line.\n",
            "\u001b[34m\u001b[1mwandb\u001b[0m: Appending key for api.wandb.ai to your netrc file: /root/.netrc\n"
          ]
        },
        {
          "output_type": "execute_result",
          "data": {
            "text/plain": [
              "True"
            ]
          },
          "metadata": {},
          "execution_count": 2
        }
      ]
    },
    {
      "cell_type": "code",
      "source": [
        "import sys\n",
        "sys.path.append('../')\n",
        "\n",
        "import torch\n",
        "\n",
        "from escnn import gspaces\n",
        "from escnn import nn\n",
        "import os\n",
        "from torch import optim, utils, Tensor\n",
        "#from torchvision.datasets import MNIST\n",
        "from torchvision.transforms import ToTensor\n",
        "import lightning as L\n",
        "from lightning.pytorch.loggers import WandbLogger\n",
        "\n",
        "from src.models.image_module import ImageLightningModule\n",
        "from src.data.rotated_mnist_datamodule import MnistRotDataset\n",
        "\n",
        "from torch.utils.data import Dataset\n",
        "from torchvision.transforms import RandomRotation\n",
        "from torchvision.transforms import Pad\n",
        "from torchvision.transforms import Resize\n",
        "from torchvision.transforms import ToTensor\n",
        "from torchvision.transforms import Compose\n",
        "from torchvision.transforms import InterpolationMode\n",
        "from neuralyze import get_hessian_max_spectrum\n",
        "\n",
        "from torchmetrics import MaxMetric, MeanMetric\n",
        "from torchmetrics.classification.accuracy import Accuracy\n",
        "\n",
        "from typing import Any, Dict, Tuple\n",
        "\n",
        "device = 'cuda' if torch.cuda.is_available() else 'cpu'\n",
        "L.seed_everything(42)"
      ],
      "metadata": {
        "colab": {
          "base_uri": "https://localhost:8080/"
        },
        "id": "4AkBacsIOrYJ",
        "outputId": "2b4c1e1f-07c6-4e3d-ad74-5bf658b913f2"
      },
      "execution_count": null,
      "outputs": [
        {
          "output_type": "stream",
          "name": "stderr",
          "text": [
            "INFO: Seed set to 42\n",
            "INFO:lightning.fabric.utilities.seed:Seed set to 42\n"
          ]
        },
        {
          "output_type": "execute_result",
          "data": {
            "text/plain": [
              "42"
            ]
          },
          "metadata": {},
          "execution_count": 3
        }
      ]
    },
    {
      "cell_type": "markdown",
      "source": [
        "###write lightning module def"
      ],
      "metadata": {
        "id": "NeDSARcAfAqE"
      }
    },
    {
      "cell_type": "code",
      "source": [
        "# define the LightningModule\n",
        "class PlModule(L.LightningModule):\n",
        "    def __init__(self, net):\n",
        "        super().__init__()\n",
        "        self.save_hyperparameters()\n",
        "\n",
        "        self.net = net\n",
        "\n",
        "        loss_fn = torch.nn.CrossEntropyLoss()\n",
        "\n",
        "        # num classes\n",
        "        num_classes = 10 #net.layers[-1].out_features #if this break hardcode to one\n",
        "\n",
        "        # metric objects for calculating and averaging accuracy across batches\n",
        "        self.train_acc = Accuracy(task=\"multiclass\", num_classes=num_classes)\n",
        "        self.val_acc = Accuracy(task=\"multiclass\", num_classes=num_classes)\n",
        "        self.test_acc = Accuracy(task=\"multiclass\", num_classes=num_classes)\n",
        "\n",
        "        self.train_loss = MeanMetric()\n",
        "        self.val_loss = MeanMetric()\n",
        "        self.test_loss = MeanMetric()\n",
        "\n",
        "        # for averaging loss across batches\n",
        "        self.train_acc_mean = MeanMetric()\n",
        "        self.val_acc_mean = MeanMetric()\n",
        "        self.test_acc_mean = MeanMetric()\n",
        "\n",
        "\n",
        "        # for tracking best so far validation accuracy\n",
        "        self.val_acc_best = MaxMetric()\n",
        "\n",
        "    def model_step(self, batch: Tuple[torch.Tensor, torch.Tensor]) -> Tuple[torch.Tensor, torch.Tensor, torch.Tensor]:\n",
        "        \"\"\"Perform a single model step on a batch of data.\n",
        "\n",
        "        :param batch: A batch of data (a tuple) containing the input tensor of images and target labels.\n",
        "\n",
        "        :return: A tuple containing (in order):\n",
        "            - A tensor of losses.\n",
        "            - A tensor of predictions.\n",
        "            - A tensor of target labels.\n",
        "        \"\"\"\n",
        "        x, y = batch\n",
        "        logits = self.net(x)\n",
        "        loss =  torch.nn.functional.cross_entropy(logits, y)\n",
        "        preds = torch.argmax(logits, dim=1)\n",
        "        return loss, preds, y\n",
        "\n",
        "    def test_step(self, batch: Tuple[torch.Tensor, torch.Tensor], batch_idx: int) -> None:\n",
        "      \"\"\"Perform a single test step on a batch of data from the test set.\n",
        "\n",
        "      :param batch: A batch of data (a tuple) containing the input tensor of images and target\n",
        "          labels.\n",
        "      :param batch_idx: The index of the current batch.\n",
        "      \"\"\"\n",
        "      #print(batch_index)\n",
        "      loss, preds, targets = self.model_step(batch)\n",
        "\n",
        "      # update and log metrics\n",
        "      self.test_loss(loss)\n",
        "      self.test_acc_mean(self.test_acc(preds, targets))\n",
        "      self.log(\"test/loss\", self.test_loss, on_step=False, on_epoch=True, prog_bar=True)\n",
        "      self.log(\"test/acc\", self.test_acc_mean, on_step=False, on_epoch=True, prog_bar=True)\n",
        "\n",
        "    def validation_step(self, batch: Tuple[torch.Tensor, torch.Tensor], batch_idx: int) -> None:\n",
        "        \"\"\"Perform a single validation step on a batch of data from the validation set.\n",
        "\n",
        "        :param batch: A batch of data (a tuple) containing the input tensor of images and target\n",
        "            labels.\n",
        "        :param batch_idx: The index of the current batch.\n",
        "        \"\"\"\n",
        "        loss, preds, targets = self.model_step(batch)\n",
        "\n",
        "        # update and log metrics\n",
        "        self.val_loss(loss)\n",
        "        self.val_acc_mean(self.val_acc(preds, targets))\n",
        "\n",
        "        self.log(\"val/loss\", self.val_loss, on_step=False, on_epoch=True, prog_bar=True)\n",
        "        self.log(\"val/acc\", self.val_acc_mean, on_step=False, on_epoch=True, prog_bar=True)\n",
        "\n",
        "    def on_validation_epoch_end(self) -> None:\n",
        "       self.val_acc_mean.reset()\n",
        "\n",
        "    def training_step(self, batch: Tuple[torch.Tensor, torch.Tensor], batch_idx: int) -> torch.Tensor:\n",
        "      \"\"\"Perform a single training step on a batch of data from the training set.\n",
        "\n",
        "      :param batch: A batch of data (a tuple) containing the input tensor of images and target\n",
        "          labels.\n",
        "      :param batch_idx: The index of the current batch.\n",
        "      :return: A tensor of losses between model predictions and targets.\n",
        "      \"\"\"\n",
        "      loss, preds, targets = self.model_step(batch)\n",
        "\n",
        "      # update and log metrics\n",
        "      self.train_loss(loss)\n",
        "      self.train_acc_mean(self.train_acc(preds, targets))\n",
        "\n",
        "      self.log(\"train/loss\", self.train_loss, on_step=False, on_epoch=True, prog_bar=True)\n",
        "      self.log(\"train/acc\", self.train_acc_mean, on_step=False, on_epoch=True, prog_bar=True)\n",
        "\n",
        "      # return loss or backpropagation will fail\n",
        "      return loss\n",
        "\n",
        "    def on_train_epoch_end(self) -> None:\n",
        "        \"Lightning hook that is called when a training epoch ends.\"\n",
        "        self.train_acc_mean.reset()\n",
        "\n",
        "    def configure_optimizers(self):\n",
        "        optimizer = torch.optim.Adam(self.net.parameters(), lr=5e-5, weight_decay=1e-5)\n",
        "        return optimizer"
      ],
      "metadata": {
        "id": "BNRg68oPfDQa"
      },
      "execution_count": null,
      "outputs": []
    },
    {
      "cell_type": "markdown",
      "source": [
        "### Write both the model definitions"
      ],
      "metadata": {
        "id": "tnkiKVW8YBRG"
      }
    },
    {
      "cell_type": "code",
      "source": [
        "class C8SteerableCNN(torch.nn.Module):\n",
        "\n",
        "    def __init__(self, n_classes=10):\n",
        "\n",
        "        super(C8SteerableCNN, self).__init__()\n",
        "        #self.save_hyperparameters()\n",
        "\n",
        "\n",
        "        # the model is equivariant under rotations by 45 degrees, modelled by C8\n",
        "        self.r2_act = gspaces.rot2dOnR2(N=8)\n",
        "\n",
        "        # the input image is a scalar field, corresponding to the trivial representation\n",
        "        in_type = nn.FieldType(self.r2_act, [self.r2_act.trivial_repr])\n",
        "\n",
        "        # we store the input type for wrapping the images into a geometric tensor during the forward pass\n",
        "        self.input_type = in_type\n",
        "\n",
        "        # convolution 1\n",
        "        # first specify the output type of the convolutional layer\n",
        "        # we choose 24 feature fields, each transforming under the regular representation of C8\n",
        "        out_type = nn.FieldType(self.r2_act, 24*[self.r2_act.regular_repr])\n",
        "        self.block1 = nn.SequentialModule(\n",
        "            nn.MaskModule(in_type, 29, margin=1),\n",
        "            nn.R2Conv(in_type, out_type, kernel_size=7, padding=1, bias=False),\n",
        "            nn.InnerBatchNorm(out_type),\n",
        "            nn.ReLU(out_type, inplace=True)\n",
        "        )\n",
        "\n",
        "        # convolution 2\n",
        "        # the old output type is the input type to the next layer\n",
        "        in_type = self.block1.out_type\n",
        "        # the output type of the second convolution layer are 48 regular feature fields of C8\n",
        "        out_type = nn.FieldType(self.r2_act, 48*[self.r2_act.regular_repr])\n",
        "        self.block2 = nn.SequentialModule(\n",
        "            nn.R2Conv(in_type, out_type, kernel_size=5, padding=2, bias=False),\n",
        "            nn.InnerBatchNorm(out_type),\n",
        "            nn.ReLU(out_type, inplace=True)\n",
        "        )\n",
        "        self.pool1 = nn.SequentialModule(\n",
        "            nn.PointwiseAvgPoolAntialiased(out_type, sigma=0.66, stride=2)\n",
        "        )\n",
        "\n",
        "        # convolution 3\n",
        "        # the old output type is the input type to the next layer\n",
        "        in_type = self.block2.out_type\n",
        "        # the output type of the third convolution layer are 48 regular feature fields of C8\n",
        "        out_type = nn.FieldType(self.r2_act, 48*[self.r2_act.regular_repr])\n",
        "        self.block3 = nn.SequentialModule(\n",
        "            nn.R2Conv(in_type, out_type, kernel_size=5, padding=2, bias=False),\n",
        "            nn.InnerBatchNorm(out_type),\n",
        "            nn.ReLU(out_type, inplace=True)\n",
        "        )\n",
        "\n",
        "        # convolution 4\n",
        "        # the old output type is the input type to the next layer\n",
        "        in_type = self.block3.out_type\n",
        "        # the output type of the fourth convolution layer are 96 regular feature fields of C8\n",
        "        out_type = nn.FieldType(self.r2_act, 96*[self.r2_act.regular_repr])\n",
        "        self.block4 = nn.SequentialModule(\n",
        "            nn.R2Conv(in_type, out_type, kernel_size=5, padding=2, bias=False),\n",
        "            nn.InnerBatchNorm(out_type),\n",
        "            nn.ReLU(out_type, inplace=True)\n",
        "        )\n",
        "        self.pool2 = nn.SequentialModule(\n",
        "            nn.PointwiseAvgPoolAntialiased(out_type, sigma=0.66, stride=2)\n",
        "        )\n",
        "\n",
        "        # convolution 5\n",
        "        # the old output type is the input type to the next layer\n",
        "        in_type = self.block4.out_type\n",
        "        # the output type of the fifth convolution layer are 96 regular feature fields of C8\n",
        "        out_type = nn.FieldType(self.r2_act, 96*[self.r2_act.regular_repr])\n",
        "        self.block5 = nn.SequentialModule(\n",
        "            nn.R2Conv(in_type, out_type, kernel_size=5, padding=2, bias=False),\n",
        "            nn.InnerBatchNorm(out_type),\n",
        "            nn.ReLU(out_type, inplace=True)\n",
        "        )\n",
        "\n",
        "        # convolution 6\n",
        "        # the old output type is the input type to the next layer\n",
        "        in_type = self.block5.out_type\n",
        "        # the output type of the sixth convolution layer are 64 regular feature fields of C8\n",
        "        out_type = nn.FieldType(self.r2_act, 64*[self.r2_act.regular_repr])\n",
        "        self.block6 = nn.SequentialModule(\n",
        "            nn.R2Conv(in_type, out_type, kernel_size=5, padding=1, bias=False),\n",
        "            nn.InnerBatchNorm(out_type),\n",
        "            nn.ReLU(out_type, inplace=True)\n",
        "        )\n",
        "        self.pool3 = nn.PointwiseAvgPoolAntialiased(out_type, sigma=0.66, stride=1, padding=0)\n",
        "\n",
        "        self.gpool = nn.GroupPooling(out_type)\n",
        "\n",
        "        # number of output channels\n",
        "        c = self.gpool.out_type.size\n",
        "\n",
        "        # Fully Connected\n",
        "        self.fully_net = torch.nn.Sequential(\n",
        "            torch.nn.Linear(c, 64),\n",
        "            torch.nn.BatchNorm1d(64),\n",
        "            torch.nn.ELU(inplace=True),\n",
        "            torch.nn.Linear(64, n_classes),\n",
        "        )\n",
        "\n",
        "    def forward(self, input: torch.Tensor):\n",
        "        # wrap the input tensor in a GeometricTensor\n",
        "        # (associate it with the input type)\n",
        "        x = nn.GeometricTensor(input, self.input_type)\n",
        "\n",
        "        # apply each equivariant block\n",
        "\n",
        "        # Each layer has an input and an output type\n",
        "        # A layer takes a GeometricTensor in input.\n",
        "        # This tensor needs to be associated with the same representation of the layer's input type\n",
        "        #\n",
        "        # The Layer outputs a new GeometricTensor, associated with the layer's output type.\n",
        "        # As a result, consecutive layers need to have matching input/output types\n",
        "        x = self.block1(x)\n",
        "        x = self.block2(x)\n",
        "        x = self.pool1(x)\n",
        "\n",
        "        x = self.block3(x)\n",
        "        x = self.block4(x)\n",
        "        x = self.pool2(x)\n",
        "\n",
        "        x = self.block5(x)\n",
        "        x = self.block6(x)\n",
        "\n",
        "        # pool over the spatial dimensions\n",
        "        x = self.pool3(x)\n",
        "\n",
        "        # pool over the group\n",
        "        x = self.gpool(x)\n",
        "\n",
        "        # unwrap the output GeometricTensor\n",
        "        # (take the Pytorch tensor and discard the associated representation)\n",
        "        x = x.tensor\n",
        "\n",
        "        # classify with the final fully connected layers)\n",
        "        x = self.fully_net(x.reshape(x.shape[0], -1))\n",
        "\n",
        "        return x"
      ],
      "metadata": {
        "id": "cx1ae4AhYHtl"
      },
      "execution_count": null,
      "outputs": []
    },
    {
      "cell_type": "code",
      "source": [
        "import torch\n",
        "import torch.nn.functional as F\n",
        "#V2\n",
        "\n",
        "class BasicInvertedBottleneckBlockV2(torch.nn.Module):\n",
        "    def __init__(self, Cin, N, Cout, downsample = False, first_block = False):\n",
        "        super(BasicInvertedBottleneckBlockV2, self).__init__()\n",
        "\n",
        "        kernel_size = 3\n",
        "        padding = 1\n",
        "\n",
        "        if first_block:\n",
        "          kernel_size = 7\n",
        "          padding = 3\n",
        "\n",
        "        self.block = torch.nn.Sequential(\n",
        "          torch.nn.Conv2d(Cin, N, kernel_size=kernel_size, stride=1, padding=padding),\n",
        "          torch.nn.BatchNorm2d(N), #idk which BN to use\n",
        "          torch.nn.ELU(inplace=True),\n",
        "          #dit is de enige logische interpretatie van appendix H4 die ik kan bedenken. of miss dit of downsample maar nooit beide? dat is denk ik logischer\n",
        "          #torch.nn.Conv2d(N, Cout, kernel_size=kernel_size, stride=1, padding=padding)\n",
        "        )\n",
        "\n",
        "        self.one_by_one: bool = (Cin != Cout)\n",
        "\n",
        "        if self.one_by_one:\n",
        "            self.conv1x1 = torch.nn.Conv2d(Cin, Cout, kernel_size=1, stride=1, padding=0)\n",
        "\n",
        "        self.downsample = downsample\n",
        "        if self.downsample:\n",
        "          #for this one I'm guessing\n",
        "          self.second_conv = torch.nn.Conv2d(N, Cin, kernel_size=kernel_size, stride=2, padding=padding)\n",
        "          self.avg_pool = torch.nn.AvgPool2d(kernel_size=kernel_size, stride=2, padding=padding)\n",
        "        else:\n",
        "          self.second_conv = torch.nn.Conv2d(N, Cin, kernel_size=kernel_size, stride=1, padding=padding) #idk setting kernel size to one here does massively reduce the number of parameters\n",
        "\n",
        "    def forward(self, x):\n",
        "        out = self.block(x)\n",
        "        #N Channels\n",
        "        #print('before downsample')\n",
        "        #print(out.shape)\n",
        "        #print(x.shape)\n",
        "\n",
        "        out = self.second_conv(out)\n",
        "        #C_in Channels\n",
        "\n",
        "        if self.downsample:\n",
        "          #if the second convolution downsamples\n",
        "          #then the size of the image changes\n",
        "          #so we must decrease x in size\n",
        "          #to be able to add it up\n",
        "          x = self.avg_pool(x)\n",
        "\n",
        "\n",
        "        #print('afterdownsample')\n",
        "        #print(out.shape)\n",
        "        #print(x.shape)\n",
        "\n",
        "        #print('afteronebyone')\n",
        "        #print(out.shape)\n",
        "        #print(x.shape)\n",
        "        skip_connection = out + x\n",
        "        if self.one_by_one:\n",
        "           skip_connection = self.conv1x1(skip_connection)\n",
        "           #C_out\n",
        "\n",
        "        return skip_connection\n",
        "\n",
        "class CNN(torch.nn.Module):\n",
        "    def __init__(self, backbone_channels, residual_channels, n_classes):\n",
        "        super(CNN, self).__init__()\n",
        "        self.backbone_channels = backbone_channels\n",
        "        self.residual_channels = residual_channels\n",
        "        self.blocks = self._make_blocks()\n",
        "        self.max_pool = torch.nn.MaxPool2d(kernel_size=3, stride=1)\n",
        "\n",
        "        # Fully Connected\n",
        "        self.fully_net = torch.nn.Sequential(\n",
        "            torch.nn.Linear(128, 64),\n",
        "            torch.nn.BatchNorm1d(64),\n",
        "            torch.nn.ELU(inplace=True),\n",
        "            torch.nn.Linear(64, n_classes),\n",
        "        )\n",
        "\n",
        "    def _make_blocks(self):\n",
        "        blocks = []\n",
        "        for i in range(len(self.backbone_channels)):\n",
        "            Cin = self.backbone_channels[i]\n",
        "            N = self.residual_channels[i]\n",
        "            # this next part is because their explanation doesnt seem to include the channel output size of the last block. So we set it to be the same as the input\n",
        "            if i < len(self.backbone_channels) - 1:\n",
        "                Cout = self.backbone_channels[i + 1]\n",
        "            else:\n",
        "                Cout = 32 #this is also very vague from the og paper\n",
        "\n",
        "            #print('hello', i)\n",
        "            if i == 0:\n",
        "              #print('i = 0 -------------------------')\n",
        "              blocks.append(BasicInvertedBottleneckBlockV2(Cin, N, Cout, first_block=True))\n",
        "\n",
        "            elif (i+1) % 2 == 0: #every two layers this is true\n",
        "              #print('True-------------------------------------------------------------')\n",
        "              blocks.append(BasicInvertedBottleneckBlockV2(Cin, N, Cout, downsample=True))\n",
        "\n",
        "            else:\n",
        "              #print('normal case =======================')\n",
        "              blocks.append(BasicInvertedBottleneckBlockV2(Cin, N, Cout))\n",
        "        return torch.nn.Sequential(*blocks)\n",
        "\n",
        "    def forward(self, x):\n",
        "        out = self.blocks(x)\n",
        "        out = self.max_pool(out)\n",
        "        #print(out.shape)\n",
        "        out = self.fully_net(out.flatten(start_dim = 1))\n",
        "\n",
        "        return out\n",
        "\n",
        "# Example usage:\n",
        "backbone_channels = [1, 21, 54, 72, 108, 168]  # These are the C_in's\n",
        "residual_channels = [96, 192, 288, 288, 576, 576]  # These are the upsampled N's\n",
        "cnn_model = CNN(backbone_channels, residual_channels, n_classes = 10).to(device)\n"
      ],
      "metadata": {
        "id": "mtRsXI3ccT2P"
      },
      "execution_count": null,
      "outputs": []
    },
    {
      "cell_type": "markdown",
      "source": [
        "#### Plot fn"
      ],
      "metadata": {
        "id": "xkQlvjRH0M-n"
      }
    },
    {
      "cell_type": "code",
      "source": [],
      "metadata": {
        "id": "rpqNlrjZ0MeH"
      },
      "execution_count": null,
      "outputs": []
    },
    {
      "cell_type": "markdown",
      "source": [
        "### C8 steerable hessian"
      ],
      "metadata": {
        "id": "JH8XLDAaSyFm"
      }
    },
    {
      "cell_type": "code",
      "source": [
        "run = wandb.init()\n",
        "checkpoints = []\n",
        "\n",
        "#put the 15 checkpoints in a list\n",
        "for i in range(15):\n",
        "  checkpoint = run.use_artifact('uva-dl2/C8steerable_RotMNIST/model-u3vh8ed9:v' + str(i), type='model')\n",
        "  dir = checkpoint.download()\n",
        "  checkpoints.append(torch.load(dir + '/model.ckpt'))\n",
        "\n",
        "# finish wandb run\n",
        "run.finish()"
      ],
      "metadata": {
        "colab": {
          "base_uri": "https://localhost:8080/",
          "height": 1000,
          "referenced_widgets": [
            "abaeaf843e9f415e9ae89c9a525e1a68",
            "783c972688ef4130b04c7b4cd7f2e423",
            "42bb03a6ae954b16a789b015b32863d1",
            "f362c72adf184c0994e1439facaf1355",
            "d9a41c90dba24fad8594b37d99c7f15b",
            "d0aaa5ba63604f93a401d7ac1c5f18e7",
            "831a2229161a4387816b4954d612700a",
            "e9d60988c6da4aeea2ef22307cbb367d"
          ]
        },
        "id": "ZW14BH0mSt3s",
        "outputId": "b442f538-0c79-4141-e7c1-a8fd22bb817c"
      },
      "execution_count": null,
      "outputs": [
        {
          "output_type": "display_data",
          "data": {
            "text/plain": [
              "<IPython.core.display.HTML object>"
            ],
            "text/html": [
              "Tracking run with wandb version 0.16.6"
            ]
          },
          "metadata": {}
        },
        {
          "output_type": "display_data",
          "data": {
            "text/plain": [
              "<IPython.core.display.HTML object>"
            ],
            "text/html": [
              "Run data is saved locally in <code>/content/dl2/wandb/run-20240422_161352-xhw1dk7u</code>"
            ]
          },
          "metadata": {}
        },
        {
          "output_type": "display_data",
          "data": {
            "text/plain": [
              "<IPython.core.display.HTML object>"
            ],
            "text/html": [
              "Syncing run <strong><a href='https://wandb.ai/uva-dl2/dl2/runs/xhw1dk7u' target=\"_blank\">smart-glitter-24</a></strong> to <a href='https://wandb.ai/uva-dl2/dl2' target=\"_blank\">Weights & Biases</a> (<a href='https://wandb.me/run' target=\"_blank\">docs</a>)<br/>"
            ]
          },
          "metadata": {}
        },
        {
          "output_type": "display_data",
          "data": {
            "text/plain": [
              "<IPython.core.display.HTML object>"
            ],
            "text/html": [
              " View project at <a href='https://wandb.ai/uva-dl2/dl2' target=\"_blank\">https://wandb.ai/uva-dl2/dl2</a>"
            ]
          },
          "metadata": {}
        },
        {
          "output_type": "display_data",
          "data": {
            "text/plain": [
              "<IPython.core.display.HTML object>"
            ],
            "text/html": [
              " View run at <a href='https://wandb.ai/uva-dl2/dl2/runs/xhw1dk7u' target=\"_blank\">https://wandb.ai/uva-dl2/dl2/runs/xhw1dk7u</a>"
            ]
          },
          "metadata": {}
        },
        {
          "output_type": "stream",
          "name": "stderr",
          "text": [
            "\u001b[34m\u001b[1mwandb\u001b[0m: Downloading large artifact model-u3vh8ed9:v0, 167.44MB. 1 files... \n",
            "\u001b[34m\u001b[1mwandb\u001b[0m:   1 of 1 files downloaded.  \n",
            "Done. 0:0:0.5\n",
            "\u001b[34m\u001b[1mwandb\u001b[0m: Downloading large artifact model-u3vh8ed9:v1, 167.44MB. 1 files... \n",
            "\u001b[34m\u001b[1mwandb\u001b[0m:   1 of 1 files downloaded.  \n",
            "Done. 0:0:2.9\n",
            "\u001b[34m\u001b[1mwandb\u001b[0m: Downloading large artifact model-u3vh8ed9:v2, 167.44MB. 1 files... \n",
            "\u001b[34m\u001b[1mwandb\u001b[0m:   1 of 1 files downloaded.  \n",
            "Done. 0:0:4.0\n",
            "\u001b[34m\u001b[1mwandb\u001b[0m: Downloading large artifact model-u3vh8ed9:v3, 167.44MB. 1 files... \n",
            "\u001b[34m\u001b[1mwandb\u001b[0m:   1 of 1 files downloaded.  \n",
            "Done. 0:0:3.7\n",
            "\u001b[34m\u001b[1mwandb\u001b[0m: Downloading large artifact model-u3vh8ed9:v4, 167.44MB. 1 files... \n",
            "\u001b[34m\u001b[1mwandb\u001b[0m:   1 of 1 files downloaded.  \n",
            "Done. 0:0:1.7\n",
            "\u001b[34m\u001b[1mwandb\u001b[0m: Downloading large artifact model-u3vh8ed9:v5, 167.44MB. 1 files... \n",
            "\u001b[34m\u001b[1mwandb\u001b[0m:   1 of 1 files downloaded.  \n",
            "Done. 0:0:0.5\n",
            "\u001b[34m\u001b[1mwandb\u001b[0m: Downloading large artifact model-u3vh8ed9:v6, 167.44MB. 1 files... \n",
            "\u001b[34m\u001b[1mwandb\u001b[0m:   1 of 1 files downloaded.  \n",
            "Done. 0:0:2.2\n",
            "\u001b[34m\u001b[1mwandb\u001b[0m: Downloading large artifact model-u3vh8ed9:v7, 167.44MB. 1 files... \n",
            "\u001b[34m\u001b[1mwandb\u001b[0m:   1 of 1 files downloaded.  \n",
            "Done. 0:0:2.0\n",
            "\u001b[34m\u001b[1mwandb\u001b[0m: Downloading large artifact model-u3vh8ed9:v8, 167.44MB. 1 files... \n",
            "\u001b[34m\u001b[1mwandb\u001b[0m:   1 of 1 files downloaded.  \n",
            "Done. 0:0:2.4\n",
            "\u001b[34m\u001b[1mwandb\u001b[0m: Downloading large artifact model-u3vh8ed9:v9, 167.44MB. 1 files... \n",
            "\u001b[34m\u001b[1mwandb\u001b[0m:   1 of 1 files downloaded.  \n",
            "Done. 0:0:3.8\n",
            "\u001b[34m\u001b[1mwandb\u001b[0m: Downloading large artifact model-u3vh8ed9:v10, 167.44MB. 1 files... \n",
            "\u001b[34m\u001b[1mwandb\u001b[0m:   1 of 1 files downloaded.  \n",
            "Done. 0:0:0.5\n",
            "\u001b[34m\u001b[1mwandb\u001b[0m: Downloading large artifact model-u3vh8ed9:v11, 167.44MB. 1 files... \n",
            "\u001b[34m\u001b[1mwandb\u001b[0m:   1 of 1 files downloaded.  \n",
            "Done. 0:0:2.0\n",
            "\u001b[34m\u001b[1mwandb\u001b[0m: Downloading large artifact model-u3vh8ed9:v12, 167.44MB. 1 files... \n",
            "\u001b[34m\u001b[1mwandb\u001b[0m:   1 of 1 files downloaded.  \n",
            "Done. 0:0:1.7\n",
            "\u001b[34m\u001b[1mwandb\u001b[0m: Downloading large artifact model-u3vh8ed9:v13, 167.44MB. 1 files... \n",
            "\u001b[34m\u001b[1mwandb\u001b[0m:   1 of 1 files downloaded.  \n",
            "Done. 0:0:1.1\n",
            "\u001b[34m\u001b[1mwandb\u001b[0m: Downloading large artifact model-u3vh8ed9:v14, 167.44MB. 1 files... \n",
            "\u001b[34m\u001b[1mwandb\u001b[0m:   1 of 1 files downloaded.  \n",
            "Done. 0:0:4.8\n"
          ]
        },
        {
          "output_type": "display_data",
          "data": {
            "text/plain": [
              "VBox(children=(Label(value='0.001 MB of 0.001 MB uploaded\\r'), FloatProgress(value=1.0, max=1.0)))"
            ],
            "application/vnd.jupyter.widget-view+json": {
              "version_major": 2,
              "version_minor": 0,
              "model_id": "abaeaf843e9f415e9ae89c9a525e1a68"
            }
          },
          "metadata": {}
        },
        {
          "output_type": "display_data",
          "data": {
            "text/plain": [
              "<IPython.core.display.HTML object>"
            ],
            "text/html": [
              " View run <strong style=\"color:#cdcd00\">smart-glitter-24</strong> at: <a href='https://wandb.ai/uva-dl2/dl2/runs/xhw1dk7u' target=\"_blank\">https://wandb.ai/uva-dl2/dl2/runs/xhw1dk7u</a><br/> View project at: <a href='https://wandb.ai/uva-dl2/dl2' target=\"_blank\">https://wandb.ai/uva-dl2/dl2</a><br/>Synced 5 W&B file(s), 0 media file(s), 0 artifact file(s) and 0 other file(s)"
            ]
          },
          "metadata": {}
        },
        {
          "output_type": "display_data",
          "data": {
            "text/plain": [
              "<IPython.core.display.HTML object>"
            ],
            "text/html": [
              "Find logs at: <code>./wandb/run-20240422_161352-xhw1dk7u/logs</code>"
            ]
          },
          "metadata": {}
        }
      ]
    },
    {
      "cell_type": "code",
      "source": [
        "model = C8SteerableCNN().to(device)\n",
        "equivariantmodel = PlModule(model)\n",
        "equivariantmodel.load_state_dict(checkpoints[1]['state_dict'])"
      ],
      "metadata": {
        "colab": {
          "base_uri": "https://localhost:8080/"
        },
        "id": "jwW_ieeF1iY4",
        "outputId": "42c1abc7-f254-436c-9d19-ce335c5e1285"
      },
      "execution_count": null,
      "outputs": [
        {
          "output_type": "execute_result",
          "data": {
            "text/plain": [
              "<All keys matched successfully>"
            ]
          },
          "metadata": {},
          "execution_count": 62
        }
      ]
    },
    {
      "cell_type": "code",
      "source": [
        "print(len(checkpoints))"
      ],
      "metadata": {
        "colab": {
          "base_uri": "https://localhost:8080/"
        },
        "id": "rneHVGoSXlTF",
        "outputId": "d0da7e46-d638-4fad-dc85-31db9f1d191d"
      },
      "execution_count": null,
      "outputs": [
        {
          "output_type": "stream",
          "name": "stdout",
          "text": [
            "15\n"
          ]
        }
      ]
    },
    {
      "cell_type": "code",
      "source": [
        "#get dataloader\n",
        "#define transforms\n",
        "pad = Pad((0, 0, 1, 1), fill=0)\n",
        "\n",
        "resize1 = Resize(87)\n",
        "resize2 = Resize(29)\n",
        "\n",
        "totensor = ToTensor()\n",
        "\n",
        "train_transform = Compose([\n",
        "    pad,\n",
        "    resize1,\n",
        "    RandomRotation(180., interpolation=InterpolationMode.BILINEAR, expand=False),\n",
        "    resize2,\n",
        "    totensor,\n",
        "])\n",
        "\n",
        "test_transform = Compose([\n",
        "    pad,\n",
        "    totensor,\n",
        "])\n",
        "\n",
        "\n",
        "dataset = MnistRotDataset(\"data/mnist/\",download=True, transform=train_transform)\n",
        "train_loader1 = utils.data.DataLoader(dataset, batch_size = 64, num_workers=7)"
      ],
      "metadata": {
        "id": "N0sqsAWcj4aG"
      },
      "execution_count": null,
      "outputs": []
    },
    {
      "cell_type": "code",
      "source": [
        "## evaluate the test set at the checkpoints\n",
        "test_transform = Compose([\n",
        "    pad,\n",
        "    totensor,\n",
        "])\n",
        "\n",
        "\n",
        "test_dataset = MnistRotDataset(\"data/mnist/\",download=False,train=False, transform=test_transform)\n",
        "\n",
        "test_loader = utils.data.DataLoader(test_dataset, batch_size = 64, num_workers=7)\n",
        "\n",
        "trainer = L.Trainer()\n",
        "for checkpoint in checkpoints:\n",
        "  equivariantmodel = PlModule(model)\n",
        "  equivariantmodel.load_state_dict(checkpoint['state_dict'])\n",
        "\n",
        "  trainer.test(model=equivariantmodel, dataloaders=test_loader)"
      ],
      "metadata": {
        "colab": {
          "base_uri": "https://localhost:8080/",
          "height": 857,
          "referenced_widgets": [
            "e2724204fe7845c8a03821236956751e",
            "414f2270c00146a3a8e80dd5269558eb",
            "f432cd44954c45a487dd14d4b1681a5f",
            "ebc3b40dd7054193ae80c4c51a7df8af",
            "401a7c7fea0e4e9cb8b1f077cb10d40c",
            "5e410c31c5b84e908c9dff76999b343b",
            "4e3cbdb02ec64d69b63a924794f23475",
            "012190a4e8d94823be3b2db24488567c",
            "50eb8b4c40b94f1ebd035c0066785afd",
            "e8d1fd15b9144251bacd2fcb86472872",
            "d43ed4fd2d4b41dc9d674d526af0fc65",
            "3adeec7eaab2477aa0d8156af06a6066",
            "d749eeafabf149438bf52bc2a6b65cf4",
            "e329b80e594f470688278f106f4a4f4e",
            "08d8a518214a4cd9b10a99476de79018",
            "0e153a70d9e446d5bd08b7f11b0283c4",
            "c605136358384a968787bbd3b21bf9af",
            "fd29df31f350422bac7a36e9d501223f",
            "d03714a551bf437dba90563630931e03",
            "c961248655dc414c8f5b9a55d63a4d70",
            "69ef75c79f1d4be8a7ee227437dd6c37",
            "1437a6540e0443539e7124460bfe12bd",
            "42747c6def384c51a7e7adf1e08f666b",
            "06ec982bc8654ea887c43ee12062cb67",
            "f3c5198d65d34d13bffce1658b0ae4e2",
            "b3aa8fb1a785417097e6d257a2b6518a",
            "cedb3e2543544c7aba992af0aa692a73",
            "5570de687db14db49c517f0d199c6fc8",
            "f08a42d745ae4e9bb2e4e1990076f9a9",
            "a7bac047478c421db7c4a64deec7383c",
            "00992e24a71543d582b3ade557e1eda8",
            "aac9c92309fd433d90c7451789d86866",
            "f562aa63b0c143b8b742c503bd7eea71"
          ]
        },
        "id": "27ar7YS7Ulo9",
        "outputId": "5b2a5d37-ac28-4d9e-c321-362598664654"
      },
      "execution_count": null,
      "outputs": [
        {
          "output_type": "stream",
          "name": "stderr",
          "text": [
            "INFO: GPU available: True (cuda), used: True\n",
            "INFO:lightning.pytorch.utilities.rank_zero:GPU available: True (cuda), used: True\n",
            "INFO: TPU available: False, using: 0 TPU cores\n",
            "INFO:lightning.pytorch.utilities.rank_zero:TPU available: False, using: 0 TPU cores\n",
            "INFO: IPU available: False, using: 0 IPUs\n",
            "INFO:lightning.pytorch.utilities.rank_zero:IPU available: False, using: 0 IPUs\n",
            "INFO: HPU available: False, using: 0 HPUs\n",
            "INFO:lightning.pytorch.utilities.rank_zero:HPU available: False, using: 0 HPUs\n",
            "/usr/local/lib/python3.10/dist-packages/lightning/pytorch/utilities/parsing.py:199: Attribute 'net' is an instance of `nn.Module` and is already saved during checkpointing. It is recommended to ignore them using `self.save_hyperparameters(ignore=['net'])`.\n",
            "/usr/local/lib/python3.10/dist-packages/lightning/pytorch/utilities/parsing.py:44: attribute 'net' removed from hparams because it cannot be pickled\n",
            "INFO: LOCAL_RANK: 0 - CUDA_VISIBLE_DEVICES: [0]\n",
            "INFO:lightning.pytorch.accelerators.cuda:LOCAL_RANK: 0 - CUDA_VISIBLE_DEVICES: [0]\n",
            "/usr/local/lib/python3.10/dist-packages/lightning/pytorch/trainer/call.py:54: Detected KeyboardInterrupt, attempting graceful shutdown...\n",
            "INFO: LOCAL_RANK: 0 - CUDA_VISIBLE_DEVICES: [0]\n",
            "INFO:lightning.pytorch.accelerators.cuda:LOCAL_RANK: 0 - CUDA_VISIBLE_DEVICES: [0]\n",
            "/usr/lib/python3.10/multiprocessing/popen_fork.py:66: RuntimeWarning: os.fork() was called. os.fork() is incompatible with multithreaded code, and JAX is multithreaded, so this will likely lead to a deadlock.\n",
            "  self.pid = os.fork()\n"
          ]
        },
        {
          "output_type": "display_data",
          "data": {
            "text/plain": [
              "Testing: |          | 0/? [00:00<?, ?it/s]"
            ],
            "application/vnd.jupyter.widget-view+json": {
              "version_major": 2,
              "version_minor": 0,
              "model_id": "e2724204fe7845c8a03821236956751e"
            }
          },
          "metadata": {}
        },
        {
          "output_type": "display_data",
          "data": {
            "text/plain": [
              "┏━━━━━━━━━━━━━━━━━━━━━━━━━━━┳━━━━━━━━━━━━━━━━━━━━━━━━━━━┓\n",
              "┃\u001b[1m \u001b[0m\u001b[1m       Test metric       \u001b[0m\u001b[1m \u001b[0m┃\u001b[1m \u001b[0m\u001b[1m      DataLoader 0       \u001b[0m\u001b[1m \u001b[0m┃\n",
              "┡━━━━━━━━━━━━━━━━━━━━━━━━━━━╇━━━━━━━━━━━━━━━━━━━━━━━━━━━┩\n",
              "│\u001b[36m \u001b[0m\u001b[36m        test/acc         \u001b[0m\u001b[36m \u001b[0m│\u001b[35m \u001b[0m\u001b[35m   0.9718869924545288    \u001b[0m\u001b[35m \u001b[0m│\n",
              "│\u001b[36m \u001b[0m\u001b[36m        test/loss        \u001b[0m\u001b[36m \u001b[0m│\u001b[35m \u001b[0m\u001b[35m   0.10884393006563187   \u001b[0m\u001b[35m \u001b[0m│\n",
              "└───────────────────────────┴───────────────────────────┘\n"
            ],
            "text/html": [
              "<pre style=\"white-space:pre;overflow-x:auto;line-height:normal;font-family:Menlo,'DejaVu Sans Mono',consolas,'Courier New',monospace\">┏━━━━━━━━━━━━━━━━━━━━━━━━━━━┳━━━━━━━━━━━━━━━━━━━━━━━━━━━┓\n",
              "┃<span style=\"font-weight: bold\">        Test metric        </span>┃<span style=\"font-weight: bold\">       DataLoader 0        </span>┃\n",
              "┡━━━━━━━━━━━━━━━━━━━━━━━━━━━╇━━━━━━━━━━━━━━━━━━━━━━━━━━━┩\n",
              "│<span style=\"color: #008080; text-decoration-color: #008080\">         test/acc          </span>│<span style=\"color: #800080; text-decoration-color: #800080\">    0.9718869924545288     </span>│\n",
              "│<span style=\"color: #008080; text-decoration-color: #008080\">         test/loss         </span>│<span style=\"color: #800080; text-decoration-color: #800080\">    0.10884393006563187    </span>│\n",
              "└───────────────────────────┴───────────────────────────┘\n",
              "</pre>\n"
            ]
          },
          "metadata": {}
        },
        {
          "output_type": "stream",
          "name": "stderr",
          "text": [
            "/usr/lib/python3.10/multiprocessing/popen_fork.py:66: RuntimeWarning: os.fork() was called. os.fork() is incompatible with multithreaded code, and JAX is multithreaded, so this will likely lead to a deadlock.\n",
            "  self.pid = os.fork()\n",
            "INFO: LOCAL_RANK: 0 - CUDA_VISIBLE_DEVICES: [0]\n",
            "INFO:lightning.pytorch.accelerators.cuda:LOCAL_RANK: 0 - CUDA_VISIBLE_DEVICES: [0]\n"
          ]
        },
        {
          "output_type": "display_data",
          "data": {
            "text/plain": [
              "Testing: |          | 0/? [00:00<?, ?it/s]"
            ],
            "application/vnd.jupyter.widget-view+json": {
              "version_major": 2,
              "version_minor": 0,
              "model_id": "3adeec7eaab2477aa0d8156af06a6066"
            }
          },
          "metadata": {}
        },
        {
          "output_type": "display_data",
          "data": {
            "text/plain": [
              "┏━━━━━━━━━━━━━━━━━━━━━━━━━━━┳━━━━━━━━━━━━━━━━━━━━━━━━━━━┓\n",
              "┃\u001b[1m \u001b[0m\u001b[1m       Test metric       \u001b[0m\u001b[1m \u001b[0m┃\u001b[1m \u001b[0m\u001b[1m      DataLoader 0       \u001b[0m\u001b[1m \u001b[0m┃\n",
              "┡━━━━━━━━━━━━━━━━━━━━━━━━━━━╇━━━━━━━━━━━━━━━━━━━━━━━━━━━┩\n",
              "│\u001b[36m \u001b[0m\u001b[36m        test/acc         \u001b[0m\u001b[36m \u001b[0m│\u001b[35m \u001b[0m\u001b[35m    0.975343644618988    \u001b[0m\u001b[35m \u001b[0m│\n",
              "│\u001b[36m \u001b[0m\u001b[36m        test/loss        \u001b[0m\u001b[36m \u001b[0m│\u001b[35m \u001b[0m\u001b[35m   0.09059832990169525   \u001b[0m\u001b[35m \u001b[0m│\n",
              "└───────────────────────────┴───────────────────────────┘\n"
            ],
            "text/html": [
              "<pre style=\"white-space:pre;overflow-x:auto;line-height:normal;font-family:Menlo,'DejaVu Sans Mono',consolas,'Courier New',monospace\">┏━━━━━━━━━━━━━━━━━━━━━━━━━━━┳━━━━━━━━━━━━━━━━━━━━━━━━━━━┓\n",
              "┃<span style=\"font-weight: bold\">        Test metric        </span>┃<span style=\"font-weight: bold\">       DataLoader 0        </span>┃\n",
              "┡━━━━━━━━━━━━━━━━━━━━━━━━━━━╇━━━━━━━━━━━━━━━━━━━━━━━━━━━┩\n",
              "│<span style=\"color: #008080; text-decoration-color: #008080\">         test/acc          </span>│<span style=\"color: #800080; text-decoration-color: #800080\">     0.975343644618988     </span>│\n",
              "│<span style=\"color: #008080; text-decoration-color: #008080\">         test/loss         </span>│<span style=\"color: #800080; text-decoration-color: #800080\">    0.09059832990169525    </span>│\n",
              "└───────────────────────────┴───────────────────────────┘\n",
              "</pre>\n"
            ]
          },
          "metadata": {}
        },
        {
          "output_type": "stream",
          "name": "stderr",
          "text": [
            "INFO: LOCAL_RANK: 0 - CUDA_VISIBLE_DEVICES: [0]\n",
            "INFO:lightning.pytorch.accelerators.cuda:LOCAL_RANK: 0 - CUDA_VISIBLE_DEVICES: [0]\n"
          ]
        },
        {
          "output_type": "display_data",
          "data": {
            "text/plain": [
              "Testing: |          | 0/? [00:00<?, ?it/s]"
            ],
            "application/vnd.jupyter.widget-view+json": {
              "version_major": 2,
              "version_minor": 0,
              "model_id": "42747c6def384c51a7e7adf1e08f666b"
            }
          },
          "metadata": {}
        },
        {
          "output_type": "display_data",
          "data": {
            "text/plain": [
              "┏━━━━━━━━━━━━━━━━━━━━━━━━━━━┳━━━━━━━━━━━━━━━━━━━━━━━━━━━┓\n",
              "┃\u001b[1m \u001b[0m\u001b[1m       Test metric       \u001b[0m\u001b[1m \u001b[0m┃\u001b[1m \u001b[0m\u001b[1m      DataLoader 0       \u001b[0m\u001b[1m \u001b[0m┃\n",
              "┡━━━━━━━━━━━━━━━━━━━━━━━━━━━╇━━━━━━━━━━━━━━━━━━━━━━━━━━━┩\n",
              "│\u001b[36m \u001b[0m\u001b[36m        test/acc         \u001b[0m\u001b[36m \u001b[0m│\u001b[35m \u001b[0m\u001b[35m   0.9775015711784363    \u001b[0m\u001b[35m \u001b[0m│\n",
              "│\u001b[36m \u001b[0m\u001b[36m        test/loss        \u001b[0m\u001b[36m \u001b[0m│\u001b[35m \u001b[0m\u001b[35m   0.08196328580379486   \u001b[0m\u001b[35m \u001b[0m│\n",
              "└───────────────────────────┴───────────────────────────┘\n"
            ],
            "text/html": [
              "<pre style=\"white-space:pre;overflow-x:auto;line-height:normal;font-family:Menlo,'DejaVu Sans Mono',consolas,'Courier New',monospace\">┏━━━━━━━━━━━━━━━━━━━━━━━━━━━┳━━━━━━━━━━━━━━━━━━━━━━━━━━━┓\n",
              "┃<span style=\"font-weight: bold\">        Test metric        </span>┃<span style=\"font-weight: bold\">       DataLoader 0        </span>┃\n",
              "┡━━━━━━━━━━━━━━━━━━━━━━━━━━━╇━━━━━━━━━━━━━━━━━━━━━━━━━━━┩\n",
              "│<span style=\"color: #008080; text-decoration-color: #008080\">         test/acc          </span>│<span style=\"color: #800080; text-decoration-color: #800080\">    0.9775015711784363     </span>│\n",
              "│<span style=\"color: #008080; text-decoration-color: #008080\">         test/loss         </span>│<span style=\"color: #800080; text-decoration-color: #800080\">    0.08196328580379486    </span>│\n",
              "└───────────────────────────┴───────────────────────────┘\n",
              "</pre>\n"
            ]
          },
          "metadata": {}
        }
      ]
    },
    {
      "cell_type": "code",
      "source": [
        "#get criterion\n",
        "loss_fn = torch.nn.CrossEntropyLoss()\n",
        "weight_decay = 1e-5\n",
        "top_k = 1\n",
        "\n",
        "spectrum = get_hessian_max_spectrum(\n",
        "    model=equivariantmodel.net,\n",
        "    criterion=loss_fn,\n",
        "    train_dataloader=train_loader1,\n",
        "    weight_decay=weight_decay,\n",
        "    top_k=top_k,\n",
        "    cuda=True,\n",
        "    verbose=False,\n",
        ")\n",
        "# plotting etc...\n",
        "print(spectrum)"
      ],
      "metadata": {
        "id": "p3YI0TxybOz1",
        "colab": {
          "base_uri": "https://localhost:8080/"
        },
        "outputId": "48a45b2a-edaf-4c2f-bd05-4ec79ac115c9"
      },
      "execution_count": 65,
      "outputs": [
        {
          "output_type": "stream",
          "name": "stdout",
          "text": [
            "[333.031982421875, 254.37513732910156, 395.8107604980469, 287.7648010253906, 401.6199951171875, 414.1491394042969, 410.441162109375, 498.984619140625, 530.0369262695312, 296.0187072753906, 387.8148498535156, 274.1049499511719, 766.5582885742188, 465.79052734375, 422.53411865234375, 417.55615234375, 403.8988952636719, 532.3838500976562, 720.0921630859375, 479.35028076171875, 528.6215209960938, 454.8970947265625, 397.3937683105469, 409.3011474609375, 329.2708435058594, 510.29620361328125, 758.2106323242188, 740.628662109375, 572.430419921875, 692.5631103515625, 520.3715209960938, 182.6204833984375, 590.7817993164062, 523.0174560546875, 613.02099609375, 503.0660400390625, 579.7132568359375, 490.16015625, 331.343994140625, 418.6534118652344, 438.0970458984375, 506.46990966796875, 538.7897338867188, 290.7578430175781, 413.21563720703125, 481.84820556640625, 541.3834838867188, 677.215576171875, 747.4902954101562, 467.7528076171875, 739.9113159179688, 560.5393676757812, 512.3710327148438, 303.5492248535156, 610.9276123046875, 316.61871337890625, 221.5895233154297, 362.7914733886719, 313.8654479980469, 872.2951049804688, 458.436279296875, 263.7212219238281, 484.5103454589844, 399.1614685058594, 738.9041748046875, 272.5138244628906, 458.6981201171875, 303.18414306640625, 393.77984619140625, 328.2042541503906, 413.8892822265625, 642.6610717773438, 641.008544921875, 874.1571655273438, 372.827392578125, 529.0104370117188, 268.7242736816406, 481.32318115234375, 482.2596130371094, 510.3630065917969, 427.1429748535156, 433.3789978027344, 408.65167236328125, 223.23452758789062, 231.7783203125, 491.7130126953125, 443.9861145019531, 483.562255859375, 264.6827087402344, 370.2630615234375, 292.4689636230469, 261.6284484863281, 372.6754455566406, 557.0153198242188, 802.7447509765625, 423.7261047363281, 359.6263122558594, 329.3255310058594, 515.5411376953125, 511.0309143066406, 198.85968017578125, 303.0186462402344, 411.8247375488281, 729.6478881835938, 412.2502136230469, 336.8749084472656, 726.7825927734375, 622.3912963867188, 484.619384765625, 269.9864807128906, 386.95208740234375, 552.688232421875, 477.0025634765625, 511.48223876953125, 429.30340576171875, 257.7005615234375, 347.59210205078125, 307.7939147949219, 592.5737915039062, 657.2743530273438, 601.2853393554688, 247.1113739013672, 334.7955627441406, 576.3949584960938, 588.1029663085938, 529.8814697265625, 365.58721923828125, 571.9590454101562, 476.028564453125, 335.2339782714844, 471.9889831542969, 770.2286987304688, 665.1209716796875, 565.0595703125, 822.701171875, 531.0625, 973.8545532226562, 410.9610595703125, 789.7733154296875, 537.3961791992188, 452.2750244140625, 544.9236450195312, 328.4250183105469, 430.4637451171875, 573.8278198242188, 355.9228515625, 441.9842529296875, 378.67327880859375, 444.3838806152344, 477.47955322265625, 556.3922729492188, 315.4058837890625, 495.8985595703125, 368.0945739746094, 419.21917724609375, 579.9761352539062, 332.9350280761719, 502.3441467285156, 336.343505859375, 460.5832214355469, 240.65048217773438, 189.80686950683594, 367.5255126953125, 215.28997802734375, 536.4002075195312, 451.96917724609375, 307.2962646484375, 248.85569763183594, 218.47706604003906, 278.7452087402344, 738.1245727539062, 520.2979125976562, 330.4383850097656, 277.6267395019531, 425.00018310546875, 381.9191589355469, 466.0438232421875, 513.95556640625, 673.2568969726562, 510.0746154785156, 650.2837524414062, 188.16029357910156, 271.6206359863281, 381.33868408203125, 494.6335144042969, 356.8428649902344, 360.6876220703125, 568.6244506835938]\n"
          ]
        }
      ]
    },
    {
      "cell_type": "code",
      "source": [
        "import numpy as np\n",
        "import matplotlib.pyplot as plt\n",
        "from scipy.stats import gaussian_kde\n",
        "\n",
        "print(sum(np.array(spectrum) < 0))\n",
        "\n",
        "# Create kernel density estimate\n",
        "kde = gaussian_kde(spectrum)\n",
        "\n",
        "# Create x values for the plot\n",
        "x = np.linspace(min(spectrum), max(spectrum), 1000)\n",
        "\n",
        "# Compute the density estimate\n",
        "density = kde(x)\n",
        "\n",
        "# Plot density estimate as a line\n",
        "plt.plot(x, density)\n",
        "\n",
        "# Add labels and title\n",
        "plt.xlabel('Value')\n",
        "plt.ylabel('Density')\n",
        "plt.title('Density Plot')"
      ],
      "metadata": {
        "colab": {
          "base_uri": "https://localhost:8080/",
          "height": 507
        },
        "id": "dyDj4iiKyt53",
        "outputId": "1b91b574-109c-49e5-a2a7-9e711a8e50b9"
      },
      "execution_count": 66,
      "outputs": [
        {
          "output_type": "stream",
          "name": "stdout",
          "text": [
            "0\n"
          ]
        },
        {
          "output_type": "execute_result",
          "data": {
            "text/plain": [
              "Text(0.5, 1.0, 'Density Plot')"
            ]
          },
          "metadata": {},
          "execution_count": 66
        },
        {
          "output_type": "display_data",
          "data": {
            "text/plain": [
              "<Figure size 640x480 with 1 Axes>"
            ],
            "image/png": "[encoded data removed]"
          },
          "metadata": {}
        }
      ]
    },
    {
      "cell_type": "markdown",
      "source": [
        "###Do for CNN"
      ],
      "metadata": {
        "id": "7wGdspQEbdKu"
      }
    },
    {
      "cell_type": "code",
      "source": [
        "run = wandb.init()\n",
        "cnn_checkpoints = []\n",
        "\n",
        "#put the 15 checkpoints in a list\n",
        "for i in range(15):\n",
        "  checkpoint = run.use_artifact('uva-dl2/CNN_RotMNIST/model-4l530hst:v' + str(i), type='model')\n",
        "  dir = checkpoint.download()\n",
        "  cnn_checkpoints.append(torch.load(dir + '/model.ckpt'))\n",
        "\n",
        "\n",
        "# finish wandb run\n",
        "run.finish()"
      ],
      "metadata": {
        "colab": {
          "base_uri": "https://localhost:8080/",
          "height": 452,
          "referenced_widgets": [
            "6f6d73ebec9141eda7253fc51398ba75",
            "e6072013f648409e9499900d6607dfc3",
            "59d9807d546a416f8c67c868cc6ff7ea",
            "a6c219dfe49841e0860d3a000dfdcc07",
            "d6367f21b2034f76ae8e4649a9c50939",
            "1704fff76dce4328a513e03d902efa9b",
            "05968dfcea1e4429b6900c053155588d",
            "56a3e18d584e4221a4cd8ce07fc15dab"
          ]
        },
        "id": "lf5tUlwAbv1k",
        "outputId": "72da0c83-0618-4341-ade6-7460fd442814"
      },
      "execution_count": null,
      "outputs": [
        {
          "output_type": "display_data",
          "data": {
            "text/plain": [
              "<IPython.core.display.HTML object>"
            ],
            "text/html": [
              "Tracking run with wandb version 0.16.6"
            ]
          },
          "metadata": {}
        },
        {
          "output_type": "display_data",
          "data": {
            "text/plain": [
              "<IPython.core.display.HTML object>"
            ],
            "text/html": [
              "Run data is saved locally in <code>/content/dl2/wandb/run-20240422_155106-5s7p20s1</code>"
            ]
          },
          "metadata": {}
        },
        {
          "output_type": "display_data",
          "data": {
            "text/plain": [
              "<IPython.core.display.HTML object>"
            ],
            "text/html": [
              "Syncing run <strong><a href='https://wandb.ai/uva-dl2/dl2/runs/5s7p20s1' target=\"_blank\">royal-vortex-23</a></strong> to <a href='https://wandb.ai/uva-dl2/dl2' target=\"_blank\">Weights & Biases</a> (<a href='https://wandb.me/run' target=\"_blank\">docs</a>)<br/>"
            ]
          },
          "metadata": {}
        },
        {
          "output_type": "display_data",
          "data": {
            "text/plain": [
              "<IPython.core.display.HTML object>"
            ],
            "text/html": [
              " View project at <a href='https://wandb.ai/uva-dl2/dl2' target=\"_blank\">https://wandb.ai/uva-dl2/dl2</a>"
            ]
          },
          "metadata": {}
        },
        {
          "output_type": "display_data",
          "data": {
            "text/plain": [
              "<IPython.core.display.HTML object>"
            ],
            "text/html": [
              " View run at <a href='https://wandb.ai/uva-dl2/dl2/runs/5s7p20s1' target=\"_blank\">https://wandb.ai/uva-dl2/dl2/runs/5s7p20s1</a>"
            ]
          },
          "metadata": {}
        },
        {
          "output_type": "stream",
          "name": "stderr",
          "text": [
            "\u001b[34m\u001b[1mwandb\u001b[0m:   1 of 1 files downloaded.  \n",
            "\u001b[34m\u001b[1mwandb\u001b[0m:   1 of 1 files downloaded.  \n",
            "\u001b[34m\u001b[1mwandb\u001b[0m:   1 of 1 files downloaded.  \n",
            "\u001b[34m\u001b[1mwandb\u001b[0m:   1 of 1 files downloaded.  \n",
            "\u001b[34m\u001b[1mwandb\u001b[0m:   1 of 1 files downloaded.  \n",
            "\u001b[34m\u001b[1mwandb\u001b[0m:   1 of 1 files downloaded.  \n",
            "\u001b[34m\u001b[1mwandb\u001b[0m:   1 of 1 files downloaded.  \n",
            "\u001b[34m\u001b[1mwandb\u001b[0m:   1 of 1 files downloaded.  \n",
            "\u001b[34m\u001b[1mwandb\u001b[0m:   1 of 1 files downloaded.  \n",
            "\u001b[34m\u001b[1mwandb\u001b[0m:   1 of 1 files downloaded.  \n",
            "\u001b[34m\u001b[1mwandb\u001b[0m:   1 of 1 files downloaded.  \n",
            "\u001b[34m\u001b[1mwandb\u001b[0m:   1 of 1 files downloaded.  \n",
            "\u001b[34m\u001b[1mwandb\u001b[0m:   1 of 1 files downloaded.  \n",
            "\u001b[34m\u001b[1mwandb\u001b[0m:   1 of 1 files downloaded.  \n",
            "\u001b[34m\u001b[1mwandb\u001b[0m:   1 of 1 files downloaded.  \n"
          ]
        },
        {
          "output_type": "display_data",
          "data": {
            "text/plain": [
              "VBox(children=(Label(value='0.001 MB of 0.012 MB uploaded\\r'), FloatProgress(value=0.11378308586184635, max=1.…"
            ],
            "application/vnd.jupyter.widget-view+json": {
              "version_major": 2,
              "version_minor": 0,
              "model_id": "6f6d73ebec9141eda7253fc51398ba75"
            }
          },
          "metadata": {}
        },
        {
          "output_type": "display_data",
          "data": {
            "text/plain": [
              "<IPython.core.display.HTML object>"
            ],
            "text/html": [
              " View run <strong style=\"color:#cdcd00\">royal-vortex-23</strong> at: <a href='https://wandb.ai/uva-dl2/dl2/runs/5s7p20s1' target=\"_blank\">https://wandb.ai/uva-dl2/dl2/runs/5s7p20s1</a><br/> View project at: <a href='https://wandb.ai/uva-dl2/dl2' target=\"_blank\">https://wandb.ai/uva-dl2/dl2</a><br/>Synced 5 W&B file(s), 0 media file(s), 0 artifact file(s) and 0 other file(s)"
            ]
          },
          "metadata": {}
        },
        {
          "output_type": "display_data",
          "data": {
            "text/plain": [
              "<IPython.core.display.HTML object>"
            ],
            "text/html": [
              "Find logs at: <code>./wandb/run-20240422_155106-5s7p20s1/logs</code>"
            ]
          },
          "metadata": {}
        }
      ]
    },
    {
      "cell_type": "code",
      "source": [
        "print(len(cnn_checkpoints))\n",
        "cnn = PlModule(cnn_model)\n",
        "cnn.load_state_dict(cnn_checkpoints[12]['state_dict'])"
      ],
      "metadata": {
        "colab": {
          "base_uri": "https://localhost:8080/"
        },
        "id": "d4dibe2Mbzmg",
        "outputId": "6ce117c9-b8a8-41b7-f225-5b821c57704d"
      },
      "execution_count": null,
      "outputs": [
        {
          "output_type": "stream",
          "name": "stdout",
          "text": [
            "15\n"
          ]
        },
        {
          "output_type": "execute_result",
          "data": {
            "text/plain": [
              "<All keys matched successfully>"
            ]
          },
          "metadata": {},
          "execution_count": 50
        }
      ]
    },
    {
      "cell_type": "code",
      "source": [
        "pad = Pad((0, 0, 1, 1), fill=0)\n",
        "\n",
        "resize1 = Resize(87)\n",
        "resize2 = Resize(29)\n",
        "\n",
        "totensor = ToTensor()\n",
        "\n",
        "train_transform = Compose([\n",
        "    pad,\n",
        "    resize1,\n",
        "    RandomRotation(180., interpolation=InterpolationMode.BILINEAR, expand=False),\n",
        "    resize2,\n",
        "    totensor,\n",
        "])\n",
        "\n",
        "test_transform = Compose([\n",
        "    pad,\n",
        "    totensor,\n",
        "])\n",
        "\n",
        "\n",
        "dataset = MnistRotDataset(\"data/mnist/\",download=True, transform=train_transform)\n",
        "train_loader1 = utils.data.DataLoader(dataset, batch_size = 64, num_workers=7)"
      ],
      "metadata": {
        "id": "AxDAuPSnb7W2"
      },
      "execution_count": null,
      "outputs": []
    },
    {
      "cell_type": "code",
      "source": [
        "#get criterion\n",
        "loss_fn = torch.nn.CrossEntropyLoss()\n",
        "weight_decay = 1e-5\n",
        "top_k = 1\n",
        "\n",
        "spectrum = get_hessian_max_spectrum(\n",
        "    model=cnn.net,\n",
        "    criterion=loss_fn,\n",
        "    train_dataloader=train_loader1,\n",
        "    weight_decay=weight_decay,\n",
        "    top_k=top_k,\n",
        "    cuda=True,\n",
        "    verbose=False,\n",
        ")\n",
        "# plotting etc...\n",
        "print(spectrum)"
      ],
      "metadata": {
        "colab": {
          "base_uri": "https://localhost:8080/"
        },
        "id": "hDluPFKqbilc",
        "outputId": "18ba8198-74b8-4bc3-ec2a-114efddcbd84"
      },
      "execution_count": null,
      "outputs": [
        {
          "output_type": "stream",
          "name": "stdout",
          "text": [
            "[2275.118408203125, 1095.6337890625, 1039.4385986328125, 2222.73876953125, 1411.3935546875, 875.824951171875, 1904.9405517578125, 1949.60791015625, 2553.19970703125, 1305.8563232421875, 1030.135986328125, 1272.5654296875, 1916.4949951171875, 1468.9964599609375, 895.3472900390625, 1440.815185546875, 1127.07666015625, 1392.247802734375, 2330.771728515625, 608.7413330078125, 2996.583740234375, 3431.375732421875, 1156.906494140625, 898.31689453125, 1904.0301513671875, 2993.462890625, 1316.552001953125, 1383.8214111328125, 2872.70947265625, 2868.049560546875, 1806.08154296875, 729.8719482421875, 1321.500732421875, 1907.0887451171875, 1626.5419921875, 1356.6319580078125, 2472.715087890625, 1448.74658203125, 1383.6541748046875, 1575.610107421875, 2452.189697265625, 2792.68994140625, 2271.71142578125, 1328.8927001953125, 1576.3148193359375, 2436.5751953125, 1139.0185546875, 1186.6630859375, 4752.67431640625, 1992.92431640625, 2231.489013671875, 1201.863525390625, 741.259765625, 1332.9908447265625, 2264.212646484375, 4296.353515625, 775.919189453125, 2617.020751953125, 1475.970458984375, 1383.945556640625, 2079.74267578125, 987.4376831054688, 1174.7044677734375, 1706.98388671875, 1339.1964111328125, 1763.966064453125, 1365.6197509765625, 1363.8260498046875, 2337.251708984375, 1142.4588623046875, 856.9503784179688, 2870.81689453125, 5025.41015625, 2484.961669921875, 1460.8349609375, 1588.71875, 1029.816162109375, 1856.9176025390625, 1057.73974609375, 2549.375732421875, 969.8262939453125, 1673.4315185546875, 2536.720947265625, 1189.735595703125, 842.6403198242188, 1157.396240234375, 1539.49609375, 1925.9476318359375, 956.359130859375, 2393.259033203125, 2308.452880859375, 1346.31787109375, 1953.202880859375, 2076.034423828125, 1388.024658203125, 2606.22265625, 2092.852294921875, 1794.3182373046875, 910.8128051757812, 2985.702392578125, 1121.739990234375, 3338.694580078125, 1385.4969482421875, 1475.760498046875, 1523.9459228515625, 2316.929443359375, 1666.53466796875, 1805.6136474609375, 1798.634033203125, 1436.483154296875, 1543.68798828125, 1779.47998046875, 1579.802001953125, 1751.056884765625, 1636.9447021484375, 1938.5516357421875, 1515.407958984375, 1292.427001953125, 2660.054443359375, 2108.15673828125, 2486.980224609375, 1794.8109130859375, 2224.41796875, 2105.936767578125, 2384.95166015625, 3319.75, 1595.4737548828125, 2444.44775390625, 1833.89013671875, 1174.57470703125, 2652.756103515625, 2328.857177734375, 1845.059326171875, 2665.083740234375, 4761.80810546875, 1819.90087890625, 2244.44580078125, 2171.89794921875, 2436.1630859375, 1565.2130126953125, 2296.580810546875, 2446.5986328125, 1551.7867431640625, 2382.902587890625, 1773.6556396484375, 2630.6806640625, 1756.77734375, 1127.5264892578125, 2086.9296875, 1598.426513671875, 2118.333984375, 1417.4432373046875, 1391.093017578125, 2123.302490234375, 1912.5367431640625, 1849.6383056640625, 2458.71337890625, 1643.869873046875, 3266.890869140625, 1487.9603271484375, 2364.990234375, 1210.434326171875, 826.3599853515625, 1864.6097412109375, 1405.7088623046875, 1469.961669921875, 1539.8736572265625, 2638.4970703125, 827.0991821289062, 868.0311279296875, 2297.556396484375, 5333.80224609375, 1841.739013671875, 1316.693359375, 3573.09130859375, 2613.081787109375, 1187.273681640625, 1013.5319213867188, 2179.75634765625, 1148.74658203125, 2292.6611328125, 1079.3045654296875, 1223.306884765625, 2630.29296875, 2276.338134765625, 1363.71630859375, 1543.708984375, 1406.6788330078125]\n"
          ]
        }
      ]
    },
    {
      "cell_type": "code",
      "source": [
        "print(spectrum)"
      ],
      "metadata": {
        "colab": {
          "base_uri": "https://localhost:8080/"
        },
        "id": "407PEi5ofYks",
        "outputId": "269429e4-fa4f-4a0d-cfa4-fdccd249a9fe"
      },
      "execution_count": null,
      "outputs": [
        {
          "output_type": "stream",
          "name": "stdout",
          "text": [
            "[6875.40625, 5458.1083984375, 4423.2001953125, 4683.611328125, 5941.65283203125, 4858.1328125, 4823.703125, 5896.98828125, 5852.12109375, 5031.59228515625, 5160.06298828125, 4729.49462890625, 4687.4990234375, 8037.125, 5394.51513671875, 4012.002685546875, 5615.88818359375, 6808.6826171875, 6529.435546875, 5828.2626953125, 6375.70263671875, 6066.27734375, 3965.632568359375, 4112.02783203125, 6158.7685546875, 6011.3955078125, 5706.56689453125, 4558.5634765625, 4919.46875, 4116.5576171875, 5973.62158203125, 4209.6865234375, 7843.30224609375, 5642.18896484375, 6206.28515625, 5202.30810546875, 7452.43408203125, 5710.0068359375, 7445.5595703125, 4984.33203125, 8024.2041015625, 7435.71826171875, 6818.78564453125, 6401.49365234375, 5641.6650390625, 7815.703125, 4988.9267578125, 6618.49169921875, 5833.705078125, 5644.5712890625, 7210.99267578125, 6100.619140625, 7903.171875, 5609.67724609375, 9615.8232421875, 5828.18701171875, 3833.476318359375, 7533.93701171875, 6343.1982421875, 5757.0361328125, 5240.94384765625, 7500.3837890625, 8404.8544921875, 6103.01123046875, 5035.01416015625, 5455.63916015625, 5202.40966796875, 4872.60546875, 5992.033203125, 9025.474609375, 4555.62060546875, 6732.37646484375, 6664.4228515625, 8437.919921875, 8140.16064453125, 4803.15380859375, 5537.908203125, 7520.40966796875, 9194.26171875, 6405.05615234375, 5738.361328125, 4769.97705078125, 7116.65087890625, 4839.0634765625, 5039.64306640625, 5679.08447265625, 5501.91162109375, 6773.61083984375, 7073.40234375, 6215.61767578125, 12549.6103515625, 5246.15087890625, 4800.44873046875, 2576.76611328125, 4823.91015625, 8342.9296875, 5892.50390625, 6700.95361328125, 4060.697265625, 5781.48388671875, 5207.65771484375, 7800.92822265625, 5595.53857421875, 6312.095703125, 5106.3603515625, 7603.74951171875, 5499.97509765625, 4950.3359375, 5303.32373046875, 5097.0166015625, 5528.58154296875, 5350.11083984375, 5879.474609375, 5749.6787109375, 4464.69091796875, 4241.6728515625, 3762.043701171875, 4796.3291015625, 4872.37255859375, 6653.833984375, 7951.5654296875, 4945.408203125, 4874.1982421875, 5586.96630859375, 6442.841796875, 7207.982421875, 6233.39599609375, 6085.5615234375, 7803.0146484375, 5554.30126953125, 5043.337890625, 6850.36767578125, 4261.89794921875, 5584.1748046875, 6318.6123046875, 7457.54296875, 5151.49951171875, 6157.54931640625, 7693.1611328125, 6201.69482421875, 4867.462890625, 8440.51171875, 4419.93408203125, 4183.197265625, 4575.37548828125, 7047.0185546875, 7283.37451171875, 5314.14794921875, 5808.33154296875, 5411.41796875, 5687.88525390625, 6820.060546875, 6485.29638671875, 7957.88671875, 6337.58447265625, 4017.68798828125, 6778.3818359375, 5335.61279296875, 7552.31689453125, 7063.775390625, 7346.70849609375, 5066.396484375, 4531.8134765625, 4710.28173828125, 6924.7734375, 7473.9931640625, 5783.69921875, 7789.40283203125, 4608.96875, 6278.18408203125, 5102.08056640625, 7899.7890625, 5188.20458984375, 6280.3212890625, 6939.212890625, 6125.77197265625, 6051.2744140625, 5465.64013671875, 7250.2724609375, 4638.0947265625, 6418.1240234375, 5552.11962890625, 8209.287109375, 5717.70654296875, 8915.33984375, 8058.36962890625, 6196.37109375, 4062.49560546875]\n"
          ]
        }
      ]
    },
    {
      "cell_type": "code",
      "source": [
        "import numpy as np\n",
        "import matplotlib.pyplot as plt\n",
        "from scipy.stats import gaussian_kde\n",
        "\n",
        "print(sum(np.array(spectrum) < 0))\n",
        "\n",
        "# Create kernel density estimate\n",
        "kde = gaussian_kde(spectrum)\n",
        "\n",
        "# Create x values for the plot\n",
        "x = np.linspace(min(spectrum), max(spectrum), 1000)\n",
        "\n",
        "# Compute the density estimate\n",
        "density = kde(x)\n",
        "\n",
        "# Plot density estimate as a line\n",
        "plt.plot(x, density)\n",
        "\n",
        "# Add labels and title\n",
        "plt.xlabel('Value')\n",
        "plt.ylabel('Density')\n",
        "plt.title('Density Plot')"
      ],
      "metadata": {
        "colab": {
          "base_uri": "https://localhost:8080/",
          "height": 509
        },
        "id": "rYMC7_YnfbMW",
        "outputId": "b4d38fc7-768b-4001-8913-b628dab21498"
      },
      "execution_count": null,
      "outputs": [
        {
          "output_type": "stream",
          "name": "stdout",
          "text": [
            "0\n"
          ]
        },
        {
          "output_type": "execute_result",
          "data": {
            "text/plain": [
              "Text(0.5, 1.0, 'Density Plot')"
            ]
          },
          "metadata": {},
          "execution_count": 49
        },
        {
          "output_type": "display_data",
          "data": {
            "text/plain": [
              "<Figure size 640x480 with 1 Axes>"
            ],
            "image/png": "[encoded data removed]"
          },
          "metadata": {}
        }
      ]
    },
    {
      "cell_type": "markdown",
      "source": [
        "###put everything in one plot"
      ],
      "metadata": {
        "id": "1VXZrftn4ESH"
      }
    },
    {
      "cell_type": "code",
      "source": [
        "def plot_fn(spectrums: list, names: list, epoch: int):\n",
        "  fig, ax = plt.subplots()\n",
        "  # Create kernel density estimate\n",
        "  for spectrum, name in zip(spectrums,names):\n",
        "    kde = gaussian_kde(spectrum)\n",
        "\n",
        "    # Create x values for the plot\n",
        "    x = np.linspace(min(spectrum), max(spectrum), 1000)\n",
        "\n",
        "    # Compute the density estimate\n",
        "    density = kde(x)\n",
        "\n",
        "    # Plot density estimate as a line\n",
        "    ax.plot(x, density, label=name)\n",
        "\n",
        "  # Add labels and title\n",
        "  ax.set_xlabel('Max Eigenvalue')\n",
        "  ax.set_ylabel('Density')\n",
        "  ax.set_title('Density plot of max eigenvalues at epoch ' + str(epoch))\n",
        "  ax.legend()\n",
        "  plt.show()"
      ],
      "metadata": {
        "id": "RSG-GYs86A4O"
      },
      "execution_count": 74,
      "outputs": []
    },
    {
      "cell_type": "code",
      "source": [
        "cnn_epoch2 = [6875.40625, 5458.1083984375, 4423.2001953125, 4683.611328125, 5941.65283203125, 4858.1328125, 4823.703125, 5896.98828125, 5852.12109375, 5031.59228515625, 5160.06298828125, 4729.49462890625, 4687.4990234375, 8037.125, 5394.51513671875, 4012.002685546875, 5615.88818359375, 6808.6826171875, 6529.435546875, 5828.2626953125, 6375.70263671875, 6066.27734375, 3965.632568359375, 4112.02783203125, 6158.7685546875, 6011.3955078125, 5706.56689453125, 4558.5634765625, 4919.46875, 4116.5576171875, 5973.62158203125, 4209.6865234375, 7843.30224609375, 5642.18896484375, 6206.28515625, 5202.30810546875, 7452.43408203125, 5710.0068359375, 7445.5595703125, 4984.33203125, 8024.2041015625, 7435.71826171875, 6818.78564453125, 6401.49365234375, 5641.6650390625, 7815.703125, 4988.9267578125, 6618.49169921875, 5833.705078125, 5644.5712890625, 7210.99267578125, 6100.619140625, 7903.171875, 5609.67724609375, 9615.8232421875, 5828.18701171875, 3833.476318359375, 7533.93701171875, 6343.1982421875, 5757.0361328125, 5240.94384765625, 7500.3837890625, 8404.8544921875, 6103.01123046875, 5035.01416015625, 5455.63916015625, 5202.40966796875, 4872.60546875, 5992.033203125, 9025.474609375, 4555.62060546875, 6732.37646484375, 6664.4228515625, 8437.919921875, 8140.16064453125, 4803.15380859375, 5537.908203125, 7520.40966796875, 9194.26171875, 6405.05615234375, 5738.361328125, 4769.97705078125, 7116.65087890625, 4839.0634765625, 5039.64306640625, 5679.08447265625, 5501.91162109375, 6773.61083984375, 7073.40234375, 6215.61767578125, 12549.6103515625, 5246.15087890625, 4800.44873046875, 2576.76611328125, 4823.91015625, 8342.9296875, 5892.50390625, 6700.95361328125, 4060.697265625, 5781.48388671875, 5207.65771484375, 7800.92822265625, 5595.53857421875, 6312.095703125, 5106.3603515625, 7603.74951171875, 5499.97509765625, 4950.3359375, 5303.32373046875, 5097.0166015625, 5528.58154296875, 5350.11083984375, 5879.474609375, 5749.6787109375, 4464.69091796875, 4241.6728515625, 3762.043701171875, 4796.3291015625, 4872.37255859375, 6653.833984375, 7951.5654296875, 4945.408203125, 4874.1982421875, 5586.96630859375, 6442.841796875, 7207.982421875, 6233.39599609375, 6085.5615234375, 7803.0146484375, 5554.30126953125, 5043.337890625, 6850.36767578125, 4261.89794921875, 5584.1748046875, 6318.6123046875, 7457.54296875, 5151.49951171875, 6157.54931640625, 7693.1611328125, 6201.69482421875, 4867.462890625, 8440.51171875, 4419.93408203125, 4183.197265625, 4575.37548828125, 7047.0185546875, 7283.37451171875, 5314.14794921875, 5808.33154296875, 5411.41796875, 5687.88525390625, 6820.060546875, 6485.29638671875, 7957.88671875, 6337.58447265625, 4017.68798828125, 6778.3818359375, 5335.61279296875, 7552.31689453125, 7063.775390625, 7346.70849609375, 5066.396484375, 4531.8134765625, 4710.28173828125, 6924.7734375, 7473.9931640625, 5783.69921875, 7789.40283203125, 4608.96875, 6278.18408203125, 5102.08056640625, 7899.7890625, 5188.20458984375, 6280.3212890625, 6939.212890625, 6125.77197265625, 6051.2744140625, 5465.64013671875, 7250.2724609375, 4638.0947265625, 6418.1240234375, 5552.11962890625, 8209.287109375, 5717.70654296875, 8915.33984375, 8058.36962890625, 6196.37109375, 4062.49560546875]\n",
        "cnn_epoch24 = [2275.118408203125, 1095.6337890625, 1039.4385986328125, 2222.73876953125, 1411.3935546875, 875.824951171875, 1904.9405517578125, 1949.60791015625, 2553.19970703125, 1305.8563232421875, 1030.135986328125, 1272.5654296875, 1916.4949951171875, 1468.9964599609375, 895.3472900390625, 1440.815185546875, 1127.07666015625, 1392.247802734375, 2330.771728515625, 608.7413330078125, 2996.583740234375, 3431.375732421875, 1156.906494140625, 898.31689453125, 1904.0301513671875, 2993.462890625, 1316.552001953125, 1383.8214111328125, 2872.70947265625, 2868.049560546875, 1806.08154296875, 729.8719482421875, 1321.500732421875, 1907.0887451171875, 1626.5419921875, 1356.6319580078125, 2472.715087890625, 1448.74658203125, 1383.6541748046875, 1575.610107421875, 2452.189697265625, 2792.68994140625, 2271.71142578125, 1328.8927001953125, 1576.3148193359375, 2436.5751953125, 1139.0185546875, 1186.6630859375, 4752.67431640625, 1992.92431640625, 2231.489013671875, 1201.863525390625, 741.259765625, 1332.9908447265625, 2264.212646484375, 4296.353515625, 775.919189453125, 2617.020751953125, 1475.970458984375, 1383.945556640625, 2079.74267578125, 987.4376831054688, 1174.7044677734375, 1706.98388671875, 1339.1964111328125, 1763.966064453125, 1365.6197509765625, 1363.8260498046875, 2337.251708984375, 1142.4588623046875, 856.9503784179688, 2870.81689453125, 5025.41015625, 2484.961669921875, 1460.8349609375, 1588.71875, 1029.816162109375, 1856.9176025390625, 1057.73974609375, 2549.375732421875, 969.8262939453125, 1673.4315185546875, 2536.720947265625, 1189.735595703125, 842.6403198242188, 1157.396240234375, 1539.49609375, 1925.9476318359375, 956.359130859375, 2393.259033203125, 2308.452880859375, 1346.31787109375, 1953.202880859375, 2076.034423828125, 1388.024658203125, 2606.22265625, 2092.852294921875, 1794.3182373046875, 910.8128051757812, 2985.702392578125, 1121.739990234375, 3338.694580078125, 1385.4969482421875, 1475.760498046875, 1523.9459228515625, 2316.929443359375, 1666.53466796875, 1805.6136474609375, 1798.634033203125, 1436.483154296875, 1543.68798828125, 1779.47998046875, 1579.802001953125, 1751.056884765625, 1636.9447021484375, 1938.5516357421875, 1515.407958984375, 1292.427001953125, 2660.054443359375, 2108.15673828125, 2486.980224609375, 1794.8109130859375, 2224.41796875, 2105.936767578125, 2384.95166015625, 3319.75, 1595.4737548828125, 2444.44775390625, 1833.89013671875, 1174.57470703125, 2652.756103515625, 2328.857177734375, 1845.059326171875, 2665.083740234375, 4761.80810546875, 1819.90087890625, 2244.44580078125, 2171.89794921875, 2436.1630859375, 1565.2130126953125, 2296.580810546875, 2446.5986328125, 1551.7867431640625, 2382.902587890625, 1773.6556396484375, 2630.6806640625, 1756.77734375, 1127.5264892578125, 2086.9296875, 1598.426513671875, 2118.333984375, 1417.4432373046875, 1391.093017578125, 2123.302490234375, 1912.5367431640625, 1849.6383056640625, 2458.71337890625, 1643.869873046875, 3266.890869140625, 1487.9603271484375, 2364.990234375, 1210.434326171875, 826.3599853515625, 1864.6097412109375, 1405.7088623046875, 1469.961669921875, 1539.8736572265625, 2638.4970703125, 827.0991821289062, 868.0311279296875, 2297.556396484375, 5333.80224609375, 1841.739013671875, 1316.693359375, 3573.09130859375, 2613.081787109375, 1187.273681640625, 1013.5319213867188, 2179.75634765625, 1148.74658203125, 2292.6611328125, 1079.3045654296875, 1223.306884765625, 2630.29296875, 2276.338134765625, 1363.71630859375, 1543.708984375, 1406.6788330078125]\n",
        "\n",
        "scnn_epoch2 =[333.031982421875, 254.37513732910156, 395.8107604980469, 287.7648010253906, 401.6199951171875, 414.1491394042969, 410.441162109375, 498.984619140625, 530.0369262695312, 296.0187072753906, 387.8148498535156, 274.1049499511719, 766.5582885742188, 465.79052734375, 422.53411865234375, 417.55615234375, 403.8988952636719, 532.3838500976562, 720.0921630859375, 479.35028076171875, 528.6215209960938, 454.8970947265625, 397.3937683105469, 409.3011474609375, 329.2708435058594, 510.29620361328125, 758.2106323242188, 740.628662109375, 572.430419921875, 692.5631103515625, 520.3715209960938, 182.6204833984375, 590.7817993164062, 523.0174560546875, 613.02099609375, 503.0660400390625, 579.7132568359375, 490.16015625, 331.343994140625, 418.6534118652344, 438.0970458984375, 506.46990966796875, 538.7897338867188, 290.7578430175781, 413.21563720703125, 481.84820556640625, 541.3834838867188, 677.215576171875, 747.4902954101562, 467.7528076171875, 739.9113159179688, 560.5393676757812, 512.3710327148438, 303.5492248535156, 610.9276123046875, 316.61871337890625, 221.5895233154297, 362.7914733886719, 313.8654479980469, 872.2951049804688, 458.436279296875, 263.7212219238281, 484.5103454589844, 399.1614685058594, 738.9041748046875, 272.5138244628906, 458.6981201171875, 303.18414306640625, 393.77984619140625, 328.2042541503906, 413.8892822265625, 642.6610717773438, 641.008544921875, 874.1571655273438, 372.827392578125, 529.0104370117188, 268.7242736816406, 481.32318115234375, 482.2596130371094, 510.3630065917969, 427.1429748535156, 433.3789978027344, 408.65167236328125, 223.23452758789062, 231.7783203125, 491.7130126953125, 443.9861145019531, 483.562255859375, 264.6827087402344, 370.2630615234375, 292.4689636230469, 261.6284484863281, 372.6754455566406, 557.0153198242188, 802.7447509765625, 423.7261047363281, 359.6263122558594, 329.3255310058594, 515.5411376953125, 511.0309143066406, 198.85968017578125, 303.0186462402344, 411.8247375488281, 729.6478881835938, 412.2502136230469, 336.8749084472656, 726.7825927734375, 622.3912963867188, 484.619384765625, 269.9864807128906, 386.95208740234375, 552.688232421875, 477.0025634765625, 511.48223876953125, 429.30340576171875, 257.7005615234375, 347.59210205078125, 307.7939147949219, 592.5737915039062, 657.2743530273438, 601.2853393554688, 247.1113739013672, 334.7955627441406, 576.3949584960938, 588.1029663085938, 529.8814697265625, 365.58721923828125, 571.9590454101562, 476.028564453125, 335.2339782714844, 471.9889831542969, 770.2286987304688, 665.1209716796875, 565.0595703125, 822.701171875, 531.0625, 973.8545532226562, 410.9610595703125, 789.7733154296875, 537.3961791992188, 452.2750244140625, 544.9236450195312, 328.4250183105469, 430.4637451171875, 573.8278198242188, 355.9228515625, 441.9842529296875, 378.67327880859375, 444.3838806152344, 477.47955322265625, 556.3922729492188, 315.4058837890625, 495.8985595703125, 368.0945739746094, 419.21917724609375, 579.9761352539062, 332.9350280761719, 502.3441467285156, 336.343505859375, 460.5832214355469, 240.65048217773438, 189.80686950683594, 367.5255126953125, 215.28997802734375, 536.4002075195312, 451.96917724609375, 307.2962646484375, 248.85569763183594, 218.47706604003906, 278.7452087402344, 738.1245727539062, 520.2979125976562, 330.4383850097656, 277.6267395019531, 425.00018310546875, 381.9191589355469, 466.0438232421875, 513.95556640625, 673.2568969726562, 510.0746154785156, 650.2837524414062, 188.16029357910156, 271.6206359863281, 381.33868408203125, 494.6335144042969, 356.8428649902344, 360.6876220703125, 568.6244506835938]\n",
        "scnn_epoch24 = [314.642333984375, 173.0394744873047, 251.52407836914062, 224.0927276611328, 289.7452697753906, 518.0335693359375, 70.21331787109375, 133.7662353515625, 174.97073364257812, 242.20401000976562, 75.68696594238281, 141.51077270507812, 211.8843994140625, 254.21253967285156, 408.58538818359375, 347.27166748046875, 231.11448669433594, 70.58531951904297, 200.52410888671875, 253.30239868164062, 142.2261505126953, 507.2702331542969, 374.36279296875, 234.97105407714844, 37.048274993896484, 709.0480346679688, 309.60760498046875, 174.18565368652344, 508.20440673828125, 348.5980224609375, 377.426513671875, 79.34432220458984, 150.40591430664062, 62.91594696044922, 89.2257308959961, 123.99053955078125, 182.80841064453125, 535.4548950195312, 499.47601318359375, 732.4172973632812, 82.8945083618164, 92.45112609863281, 282.131591796875, 86.27645111083984, 75.18305206298828, 413.90423583984375, 114.23973846435547, 889.9210815429688, 318.5820617675781, 586.5587158203125, 450.68701171875, 150.817626953125, 312.25372314453125, 383.4609680175781, 362.8493957519531, 532.34765625, 274.8279724121094, 166.28546142578125, 49.724098205566406, 463.49322509765625, 106.7916488647461, 92.72545623779297, 728.14404296875, 118.90805053710938, 700.1868896484375, 239.196044921875, 181.5623779296875, 512.6734008789062, 586.2227172851562, 267.2084045410156, 200.5968780517578, 56.24433898925781, 85.43285369873047, 151.36549377441406, 141.33209228515625, 480.5205078125, 345.6182861328125, 113.46076965332031, 185.97796630859375, 441.51708984375, 95.9354248046875, 631.320068359375, 676.0302124023438, 36.419639587402344, 175.99636840820312, 91.646484375, 242.6637725830078, 295.6427001953125, 153.91709899902344, 77.33868408203125, 113.58612823486328, 228.50839233398438, 358.5420837402344, 346.5455322265625, 644.94189453125, 139.03628540039062, 179.16546630859375, 314.6929626464844, 171.4453887939453, 116.79743194580078, 109.5234603881836, 311.95220947265625, 155.49615478515625, 911.0560302734375, 303.4095153808594, 201.7030487060547, 619.3152465820312, 158.49351501464844, 103.769775390625, 116.8880615234375, 380.30511474609375, 498.2089538574219, 82.62061309814453, 340.9488830566406, 177.7736053466797, 30.15569305419922, 519.9591064453125, 295.7077331542969, 296.7663269042969, 950.8773193359375, 203.52793884277344, 186.70701599121094, 181.02883911132812, 263.6725158691406, 243.75843811035156, 180.3946990966797, 315.0299072265625, 608.1897583007812, 245.5016326904297, 50.253395080566406, 55.26443099975586, 249.5272979736328, 147.0072479248047, 96.0326156616211, 280.4730529785156, 247.1970977783203, 397.70416259765625, 383.3400573730469, 74.02103424072266, 75.7012939453125, 1144.8358154296875, 102.35597229003906, 193.84149169921875, 82.64066314697266, 97.4927978515625, 142.8053436279297, 137.12156677246094, 372.5215148925781, 322.0830993652344, 448.4815368652344, 188.78372192382812, 239.43112182617188, 59.15226745605469, 330.9130554199219, 134.79830932617188, 230.75701904296875, 44.7327995300293, 84.60397338867188, 56.85826110839844, 44.78538513183594, 199.33502197265625, 33.233089447021484, 384.9004821777344, 68.20487976074219, 51.88193893432617, 198.47805786132812, 60.4770622253418, 55.7204475402832, 56.83805465698242, 28.10547637939453, 367.2054138183594, 262.2610778808594, 45.478084564208984, 134.99961853027344, 83.70127868652344, 127.74578094482422, 327.6318359375, 646.6409301757812, 179.415771484375, 438.2740783691406, 45.22396469116211, 42.39576721191406, 109.94139099121094, 123.7861557006836, 190.0303192138672, 82.54149627685547, 139.28213500976562, 302.4882507324219]\n",
        "\n",
        "plot_fn([cnn_epoch24, scnn_epoch24], ['cnn', 'c8 steerable cnn'], 24)\n",
        "plot_fn([cnn_epoch2, scnn_epoch2], ['cnn', 'c8 steerable cnn'], 2)\n",
        "\n",
        "\n"
      ],
      "metadata": {
        "id": "pqlCG24g44mP",
        "colab": {
          "base_uri": "https://localhost:8080/",
          "height": 927
        },
        "outputId": "15f4e59a-e1aa-4361-bb43-747b98b2ce41"
      },
      "execution_count": 77,
      "outputs": [
        {
          "output_type": "display_data",
          "data": {
            "text/plain": [
              "<Figure size 640x480 with 1 Axes>"
            ],
            "image/png": "[encoded data removed]"
          },
          "metadata": {}
        },
        {
          "output_type": "display_data",
          "data": {
            "text/plain": [
              "<Figure size 640x480 with 1 Axes>"
            ],
            "image/png": "[encoded data removed]"
          },
          "metadata": {}
        }
      ]
    }
  ],
  "metadata": {
    "kernelspec": {
      "display_name": "Python 3",
      "name": "python3"
    },
    "language_info": {
      "codemirror_mode": {
        "name": "ipython",
        "version": 3
      },
      "file_extension": ".py",
      "mimetype": "text/x-python",
      "name": "python",
      "nbconvert_exporter": "python",
      "pygments_lexer": "ipython3",
      "version": "3.11.5"
    },
    "colab": {
      "provenance": [],
      "gpuType": "T4"
    },
    "accelerator": "GPU",
    "widgets": {
      "application/vnd.jupyter.widget-state+json": {
        "abaeaf843e9f415e9ae89c9a525e1a68": {
          "model_module": "@jupyter-widgets/controls",
          "model_name": "VBoxModel",
          "model_module_version": "1.5.0",
          "state": {
            "_dom_classes": [],
            "_model_module": "@jupyter-widgets/controls",
            "_model_module_version": "1.5.0",
            "_model_name": "VBoxModel",
            "_view_count": null,
            "_view_module": "@jupyter-widgets/controls",
            "_view_module_version": "1.5.0",
            "_view_name": "VBoxView",
            "box_style": "",
            "children": [
              "IPY_MODEL_783c972688ef4130b04c7b4cd7f2e423",
              "IPY_MODEL_42bb03a6ae954b16a789b015b32863d1"
            ],
            "layout": "IPY_MODEL_f362c72adf184c0994e1439facaf1355"
          }
        },
        "783c972688ef4130b04c7b4cd7f2e423": {
          "model_module": "@jupyter-widgets/controls",
          "model_name": "LabelModel",
          "model_module_version": "1.5.0",
          "state": {
            "_dom_classes": [],
            "_model_module": "@jupyter-widgets/controls",
            "_model_module_version": "1.5.0",
            "_model_name": "LabelModel",
            "_view_count": null,
            "_view_module": "@jupyter-widgets/controls",
            "_view_module_version": "1.5.0",
            "_view_name": "LabelView",
            "description": "",
            "description_tooltip": null,
            "layout": "IPY_MODEL_d9a41c90dba24fad8594b37d99c7f15b",
            "placeholder": "​",
            "style": "IPY_MODEL_d0aaa5ba63604f93a401d7ac1c5f18e7",
            "value": "0.013 MB of 0.013 MB uploaded\r"
          }
        },
        "42bb03a6ae954b16a789b015b32863d1": {
          "model_module": "@jupyter-widgets/controls",
          "model_name": "FloatProgressModel",
          "model_module_version": "1.5.0",
          "state": {
            "_dom_classes": [],
            "_model_module": "@jupyter-widgets/controls",
            "_model_module_version": "1.5.0",
            "_model_name": "FloatProgressModel",
            "_view_count": null,
            "_view_module": "@jupyter-widgets/controls",
            "_view_module_version": "1.5.0",
            "_view_name": "ProgressView",
            "bar_style": "",
            "description": "",
            "description_tooltip": null,
            "layout": "IPY_MODEL_831a2229161a4387816b4954d612700a",
            "max": 1,
            "min": 0,
            "orientation": "horizontal",
            "style": "IPY_MODEL_e9d60988c6da4aeea2ef22307cbb367d",
            "value": 1
          }
        },
        "f362c72adf184c0994e1439facaf1355": {
          "model_module": "@jupyter-widgets/base",
          "model_name": "LayoutModel",
          "model_module_version": "1.2.0",
          "state": {
            "_model_module": "@jupyter-widgets/base",
            "_model_module_version": "1.2.0",
            "_model_name": "LayoutModel",
            "_view_count": null,
            "_view_module": "@jupyter-widgets/base",
            "_view_module_version": "1.2.0",
            "_view_name": "LayoutView",
            "align_content": null,
            "align_items": null,
            "align_self": null,
            "border": null,
            "bottom": null,
            "display": null,
            "flex": null,
            "flex_flow": null,
            "grid_area": null,
            "grid_auto_columns": null,
            "grid_auto_flow": null,
            "grid_auto_rows": null,
            "grid_column": null,
            "grid_gap": null,
            "grid_row": null,
            "grid_template_areas": null,
            "grid_template_columns": null,
            "grid_template_rows": null,
            "height": null,
            "justify_content": null,
            "justify_items": null,
            "left": null,
            "margin": null,
            "max_height": null,
            "max_width": null,
            "min_height": null,
            "min_width": null,
            "object_fit": null,
            "object_position": null,
            "order": null,
            "overflow": null,
            "overflow_x": null,
            "overflow_y": null,
            "padding": null,
            "right": null,
            "top": null,
            "visibility": null,
            "width": null
          }
        },
        "d9a41c90dba24fad8594b37d99c7f15b": {
          "model_module": "@jupyter-widgets/base",
          "model_name": "LayoutModel",
          "model_module_version": "1.2.0",
          "state": {
            "_model_module": "@jupyter-widgets/base",
            "_model_module_version": "1.2.0",
            "_model_name": "LayoutModel",
            "_view_count": null,
            "_view_module": "@jupyter-widgets/base",
            "_view_module_version": "1.2.0",
            "_view_name": "LayoutView",
            "align_content": null,
            "align_items": null,
            "align_self": null,
            "border": null,
            "bottom": null,
            "display": null,
            "flex": null,
            "flex_flow": null,
            "grid_area": null,
            "grid_auto_columns": null,
            "grid_auto_flow": null,
            "grid_auto_rows": null,
            "grid_column": null,
            "grid_gap": null,
            "grid_row": null,
            "grid_template_areas": null,
            "grid_template_columns": null,
            "grid_template_rows": null,
            "height": null,
            "justify_content": null,
            "justify_items": null,
            "left": null,
            "margin": null,
            "max_height": null,
            "max_width": null,
            "min_height": null,
            "min_width": null,
            "object_fit": null,
            "object_position": null,
            "order": null,
            "overflow": null,
            "overflow_x": null,
            "overflow_y": null,
            "padding": null,
            "right": null,
            "top": null,
            "visibility": null,
            "width": null
          }
        },
        "d0aaa5ba63604f93a401d7ac1c5f18e7": {
          "model_module": "@jupyter-widgets/controls",
          "model_name": "DescriptionStyleModel",
          "model_module_version": "1.5.0",
          "state": {
            "_model_module": "@jupyter-widgets/controls",
            "_model_module_version": "1.5.0",
            "_model_name": "DescriptionStyleModel",
            "_view_count": null,
            "_view_module": "@jupyter-widgets/base",
            "_view_module_version": "1.2.0",
            "_view_name": "StyleView",
            "description_width": ""
          }
        },
        "831a2229161a4387816b4954d612700a": {
          "model_module": "@jupyter-widgets/base",
          "model_name": "LayoutModel",
          "model_module_version": "1.2.0",
          "state": {
            "_model_module": "@jupyter-widgets/base",
            "_model_module_version": "1.2.0",
            "_model_name": "LayoutModel",
            "_view_count": null,
            "_view_module": "@jupyter-widgets/base",
            "_view_module_version": "1.2.0",
            "_view_name": "LayoutView",
            "align_content": null,
            "align_items": null,
            "align_self": null,
            "border": null,
            "bottom": null,
            "display": null,
            "flex": null,
            "flex_flow": null,
            "grid_area": null,
            "grid_auto_columns": null,
            "grid_auto_flow": null,
            "grid_auto_rows": null,
            "grid_column": null,
            "grid_gap": null,
            "grid_row": null,
            "grid_template_areas": null,
            "grid_template_columns": null,
            "grid_template_rows": null,
            "height": null,
            "justify_content": null,
            "justify_items": null,
            "left": null,
            "margin": null,
            "max_height": null,
            "max_width": null,
            "min_height": null,
            "min_width": null,
            "object_fit": null,
            "object_position": null,
            "order": null,
            "overflow": null,
            "overflow_x": null,
            "overflow_y": null,
            "padding": null,
            "right": null,
            "top": null,
            "visibility": null,
            "width": null
          }
        },
        "e9d60988c6da4aeea2ef22307cbb367d": {
          "model_module": "@jupyter-widgets/controls",
          "model_name": "ProgressStyleModel",
          "model_module_version": "1.5.0",
          "state": {
            "_model_module": "@jupyter-widgets/controls",
            "_model_module_version": "1.5.0",
            "_model_name": "ProgressStyleModel",
            "_view_count": null,
            "_view_module": "@jupyter-widgets/base",
            "_view_module_version": "1.2.0",
            "_view_name": "StyleView",
            "bar_color": null,
            "description_width": ""
          }
        },
        "e2724204fe7845c8a03821236956751e": {
          "model_module": "@jupyter-widgets/controls",
          "model_name": "HBoxModel",
          "model_module_version": "1.5.0",
          "state": {
            "_dom_classes": [],
            "_model_module": "@jupyter-widgets/controls",
            "_model_module_version": "1.5.0",
            "_model_name": "HBoxModel",
            "_view_count": null,
            "_view_module": "@jupyter-widgets/controls",
            "_view_module_version": "1.5.0",
            "_view_name": "HBoxView",
            "box_style": "",
            "children": [
              "IPY_MODEL_414f2270c00146a3a8e80dd5269558eb",
              "IPY_MODEL_f432cd44954c45a487dd14d4b1681a5f",
              "IPY_MODEL_ebc3b40dd7054193ae80c4c51a7df8af"
            ],
            "layout": "IPY_MODEL_401a7c7fea0e4e9cb8b1f077cb10d40c"
          }
        },
        "414f2270c00146a3a8e80dd5269558eb": {
          "model_module": "@jupyter-widgets/controls",
          "model_name": "HTMLModel",
          "model_module_version": "1.5.0",
          "state": {
            "_dom_classes": [],
            "_model_module": "@jupyter-widgets/controls",
            "_model_module_version": "1.5.0",
            "_model_name": "HTMLModel",
            "_view_count": null,
            "_view_module": "@jupyter-widgets/controls",
            "_view_module_version": "1.5.0",
            "_view_name": "HTMLView",
            "description": "",
            "description_tooltip": null,
            "layout": "IPY_MODEL_5e410c31c5b84e908c9dff76999b343b",
            "placeholder": "​",
            "style": "IPY_MODEL_4e3cbdb02ec64d69b63a924794f23475",
            "value": "Testing DataLoader 0: 100%"
          }
        },
        "f432cd44954c45a487dd14d4b1681a5f": {
          "model_module": "@jupyter-widgets/controls",
          "model_name": "FloatProgressModel",
          "model_module_version": "1.5.0",
          "state": {
            "_dom_classes": [],
            "_model_module": "@jupyter-widgets/controls",
            "_model_module_version": "1.5.0",
            "_model_name": "FloatProgressModel",
            "_view_count": null,
            "_view_module": "@jupyter-widgets/controls",
            "_view_module_version": "1.5.0",
            "_view_name": "ProgressView",
            "bar_style": "success",
            "description": "",
            "description_tooltip": null,
            "layout": "IPY_MODEL_012190a4e8d94823be3b2db24488567c",
            "max": 782,
            "min": 0,
            "orientation": "horizontal",
            "style": "IPY_MODEL_50eb8b4c40b94f1ebd035c0066785afd",
            "value": 782
          }
        },
        "ebc3b40dd7054193ae80c4c51a7df8af": {
          "model_module": "@jupyter-widgets/controls",
          "model_name": "HTMLModel",
          "model_module_version": "1.5.0",
          "state": {
            "_dom_classes": [],
            "_model_module": "@jupyter-widgets/controls",
            "_model_module_version": "1.5.0",
            "_model_name": "HTMLModel",
            "_view_count": null,
            "_view_module": "@jupyter-widgets/controls",
            "_view_module_version": "1.5.0",
            "_view_name": "HTMLView",
            "description": "",
            "description_tooltip": null,
            "layout": "IPY_MODEL_e8d1fd15b9144251bacd2fcb86472872",
            "placeholder": "​",
            "style": "IPY_MODEL_d43ed4fd2d4b41dc9d674d526af0fc65",
            "value": " 782/782 [01:04&lt;00:00, 12.19it/s]"
          }
        },
        "401a7c7fea0e4e9cb8b1f077cb10d40c": {
          "model_module": "@jupyter-widgets/base",
          "model_name": "LayoutModel",
          "model_module_version": "1.2.0",
          "state": {
            "_model_module": "@jupyter-widgets/base",
            "_model_module_version": "1.2.0",
            "_model_name": "LayoutModel",
            "_view_count": null,
            "_view_module": "@jupyter-widgets/base",
            "_view_module_version": "1.2.0",
            "_view_name": "LayoutView",
            "align_content": null,
            "align_items": null,
            "align_self": null,
            "border": null,
            "bottom": null,
            "display": "inline-flex",
            "flex": null,
            "flex_flow": "row wrap",
            "grid_area": null,
            "grid_auto_columns": null,
            "grid_auto_flow": null,
            "grid_auto_rows": null,
            "grid_column": null,
            "grid_gap": null,
            "grid_row": null,
            "grid_template_areas": null,
            "grid_template_columns": null,
            "grid_template_rows": null,
            "height": null,
            "justify_content": null,
            "justify_items": null,
            "left": null,
            "margin": null,
            "max_height": null,
            "max_width": null,
            "min_height": null,
            "min_width": null,
            "object_fit": null,
            "object_position": null,
            "order": null,
            "overflow": null,
            "overflow_x": null,
            "overflow_y": null,
            "padding": null,
            "right": null,
            "top": null,
            "visibility": null,
            "width": "100%"
          }
        },
        "5e410c31c5b84e908c9dff76999b343b": {
          "model_module": "@jupyter-widgets/base",
          "model_name": "LayoutModel",
          "model_module_version": "1.2.0",
          "state": {
            "_model_module": "@jupyter-widgets/base",
            "_model_module_version": "1.2.0",
            "_model_name": "LayoutModel",
            "_view_count": null,
            "_view_module": "@jupyter-widgets/base",
            "_view_module_version": "1.2.0",
            "_view_name": "LayoutView",
            "align_content": null,
            "align_items": null,
            "align_self": null,
            "border": null,
            "bottom": null,
            "display": null,
            "flex": null,
            "flex_flow": null,
            "grid_area": null,
            "grid_auto_columns": null,
            "grid_auto_flow": null,
            "grid_auto_rows": null,
            "grid_column": null,
            "grid_gap": null,
            "grid_row": null,
            "grid_template_areas": null,
            "grid_template_columns": null,
            "grid_template_rows": null,
            "height": null,
            "justify_content": null,
            "justify_items": null,
            "left": null,
            "margin": null,
            "max_height": null,
            "max_width": null,
            "min_height": null,
            "min_width": null,
            "object_fit": null,
            "object_position": null,
            "order": null,
            "overflow": null,
            "overflow_x": null,
            "overflow_y": null,
            "padding": null,
            "right": null,
            "top": null,
            "visibility": null,
            "width": null
          }
        },
        "4e3cbdb02ec64d69b63a924794f23475": {
          "model_module": "@jupyter-widgets/controls",
          "model_name": "DescriptionStyleModel",
          "model_module_version": "1.5.0",
          "state": {
            "_model_module": "@jupyter-widgets/controls",
            "_model_module_version": "1.5.0",
            "_model_name": "DescriptionStyleModel",
            "_view_count": null,
            "_view_module": "@jupyter-widgets/base",
            "_view_module_version": "1.2.0",
            "_view_name": "StyleView",
            "description_width": ""
          }
        },
        "012190a4e8d94823be3b2db24488567c": {
          "model_module": "@jupyter-widgets/base",
          "model_name": "LayoutModel",
          "model_module_version": "1.2.0",
          "state": {
            "_model_module": "@jupyter-widgets/base",
            "_model_module_version": "1.2.0",
            "_model_name": "LayoutModel",
            "_view_count": null,
            "_view_module": "@jupyter-widgets/base",
            "_view_module_version": "1.2.0",
            "_view_name": "LayoutView",
            "align_content": null,
            "align_items": null,
            "align_self": null,
            "border": null,
            "bottom": null,
            "display": null,
            "flex": "2",
            "flex_flow": null,
            "grid_area": null,
            "grid_auto_columns": null,
            "grid_auto_flow": null,
            "grid_auto_rows": null,
            "grid_column": null,
            "grid_gap": null,
            "grid_row": null,
            "grid_template_areas": null,
            "grid_template_columns": null,
            "grid_template_rows": null,
            "height": null,
            "justify_content": null,
            "justify_items": null,
            "left": null,
            "margin": null,
            "max_height": null,
            "max_width": null,
            "min_height": null,
            "min_width": null,
            "object_fit": null,
            "object_position": null,
            "order": null,
            "overflow": null,
            "overflow_x": null,
            "overflow_y": null,
            "padding": null,
            "right": null,
            "top": null,
            "visibility": null,
            "width": null
          }
        },
        "50eb8b4c40b94f1ebd035c0066785afd": {
          "model_module": "@jupyter-widgets/controls",
          "model_name": "ProgressStyleModel",
          "model_module_version": "1.5.0",
          "state": {
            "_model_module": "@jupyter-widgets/controls",
            "_model_module_version": "1.5.0",
            "_model_name": "ProgressStyleModel",
            "_view_count": null,
            "_view_module": "@jupyter-widgets/base",
            "_view_module_version": "1.2.0",
            "_view_name": "StyleView",
            "bar_color": null,
            "description_width": ""
          }
        },
        "e8d1fd15b9144251bacd2fcb86472872": {
          "model_module": "@jupyter-widgets/base",
          "model_name": "LayoutModel",
          "model_module_version": "1.2.0",
          "state": {
            "_model_module": "@jupyter-widgets/base",
            "_model_module_version": "1.2.0",
            "_model_name": "LayoutModel",
            "_view_count": null,
            "_view_module": "@jupyter-widgets/base",
            "_view_module_version": "1.2.0",
            "_view_name": "LayoutView",
            "align_content": null,
            "align_items": null,
            "align_self": null,
            "border": null,
            "bottom": null,
            "display": null,
            "flex": null,
            "flex_flow": null,
            "grid_area": null,
            "grid_auto_columns": null,
            "grid_auto_flow": null,
            "grid_auto_rows": null,
            "grid_column": null,
            "grid_gap": null,
            "grid_row": null,
            "grid_template_areas": null,
            "grid_template_columns": null,
            "grid_template_rows": null,
            "height": null,
            "justify_content": null,
            "justify_items": null,
            "left": null,
            "margin": null,
            "max_height": null,
            "max_width": null,
            "min_height": null,
            "min_width": null,
            "object_fit": null,
            "object_position": null,
            "order": null,
            "overflow": null,
            "overflow_x": null,
            "overflow_y": null,
            "padding": null,
            "right": null,
            "top": null,
            "visibility": null,
            "width": null
          }
        },
        "d43ed4fd2d4b41dc9d674d526af0fc65": {
          "model_module": "@jupyter-widgets/controls",
          "model_name": "DescriptionStyleModel",
          "model_module_version": "1.5.0",
          "state": {
            "_model_module": "@jupyter-widgets/controls",
            "_model_module_version": "1.5.0",
            "_model_name": "DescriptionStyleModel",
            "_view_count": null,
            "_view_module": "@jupyter-widgets/base",
            "_view_module_version": "1.2.0",
            "_view_name": "StyleView",
            "description_width": ""
          }
        },
        "3adeec7eaab2477aa0d8156af06a6066": {
          "model_module": "@jupyter-widgets/controls",
          "model_name": "HBoxModel",
          "model_module_version": "1.5.0",
          "state": {
            "_dom_classes": [],
            "_model_module": "@jupyter-widgets/controls",
            "_model_module_version": "1.5.0",
            "_model_name": "HBoxModel",
            "_view_count": null,
            "_view_module": "@jupyter-widgets/controls",
            "_view_module_version": "1.5.0",
            "_view_name": "HBoxView",
            "box_style": "",
            "children": [
              "IPY_MODEL_d749eeafabf149438bf52bc2a6b65cf4",
              "IPY_MODEL_e329b80e594f470688278f106f4a4f4e",
              "IPY_MODEL_08d8a518214a4cd9b10a99476de79018"
            ],
            "layout": "IPY_MODEL_0e153a70d9e446d5bd08b7f11b0283c4"
          }
        },
        "d749eeafabf149438bf52bc2a6b65cf4": {
          "model_module": "@jupyter-widgets/controls",
          "model_name": "HTMLModel",
          "model_module_version": "1.5.0",
          "state": {
            "_dom_classes": [],
            "_model_module": "@jupyter-widgets/controls",
            "_model_module_version": "1.5.0",
            "_model_name": "HTMLModel",
            "_view_count": null,
            "_view_module": "@jupyter-widgets/controls",
            "_view_module_version": "1.5.0",
            "_view_name": "HTMLView",
            "description": "",
            "description_tooltip": null,
            "layout": "IPY_MODEL_c605136358384a968787bbd3b21bf9af",
            "placeholder": "​",
            "style": "IPY_MODEL_fd29df31f350422bac7a36e9d501223f",
            "value": "Testing DataLoader 0: 100%"
          }
        },
        "e329b80e594f470688278f106f4a4f4e": {
          "model_module": "@jupyter-widgets/controls",
          "model_name": "FloatProgressModel",
          "model_module_version": "1.5.0",
          "state": {
            "_dom_classes": [],
            "_model_module": "@jupyter-widgets/controls",
            "_model_module_version": "1.5.0",
            "_model_name": "FloatProgressModel",
            "_view_count": null,
            "_view_module": "@jupyter-widgets/controls",
            "_view_module_version": "1.5.0",
            "_view_name": "ProgressView",
            "bar_style": "success",
            "description": "",
            "description_tooltip": null,
            "layout": "IPY_MODEL_d03714a551bf437dba90563630931e03",
            "max": 782,
            "min": 0,
            "orientation": "horizontal",
            "style": "IPY_MODEL_c961248655dc414c8f5b9a55d63a4d70",
            "value": 782
          }
        },
        "08d8a518214a4cd9b10a99476de79018": {
          "model_module": "@jupyter-widgets/controls",
          "model_name": "HTMLModel",
          "model_module_version": "1.5.0",
          "state": {
            "_dom_classes": [],
            "_model_module": "@jupyter-widgets/controls",
            "_model_module_version": "1.5.0",
            "_model_name": "HTMLModel",
            "_view_count": null,
            "_view_module": "@jupyter-widgets/controls",
            "_view_module_version": "1.5.0",
            "_view_name": "HTMLView",
            "description": "",
            "description_tooltip": null,
            "layout": "IPY_MODEL_69ef75c79f1d4be8a7ee227437dd6c37",
            "placeholder": "​",
            "style": "IPY_MODEL_1437a6540e0443539e7124460bfe12bd",
            "value": " 782/782 [01:12&lt;00:00, 10.79it/s]"
          }
        },
        "0e153a70d9e446d5bd08b7f11b0283c4": {
          "model_module": "@jupyter-widgets/base",
          "model_name": "LayoutModel",
          "model_module_version": "1.2.0",
          "state": {
            "_model_module": "@jupyter-widgets/base",
            "_model_module_version": "1.2.0",
            "_model_name": "LayoutModel",
            "_view_count": null,
            "_view_module": "@jupyter-widgets/base",
            "_view_module_version": "1.2.0",
            "_view_name": "LayoutView",
            "align_content": null,
            "align_items": null,
            "align_self": null,
            "border": null,
            "bottom": null,
            "display": "inline-flex",
            "flex": null,
            "flex_flow": "row wrap",
            "grid_area": null,
            "grid_auto_columns": null,
            "grid_auto_flow": null,
            "grid_auto_rows": null,
            "grid_column": null,
            "grid_gap": null,
            "grid_row": null,
            "grid_template_areas": null,
            "grid_template_columns": null,
            "grid_template_rows": null,
            "height": null,
            "justify_content": null,
            "justify_items": null,
            "left": null,
            "margin": null,
            "max_height": null,
            "max_width": null,
            "min_height": null,
            "min_width": null,
            "object_fit": null,
            "object_position": null,
            "order": null,
            "overflow": null,
            "overflow_x": null,
            "overflow_y": null,
            "padding": null,
            "right": null,
            "top": null,
            "visibility": null,
            "width": "100%"
          }
        },
        "c605136358384a968787bbd3b21bf9af": {
          "model_module": "@jupyter-widgets/base",
          "model_name": "LayoutModel",
          "model_module_version": "1.2.0",
          "state": {
            "_model_module": "@jupyter-widgets/base",
            "_model_module_version": "1.2.0",
            "_model_name": "LayoutModel",
            "_view_count": null,
            "_view_module": "@jupyter-widgets/base",
            "_view_module_version": "1.2.0",
            "_view_name": "LayoutView",
            "align_content": null,
            "align_items": null,
            "align_self": null,
            "border": null,
            "bottom": null,
            "display": null,
            "flex": null,
            "flex_flow": null,
            "grid_area": null,
            "grid_auto_columns": null,
            "grid_auto_flow": null,
            "grid_auto_rows": null,
            "grid_column": null,
            "grid_gap": null,
            "grid_row": null,
            "grid_template_areas": null,
            "grid_template_columns": null,
            "grid_template_rows": null,
            "height": null,
            "justify_content": null,
            "justify_items": null,
            "left": null,
            "margin": null,
            "max_height": null,
            "max_width": null,
            "min_height": null,
            "min_width": null,
            "object_fit": null,
            "object_position": null,
            "order": null,
            "overflow": null,
            "overflow_x": null,
            "overflow_y": null,
            "padding": null,
            "right": null,
            "top": null,
            "visibility": null,
            "width": null
          }
        },
        "fd29df31f350422bac7a36e9d501223f": {
          "model_module": "@jupyter-widgets/controls",
          "model_name": "DescriptionStyleModel",
          "model_module_version": "1.5.0",
          "state": {
            "_model_module": "@jupyter-widgets/controls",
            "_model_module_version": "1.5.0",
            "_model_name": "DescriptionStyleModel",
            "_view_count": null,
            "_view_module": "@jupyter-widgets/base",
            "_view_module_version": "1.2.0",
            "_view_name": "StyleView",
            "description_width": ""
          }
        },
        "d03714a551bf437dba90563630931e03": {
          "model_module": "@jupyter-widgets/base",
          "model_name": "LayoutModel",
          "model_module_version": "1.2.0",
          "state": {
            "_model_module": "@jupyter-widgets/base",
            "_model_module_version": "1.2.0",
            "_model_name": "LayoutModel",
            "_view_count": null,
            "_view_module": "@jupyter-widgets/base",
            "_view_module_version": "1.2.0",
            "_view_name": "LayoutView",
            "align_content": null,
            "align_items": null,
            "align_self": null,
            "border": null,
            "bottom": null,
            "display": null,
            "flex": "2",
            "flex_flow": null,
            "grid_area": null,
            "grid_auto_columns": null,
            "grid_auto_flow": null,
            "grid_auto_rows": null,
            "grid_column": null,
            "grid_gap": null,
            "grid_row": null,
            "grid_template_areas": null,
            "grid_template_columns": null,
            "grid_template_rows": null,
            "height": null,
            "justify_content": null,
            "justify_items": null,
            "left": null,
            "margin": null,
            "max_height": null,
            "max_width": null,
            "min_height": null,
            "min_width": null,
            "object_fit": null,
            "object_position": null,
            "order": null,
            "overflow": null,
            "overflow_x": null,
            "overflow_y": null,
            "padding": null,
            "right": null,
            "top": null,
            "visibility": null,
            "width": null
          }
        },
        "c961248655dc414c8f5b9a55d63a4d70": {
          "model_module": "@jupyter-widgets/controls",
          "model_name": "ProgressStyleModel",
          "model_module_version": "1.5.0",
          "state": {
            "_model_module": "@jupyter-widgets/controls",
            "_model_module_version": "1.5.0",
            "_model_name": "ProgressStyleModel",
            "_view_count": null,
            "_view_module": "@jupyter-widgets/base",
            "_view_module_version": "1.2.0",
            "_view_name": "StyleView",
            "bar_color": null,
            "description_width": ""
          }
        },
        "69ef75c79f1d4be8a7ee227437dd6c37": {
          "model_module": "@jupyter-widgets/base",
          "model_name": "LayoutModel",
          "model_module_version": "1.2.0",
          "state": {
            "_model_module": "@jupyter-widgets/base",
            "_model_module_version": "1.2.0",
            "_model_name": "LayoutModel",
            "_view_count": null,
            "_view_module": "@jupyter-widgets/base",
            "_view_module_version": "1.2.0",
            "_view_name": "LayoutView",
            "align_content": null,
            "align_items": null,
            "align_self": null,
            "border": null,
            "bottom": null,
            "display": null,
            "flex": null,
            "flex_flow": null,
            "grid_area": null,
            "grid_auto_columns": null,
            "grid_auto_flow": null,
            "grid_auto_rows": null,
            "grid_column": null,
            "grid_gap": null,
            "grid_row": null,
            "grid_template_areas": null,
            "grid_template_columns": null,
            "grid_template_rows": null,
            "height": null,
            "justify_content": null,
            "justify_items": null,
            "left": null,
            "margin": null,
            "max_height": null,
            "max_width": null,
            "min_height": null,
            "min_width": null,
            "object_fit": null,
            "object_position": null,
            "order": null,
            "overflow": null,
            "overflow_x": null,
            "overflow_y": null,
            "padding": null,
            "right": null,
            "top": null,
            "visibility": null,
            "width": null
          }
        },
        "1437a6540e0443539e7124460bfe12bd": {
          "model_module": "@jupyter-widgets/controls",
          "model_name": "DescriptionStyleModel",
          "model_module_version": "1.5.0",
          "state": {
            "_model_module": "@jupyter-widgets/controls",
            "_model_module_version": "1.5.0",
            "_model_name": "DescriptionStyleModel",
            "_view_count": null,
            "_view_module": "@jupyter-widgets/base",
            "_view_module_version": "1.2.0",
            "_view_name": "StyleView",
            "description_width": ""
          }
        },
        "42747c6def384c51a7e7adf1e08f666b": {
          "model_module": "@jupyter-widgets/controls",
          "model_name": "HBoxModel",
          "model_module_version": "1.5.0",
          "state": {
            "_dom_classes": [],
            "_model_module": "@jupyter-widgets/controls",
            "_model_module_version": "1.5.0",
            "_model_name": "HBoxModel",
            "_view_count": null,
            "_view_module": "@jupyter-widgets/controls",
            "_view_module_version": "1.5.0",
            "_view_name": "HBoxView",
            "box_style": "",
            "children": [
              "IPY_MODEL_06ec982bc8654ea887c43ee12062cb67",
              "IPY_MODEL_f3c5198d65d34d13bffce1658b0ae4e2",
              "IPY_MODEL_b3aa8fb1a785417097e6d257a2b6518a"
            ],
            "layout": "IPY_MODEL_cedb3e2543544c7aba992af0aa692a73"
          }
        },
        "06ec982bc8654ea887c43ee12062cb67": {
          "model_module": "@jupyter-widgets/controls",
          "model_name": "HTMLModel",
          "model_module_version": "1.5.0",
          "state": {
            "_dom_classes": [],
            "_model_module": "@jupyter-widgets/controls",
            "_model_module_version": "1.5.0",
            "_model_name": "HTMLModel",
            "_view_count": null,
            "_view_module": "@jupyter-widgets/controls",
            "_view_module_version": "1.5.0",
            "_view_name": "HTMLView",
            "description": "",
            "description_tooltip": null,
            "layout": "IPY_MODEL_5570de687db14db49c517f0d199c6fc8",
            "placeholder": "​",
            "style": "IPY_MODEL_f08a42d745ae4e9bb2e4e1990076f9a9",
            "value": "Testing DataLoader 0: 100%"
          }
        },
        "f3c5198d65d34d13bffce1658b0ae4e2": {
          "model_module": "@jupyter-widgets/controls",
          "model_name": "FloatProgressModel",
          "model_module_version": "1.5.0",
          "state": {
            "_dom_classes": [],
            "_model_module": "@jupyter-widgets/controls",
            "_model_module_version": "1.5.0",
            "_model_name": "FloatProgressModel",
            "_view_count": null,
            "_view_module": "@jupyter-widgets/controls",
            "_view_module_version": "1.5.0",
            "_view_name": "ProgressView",
            "bar_style": "success",
            "description": "",
            "description_tooltip": null,
            "layout": "IPY_MODEL_a7bac047478c421db7c4a64deec7383c",
            "max": 782,
            "min": 0,
            "orientation": "horizontal",
            "style": "IPY_MODEL_00992e24a71543d582b3ade557e1eda8",
            "value": 782
          }
        },
        "b3aa8fb1a785417097e6d257a2b6518a": {
          "model_module": "@jupyter-widgets/controls",
          "model_name": "HTMLModel",
          "model_module_version": "1.5.0",
          "state": {
            "_dom_classes": [],
            "_model_module": "@jupyter-widgets/controls",
            "_model_module_version": "1.5.0",
            "_model_name": "HTMLModel",
            "_view_count": null,
            "_view_module": "@jupyter-widgets/controls",
            "_view_module_version": "1.5.0",
            "_view_name": "HTMLView",
            "description": "",
            "description_tooltip": null,
            "layout": "IPY_MODEL_aac9c92309fd433d90c7451789d86866",
            "placeholder": "​",
            "style": "IPY_MODEL_f562aa63b0c143b8b742c503bd7eea71",
            "value": " 782/782 [01:12&lt;00:00, 10.78it/s]"
          }
        },
        "cedb3e2543544c7aba992af0aa692a73": {
          "model_module": "@jupyter-widgets/base",
          "model_name": "LayoutModel",
          "model_module_version": "1.2.0",
          "state": {
            "_model_module": "@jupyter-widgets/base",
            "_model_module_version": "1.2.0",
            "_model_name": "LayoutModel",
            "_view_count": null,
            "_view_module": "@jupyter-widgets/base",
            "_view_module_version": "1.2.0",
            "_view_name": "LayoutView",
            "align_content": null,
            "align_items": null,
            "align_self": null,
            "border": null,
            "bottom": null,
            "display": "inline-flex",
            "flex": null,
            "flex_flow": "row wrap",
            "grid_area": null,
            "grid_auto_columns": null,
            "grid_auto_flow": null,
            "grid_auto_rows": null,
            "grid_column": null,
            "grid_gap": null,
            "grid_row": null,
            "grid_template_areas": null,
            "grid_template_columns": null,
            "grid_template_rows": null,
            "height": null,
            "justify_content": null,
            "justify_items": null,
            "left": null,
            "margin": null,
            "max_height": null,
            "max_width": null,
            "min_height": null,
            "min_width": null,
            "object_fit": null,
            "object_position": null,
            "order": null,
            "overflow": null,
            "overflow_x": null,
            "overflow_y": null,
            "padding": null,
            "right": null,
            "top": null,
            "visibility": null,
            "width": "100%"
          }
        },
        "5570de687db14db49c517f0d199c6fc8": {
          "model_module": "@jupyter-widgets/base",
          "model_name": "LayoutModel",
          "model_module_version": "1.2.0",
          "state": {
            "_model_module": "@jupyter-widgets/base",
            "_model_module_version": "1.2.0",
            "_model_name": "LayoutModel",
            "_view_count": null,
            "_view_module": "@jupyter-widgets/base",
            "_view_module_version": "1.2.0",
            "_view_name": "LayoutView",
            "align_content": null,
            "align_items": null,
            "align_self": null,
            "border": null,
            "bottom": null,
            "display": null,
            "flex": null,
            "flex_flow": null,
            "grid_area": null,
            "grid_auto_columns": null,
            "grid_auto_flow": null,
            "grid_auto_rows": null,
            "grid_column": null,
            "grid_gap": null,
            "grid_row": null,
            "grid_template_areas": null,
            "grid_template_columns": null,
            "grid_template_rows": null,
            "height": null,
            "justify_content": null,
            "justify_items": null,
            "left": null,
            "margin": null,
            "max_height": null,
            "max_width": null,
            "min_height": null,
            "min_width": null,
            "object_fit": null,
            "object_position": null,
            "order": null,
            "overflow": null,
            "overflow_x": null,
            "overflow_y": null,
            "padding": null,
            "right": null,
            "top": null,
            "visibility": null,
            "width": null
          }
        },
        "f08a42d745ae4e9bb2e4e1990076f9a9": {
          "model_module": "@jupyter-widgets/controls",
          "model_name": "DescriptionStyleModel",
          "model_module_version": "1.5.0",
          "state": {
            "_model_module": "@jupyter-widgets/controls",
            "_model_module_version": "1.5.0",
            "_model_name": "DescriptionStyleModel",
            "_view_count": null,
            "_view_module": "@jupyter-widgets/base",
            "_view_module_version": "1.2.0",
            "_view_name": "StyleView",
            "description_width": ""
          }
        },
        "a7bac047478c421db7c4a64deec7383c": {
          "model_module": "@jupyter-widgets/base",
          "model_name": "LayoutModel",
          "model_module_version": "1.2.0",
          "state": {
            "_model_module": "@jupyter-widgets/base",
            "_model_module_version": "1.2.0",
            "_model_name": "LayoutModel",
            "_view_count": null,
            "_view_module": "@jupyter-widgets/base",
            "_view_module_version": "1.2.0",
            "_view_name": "LayoutView",
            "align_content": null,
            "align_items": null,
            "align_self": null,
            "border": null,
            "bottom": null,
            "display": null,
            "flex": "2",
            "flex_flow": null,
            "grid_area": null,
            "grid_auto_columns": null,
            "grid_auto_flow": null,
            "grid_auto_rows": null,
            "grid_column": null,
            "grid_gap": null,
            "grid_row": null,
            "grid_template_areas": null,
            "grid_template_columns": null,
            "grid_template_rows": null,
            "height": null,
            "justify_content": null,
            "justify_items": null,
            "left": null,
            "margin": null,
            "max_height": null,
            "max_width": null,
            "min_height": null,
            "min_width": null,
            "object_fit": null,
            "object_position": null,
            "order": null,
            "overflow": null,
            "overflow_x": null,
            "overflow_y": null,
            "padding": null,
            "right": null,
            "top": null,
            "visibility": null,
            "width": null
          }
        },
        "00992e24a71543d582b3ade557e1eda8": {
          "model_module": "@jupyter-widgets/controls",
          "model_name": "ProgressStyleModel",
          "model_module_version": "1.5.0",
          "state": {
            "_model_module": "@jupyter-widgets/controls",
            "_model_module_version": "1.5.0",
            "_model_name": "ProgressStyleModel",
            "_view_count": null,
            "_view_module": "@jupyter-widgets/base",
            "_view_module_version": "1.2.0",
            "_view_name": "StyleView",
            "bar_color": null,
            "description_width": ""
          }
        },
        "aac9c92309fd433d90c7451789d86866": {
          "model_module": "@jupyter-widgets/base",
          "model_name": "LayoutModel",
          "model_module_version": "1.2.0",
          "state": {
            "_model_module": "@jupyter-widgets/base",
            "_model_module_version": "1.2.0",
            "_model_name": "LayoutModel",
            "_view_count": null,
            "_view_module": "@jupyter-widgets/base",
            "_view_module_version": "1.2.0",
            "_view_name": "LayoutView",
            "align_content": null,
            "align_items": null,
            "align_self": null,
            "border": null,
            "bottom": null,
            "display": null,
            "flex": null,
            "flex_flow": null,
            "grid_area": null,
            "grid_auto_columns": null,
            "grid_auto_flow": null,
            "grid_auto_rows": null,
            "grid_column": null,
            "grid_gap": null,
            "grid_row": null,
            "grid_template_areas": null,
            "grid_template_columns": null,
            "grid_template_rows": null,
            "height": null,
            "justify_content": null,
            "justify_items": null,
            "left": null,
            "margin": null,
            "max_height": null,
            "max_width": null,
            "min_height": null,
            "min_width": null,
            "object_fit": null,
            "object_position": null,
            "order": null,
            "overflow": null,
            "overflow_x": null,
            "overflow_y": null,
            "padding": null,
            "right": null,
            "top": null,
            "visibility": null,
            "width": null
          }
        },
        "f562aa63b0c143b8b742c503bd7eea71": {
          "model_module": "@jupyter-widgets/controls",
          "model_name": "DescriptionStyleModel",
          "model_module_version": "1.5.0",
          "state": {
            "_model_module": "@jupyter-widgets/controls",
            "_model_module_version": "1.5.0",
            "_model_name": "DescriptionStyleModel",
            "_view_count": null,
            "_view_module": "@jupyter-widgets/base",
            "_view_module_version": "1.2.0",
            "_view_name": "StyleView",
            "description_width": ""
          }
        },
        "6f6d73ebec9141eda7253fc51398ba75": {
          "model_module": "@jupyter-widgets/controls",
          "model_name": "VBoxModel",
          "model_module_version": "1.5.0",
          "state": {
            "_dom_classes": [],
            "_model_module": "@jupyter-widgets/controls",
            "_model_module_version": "1.5.0",
            "_model_name": "VBoxModel",
            "_view_count": null,
            "_view_module": "@jupyter-widgets/controls",
            "_view_module_version": "1.5.0",
            "_view_name": "VBoxView",
            "box_style": "",
            "children": [
              "IPY_MODEL_e6072013f648409e9499900d6607dfc3",
              "IPY_MODEL_59d9807d546a416f8c67c868cc6ff7ea"
            ],
            "layout": "IPY_MODEL_a6c219dfe49841e0860d3a000dfdcc07"
          }
        },
        "e6072013f648409e9499900d6607dfc3": {
          "model_module": "@jupyter-widgets/controls",
          "model_name": "LabelModel",
          "model_module_version": "1.5.0",
          "state": {
            "_dom_classes": [],
            "_model_module": "@jupyter-widgets/controls",
            "_model_module_version": "1.5.0",
            "_model_name": "LabelModel",
            "_view_count": null,
            "_view_module": "@jupyter-widgets/controls",
            "_view_module_version": "1.5.0",
            "_view_name": "LabelView",
            "description": "",
            "description_tooltip": null,
            "layout": "IPY_MODEL_d6367f21b2034f76ae8e4649a9c50939",
            "placeholder": "​",
            "style": "IPY_MODEL_1704fff76dce4328a513e03d902efa9b",
            "value": "0.012 MB of 0.012 MB uploaded\r"
          }
        },
        "59d9807d546a416f8c67c868cc6ff7ea": {
          "model_module": "@jupyter-widgets/controls",
          "model_name": "FloatProgressModel",
          "model_module_version": "1.5.0",
          "state": {
            "_dom_classes": [],
            "_model_module": "@jupyter-widgets/controls",
            "_model_module_version": "1.5.0",
            "_model_name": "FloatProgressModel",
            "_view_count": null,
            "_view_module": "@jupyter-widgets/controls",
            "_view_module_version": "1.5.0",
            "_view_name": "ProgressView",
            "bar_style": "",
            "description": "",
            "description_tooltip": null,
            "layout": "IPY_MODEL_05968dfcea1e4429b6900c053155588d",
            "max": 1,
            "min": 0,
            "orientation": "horizontal",
            "style": "IPY_MODEL_56a3e18d584e4221a4cd8ce07fc15dab",
            "value": 1
          }
        },
        "a6c219dfe49841e0860d3a000dfdcc07": {
          "model_module": "@jupyter-widgets/base",
          "model_name": "LayoutModel",
          "model_module_version": "1.2.0",
          "state": {
            "_model_module": "@jupyter-widgets/base",
            "_model_module_version": "1.2.0",
            "_model_name": "LayoutModel",
            "_view_count": null,
            "_view_module": "@jupyter-widgets/base",
            "_view_module_version": "1.2.0",
            "_view_name": "LayoutView",
            "align_content": null,
            "align_items": null,
            "align_self": null,
            "border": null,
            "bottom": null,
            "display": null,
            "flex": null,
            "flex_flow": null,
            "grid_area": null,
            "grid_auto_columns": null,
            "grid_auto_flow": null,
            "grid_auto_rows": null,
            "grid_column": null,
            "grid_gap": null,
            "grid_row": null,
            "grid_template_areas": null,
            "grid_template_columns": null,
            "grid_template_rows": null,
            "height": null,
            "justify_content": null,
            "justify_items": null,
            "left": null,
            "margin": null,
            "max_height": null,
            "max_width": null,
            "min_height": null,
            "min_width": null,
            "object_fit": null,
            "object_position": null,
            "order": null,
            "overflow": null,
            "overflow_x": null,
            "overflow_y": null,
            "padding": null,
            "right": null,
            "top": null,
            "visibility": null,
            "width": null
          }
        },
        "d6367f21b2034f76ae8e4649a9c50939": {
          "model_module": "@jupyter-widgets/base",
          "model_name": "LayoutModel",
          "model_module_version": "1.2.0",
          "state": {
            "_model_module": "@jupyter-widgets/base",
            "_model_module_version": "1.2.0",
            "_model_name": "LayoutModel",
            "_view_count": null,
            "_view_module": "@jupyter-widgets/base",
            "_view_module_version": "1.2.0",
            "_view_name": "LayoutView",
            "align_content": null,
            "align_items": null,
            "align_self": null,
            "border": null,
            "bottom": null,
            "display": null,
            "flex": null,
            "flex_flow": null,
            "grid_area": null,
            "grid_auto_columns": null,
            "grid_auto_flow": null,
            "grid_auto_rows": null,
            "grid_column": null,
            "grid_gap": null,
            "grid_row": null,
            "grid_template_areas": null,
            "grid_template_columns": null,
            "grid_template_rows": null,
            "height": null,
            "justify_content": null,
            "justify_items": null,
            "left": null,
            "margin": null,
            "max_height": null,
            "max_width": null,
            "min_height": null,
            "min_width": null,
            "object_fit": null,
            "object_position": null,
            "order": null,
            "overflow": null,
            "overflow_x": null,
            "overflow_y": null,
            "padding": null,
            "right": null,
            "top": null,
            "visibility": null,
            "width": null
          }
        },
        "1704fff76dce4328a513e03d902efa9b": {
          "model_module": "@jupyter-widgets/controls",
          "model_name": "DescriptionStyleModel",
          "model_module_version": "1.5.0",
          "state": {
            "_model_module": "@jupyter-widgets/controls",
            "_model_module_version": "1.5.0",
            "_model_name": "DescriptionStyleModel",
            "_view_count": null,
            "_view_module": "@jupyter-widgets/base",
            "_view_module_version": "1.2.0",
            "_view_name": "StyleView",
            "description_width": ""
          }
        },
        "05968dfcea1e4429b6900c053155588d": {
          "model_module": "@jupyter-widgets/base",
          "model_name": "LayoutModel",
          "model_module_version": "1.2.0",
          "state": {
            "_model_module": "@jupyter-widgets/base",
            "_model_module_version": "1.2.0",
            "_model_name": "LayoutModel",
            "_view_count": null,
            "_view_module": "@jupyter-widgets/base",
            "_view_module_version": "1.2.0",
            "_view_name": "LayoutView",
            "align_content": null,
            "align_items": null,
            "align_self": null,
            "border": null,
            "bottom": null,
            "display": null,
            "flex": null,
            "flex_flow": null,
            "grid_area": null,
            "grid_auto_columns": null,
            "grid_auto_flow": null,
            "grid_auto_rows": null,
            "grid_column": null,
            "grid_gap": null,
            "grid_row": null,
            "grid_template_areas": null,
            "grid_template_columns": null,
            "grid_template_rows": null,
            "height": null,
            "justify_content": null,
            "justify_items": null,
            "left": null,
            "margin": null,
            "max_height": null,
            "max_width": null,
            "min_height": null,
            "min_width": null,
            "object_fit": null,
            "object_position": null,
            "order": null,
            "overflow": null,
            "overflow_x": null,
            "overflow_y": null,
            "padding": null,
            "right": null,
            "top": null,
            "visibility": null,
            "width": null
          }
        },
        "56a3e18d584e4221a4cd8ce07fc15dab": {
          "model_module": "@jupyter-widgets/controls",
          "model_name": "ProgressStyleModel",
          "model_module_version": "1.5.0",
          "state": {
            "_model_module": "@jupyter-widgets/controls",
            "_model_module_version": "1.5.0",
            "_model_name": "ProgressStyleModel",
            "_view_count": null,
            "_view_module": "@jupyter-widgets/base",
            "_view_module_version": "1.2.0",
            "_view_name": "StyleView",
            "bar_color": null,
            "description_width": ""
          }
        }
      }
    }
  },
  "nbformat": 4,
  "nbformat_minor": 0
}
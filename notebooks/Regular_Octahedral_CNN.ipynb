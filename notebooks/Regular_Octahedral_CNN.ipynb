{
 "cells": [
  {
   "cell_type": "code",
   "execution_count": 24,
   "metadata": {},
   "outputs": [
    {
     "name": "stdout",
     "output_type": "stream",
     "text": [
      "48\n",
      "tensor([[[-1.,  0.,  0.],\n",
      "         [ 0., -1.,  0.],\n",
      "         [ 0.,  0., -1.]],\n",
      "\n",
      "        [[-1.,  0.,  0.],\n",
      "         [ 0., -1.,  0.],\n",
      "         [ 0.,  0.,  1.]],\n",
      "\n",
      "        [[-1.,  0.,  0.],\n",
      "         [ 0.,  1.,  0.],\n",
      "         [ 0.,  0., -1.]],\n",
      "\n",
      "        [[-1.,  0.,  0.],\n",
      "         [ 0.,  1.,  0.],\n",
      "         [ 0.,  0.,  1.]],\n",
      "\n",
      "        [[ 1.,  0.,  0.],\n",
      "         [ 0., -1.,  0.],\n",
      "         [ 0.,  0., -1.]],\n",
      "\n",
      "        [[ 1.,  0.,  0.],\n",
      "         [ 0., -1.,  0.],\n",
      "         [ 0.,  0.,  1.]],\n",
      "\n",
      "        [[ 1.,  0.,  0.],\n",
      "         [ 0.,  1.,  0.],\n",
      "         [ 0.,  0., -1.]],\n",
      "\n",
      "        [[ 1.,  0.,  0.],\n",
      "         [ 0.,  1.,  0.],\n",
      "         [ 0.,  0.,  1.]]])\n"
     ]
    }
   ],
   "source": [
    "import torch\n",
    "\n",
    "def generate_permutation_matrices():\n",
    "    \"Outputs a list of all 3x3 permutation matrices\"\n",
    "    output = []\n",
    "    for i in range(3):\n",
    "        for j in range(3):\n",
    "            if j == i:\n",
    "                continue\n",
    "            for k in range(3):\n",
    "                if k == i or k == j:\n",
    "                    continue\n",
    "                thispart = [[0,0,0],[0,0,0],[0,0,0]]\n",
    "                thispart[0][i] = 1\n",
    "                thispart[1][j] = 1\n",
    "                thispart[2][k] = 1\n",
    "                output.append(thispart)\n",
    "    return output\n",
    "\n",
    "\n",
    "\n",
    "def generate_rotation_matrices():\n",
    "    permut_matrics = torch.tensor(generate_permutation_matrices())\n",
    "    output = torch.zeros((48,3,3))\n",
    "    counter = 0\n",
    "    for permut in permut_matrics:\n",
    "        for i in range(2):\n",
    "            for j in range(2):\n",
    "                for k in range(2):\n",
    "                    thispart = torch.clone(permut)\n",
    "                    if i == 0:\n",
    "                        thispart[0] *= -1\n",
    "                    if j == 0:\n",
    "                        thispart[1] *= -1\n",
    "                    if k == 0:\n",
    "                        thispart[2] *= -1\n",
    "                    \n",
    "                    output[counter] = thispart\n",
    "                    counter += 1\n",
    "    return output\n",
    "\n",
    "\n",
    "\n",
    "                \n",
    "    \n",
    "\n"
   ]
  }
 ],
 "metadata": {
  "kernelspec": {
   "display_name": "dl2_2024",
   "language": "python",
   "name": "python3"
  },
  "language_info": {
   "codemirror_mode": {
    "name": "ipython",
    "version": 3
   },
   "file_extension": ".py",
   "mimetype": "text/x-python",
   "name": "python",
   "nbconvert_exporter": "python",
   "pygments_lexer": "ipython3",
   "version": "3.10.14"
  }
 },
 "nbformat": 4,
 "nbformat_minor": 2
}

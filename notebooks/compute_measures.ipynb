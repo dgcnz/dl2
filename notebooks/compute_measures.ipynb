{
  "cells": [
    {
      "cell_type": "code",
      "execution_count": null,
      "metadata": {
        "colab": {
          "base_uri": "https://localhost:8080/",
          "height": 1000
        },
        "id": "PUhvX5j6W12K",
        "outputId": "7aaf4ae0-2542-406b-af5a-d3c317a9585c"
      },
      "outputs": [],
      "source": [
        "import os\n",
        "from pathlib import Path\n",
        "\n",
        "try:\n",
        "    import google.colab\n",
        "\n",
        "    IN_COLAB = True\n",
        "except:\n",
        "    IN_COLAB = False\n",
        "\n",
        "if IN_COLAB:\n",
        "    from google.colab import userdata\n",
        "\n",
        "    repo_name = \"dgcnz/dl2\"\n",
        "    url = f\"https://{userdata.get('gh_path')}@github.com/{repo_name}.git\"\n",
        "    !git clone {url}\n",
        "    print(\"\\nCurrent Directory:\")\n",
        "    %cd dl2\n",
        "    #!pip install torch torchvision numpy matplotlib git+https://github.com/AMLab-Amsterdam/lie_learn escnn scipy\n",
        "    !pip install torchvision git+https://github.com/AMLab-Amsterdam/lie_learn escnn lightning wandb git+https://github.com/dgcnz/neuralyze git+https://github.com/QUVA-Lab/e2cnn\n",
        "    !pip install -r requirements.txt\n",
        "\n",
        "\n",
        "else:  # automatically checks if the current directory is 'repo name'\n",
        "    curdir = Path.cwd()\n",
        "    print(\"Current Directory\", curdir)\n",
        "    assert (\n",
        "        curdir.name == \"dl2\" or curdir.parent.name == \"dl2\"\n",
        "    ), \"Notebook cwd has to be on the project root\"\n",
        "    if curdir.name == \"notebooks\":\n",
        "        %cd .."
      ]
    },
    {
      "cell_type": "code",
      "execution_count": null,
      "metadata": {
        "colab": {
          "base_uri": "https://localhost:8080/"
        },
        "id": "3SJb0i-q9SBl",
        "outputId": "b3ef7fa6-1969-45f6-8112-6d5ad8457ce7"
      },
      "outputs": [],
      "source": [
        "!git pull"
      ]
    },
    {
      "cell_type": "code",
      "execution_count": null,
      "metadata": {
        "id": "0qQNbTZxW12Z"
      },
      "outputs": [],
      "source": [
        "import json\n",
        "import matplotlib.pyplot as plt\n",
        "import numpy as np\n",
        "from scipy.stats import gaussian_kde\n",
        "import pandas as pd"
      ]
    },
    {
      "cell_type": "code",
      "execution_count": null,
      "metadata": {
        "colab": {
          "base_uri": "https://localhost:8080/"
        },
        "id": "jMmquZHCHwy5",
        "outputId": "afa63930-c9aa-43db-b793-ac3c14f928e1"
      },
      "outputs": [],
      "source": [
        "import wandb\n",
        "wandb.login(key=userdata.get('wandb_key'))"
      ]
    },
    {
      "cell_type": "code",
      "execution_count": null,
      "metadata": {
        "id": "Zd-nJYwCW12b"
      },
      "outputs": [],
      "source": [
        "#path_dict = {'best_alpha_0.01_equivariance_level_9': 'uva-dl2/wang2022/model-ciun18ho:v49'}\n",
        "\n",
        "path_dict_epoch = {'epoch_3_alpha_inf_equivariance_level_0': 'uva-dl2/wang2022/model-umb37s34:v3',\n",
        "                   'epoch_47_alpha_inf_equivariance_level_0': 'uva-dl2/wang2022/model-umb37s34:v47',\n",
        "                   'epoch_3_alpha_0_equivariance_level_0': 'uva-dl2/wang2022/model-8bep9a0w:v3',\n",
        "                   'epoch_50_alpha_0_equivariance_level_0': 'uva-dl2/wang2022/model-8bep9a0w:v50'}\n",
        "\n",
        "path_dict_best = {'epoch_11_alpha_inf_equivariance_level_9': 'uva-dl2/wang2022/model-4gmxxq83:v43',\n",
        "                  'epoch_16_alpha_inf_equivariance_level_5': 'uva-dl2/wang2022/model-3wuzf1rf:v48',\n",
        "                  'epoch_28_alpha_inf_equivariance_level_0': 'uva-dl2/wang2022/model-umb37s34:v47',\n",
        "                  'epoch_12_alpha_0_equivariance_level_9': 'uva-dl2/wang2022/model-lgxaqwzp:v12',\n",
        "                  'epoch_50_alpha_0.1_equivariance_level_9': 'uva-dl2/wang2022/model-kr959h28:v50',\n",
        "                  'epoch_50_alpha_1e-6_equivariance_level_9': 'uva-dl2/wang2022/model-slhpjzjv:v50',\n",
        "                  'epoch_49_alpha_0_equivariance_level_5':  'uva-dl2/wang2022/model-dkdkoxoe:v49',\n",
        "                  'epoch_50_alpha_0.1_equivariance_level_5': 'uva-dl2/wang2022/model-re1ys3x2:v50',\n",
        "                  'epoch_50_alpha_1e-6_equivariance_level_5': 'uva-dl2/wang2022/model-vp1v9jqj:v50',\n",
        "                  'epoch_50_alpha_0_equivariance_level_0': 'uva-dl2/wang2022/model-8bep9a0w:v50',\n",
        "                  'epoch_50_alpha_0.1_equivariance_level_0': 'uva-dl2/wang2022/model-fyw9jx76:v50',\n",
        "                  'epoch_50_alpha_1e-6_equivariance_level_0': 'uva-dl2/wang2022/model-vz626xf7:v50'}\n",
        "\n",
        "\n",
        "test_rmse_dict = {'epoch_11_alpha_inf_equivariance_level_9': 0.6712,\n",
        "                  'epoch_16_alpha_inf_equivariance_level_5': 0.5139,\n",
        "                  'epoch_28_alpha_inf_equivariance_level_0': 0.1022,\n",
        "                  'epoch_12_alpha_0_equivariance_level_9': 0.08028,\n",
        "                  'epoch_50_alpha_0.1_equivariance_level_9': 0.1115,\n",
        "                  'epoch_50_alpha_1e-6_equivariance_level_9': 0.08612,\n",
        "                  'epoch_49_alpha_0_equivariance_level_5':  0.4223,\n",
        "                  'epoch_50_alpha_0.1_equivariance_level_5': 0.4209,\n",
        "                  'epoch_50_alpha_1e-6_equivariance_level_5': 0.4188,\n",
        "                  'epoch_50_alpha_0_equivariance_level_0': 0.638,\n",
        "                  'epoch_50_alpha_0.1_equivariance_level_0': 0.6274 ,\n",
        "                  'epoch_50_alpha_1e-6_equivariance_level_0': 0.6353}\n",
        "\n",
        "dummy_dict = {'epoch_28_alpha_inf_equivariance_level_0': 'uva-dl2/wang2022/model-umb37s34:v47',\n",
        "               'epoch_50_alpha_0_equivariance_level_0': 'uva-dl2/wang2022/model-8bep9a0w:v50'}\n"
      ]
    },
    {
      "cell_type": "code",
      "execution_count": null,
      "metadata": {
        "colab": {
          "base_uri": "https://localhost:8080/"
        },
        "id": "POFFf7oQF9Lf",
        "outputId": "fef115a2-a738-44b9-8741-722e84655a46"
      },
      "outputs": [],
      "source": [
        "!python -m src.compute_measures --help"
      ]
    },
    {
      "cell_type": "code",
      "execution_count": null,
      "metadata": {
        "colab": {
          "base_uri": "https://localhost:8080/"
        },
        "id": "btTGazGtXNdb",
        "outputId": "ec74ed6a-60f9-4eda-cc4c-46f6c824bb8c"
      },
      "outputs": [],
      "source": [
        "!git pull"
      ]
    },
    {
      "cell_type": "code",
      "execution_count": null,
      "metadata": {
        "colab": {
          "base_uri": "https://localhost:8080/"
        },
        "id": "JJjPRhqIW12c",
        "outputId": "fbd70234-e5d6-412c-a1d7-ca1d8b96a4fe"
      },
      "outputs": [],
      "source": [
        "!python -m src.compute_measures ++weight_decay=1e-5 percentage_data=20 'ckpt_path_dict={path_dict_best}' spectrum=True sharpness=True"
      ]
    },
    {
      "cell_type": "code",
      "execution_count": null,
      "metadata": {
        "colab": {
          "base_uri": "https://localhost:8080/"
        },
        "id": "i7h3EZ33cdsV",
        "outputId": "50428f34-5157-4015-be4d-87840112eb29"
      },
      "outputs": [],
      "source": [
        "import torch\n",
        "tensor = torch.tensor(5.)\n",
        "print(tensor.shape)"
      ]
    },
    {
      "cell_type": "code",
      "execution_count": null,
      "metadata": {
        "colab": {
          "base_uri": "https://localhost:8080/"
        },
        "id": "AhuBgg6IXGmY",
        "outputId": "24ad997e-e1d1-475b-c55a-16996e42f4b9"
      },
      "outputs": [],
      "source": [
        "with open('logs/measures/metrics (2).json') as json_file:\n",
        "    metric_dict = json.load(json_file)\n",
        "print(metric_dict)"
      ]
    },
    {
      "cell_type": "markdown",
      "metadata": {
        "id": "8Eop-aD_XKXH"
      },
      "source": [
        "##Hessian Spectra"
      ]
    },
    {
      "cell_type": "code",
      "execution_count": null,
      "metadata": {
        "id": "4dFB81B1W12d"
      },
      "outputs": [],
      "source": [
        "def plot_fn(spectrums: list, names: list, epoch: int):\n",
        "    fig, ax = plt.subplots()\n",
        "    # Create kernel density estimate\n",
        "    for spectrum, name in zip(spectrums, names):\n",
        "        kde = gaussian_kde(spectrum)\n",
        "\n",
        "        # Create x values for the plot\n",
        "        x = np.linspace(min(spectrum), max(spectrum), 1000)\n",
        "\n",
        "        # Compute the density estimate\n",
        "        density = kde(x)\n",
        "\n",
        "        # Plot density estimate as a line\n",
        "        ax.plot(x, density, label=name)\n",
        "\n",
        "    # Add labels and title\n",
        "    ax.set_xlabel(\"Max Eigenvalue\")\n",
        "    ax.set_ylabel(\"Density\")\n",
        "    ax.set_title(\"Density plot of max eigenvalues at epoch \" + str(epoch))\n",
        "    ax.legend()\n",
        "    plt.show()"
      ]
    },
    {
      "cell_type": "code",
      "execution_count": null,
      "metadata": {
        "colab": {
          "base_uri": "https://localhost:8080/",
          "height": 472
        },
        "id": "cIs4K-2CLkWC",
        "outputId": "519b10f1-7332-4a07-e846-8eccf4c24130"
      },
      "outputs": [],
      "source": [
        "names = [name for name in metric_dict.keys()]\n",
        "spectrums = [values['spectrum'] for values in metric_dict.values()]\n",
        "plot_fn(spectrums, names, 'best')"
      ]
    },
    {
      "cell_type": "markdown",
      "metadata": {
        "id": "SImRk580XPRe"
      },
      "source": [
        "##Sharpeness\n"
      ]
    },
    {
      "cell_type": "code",
      "execution_count": null,
      "metadata": {
        "id": "UijNA2oYW12h"
      },
      "outputs": [],
      "source": []
    },
    {
      "cell_type": "markdown",
      "metadata": {
        "id": "4soZMpL8feuh"
      },
      "source": [
        "##Equivariance learned/error"
      ]
    },
    {
      "cell_type": "code",
      "execution_count": null,
      "metadata": {
        "colab": {
          "base_uri": "https://localhost:8080/"
        },
        "id": "_yV-lorIk2i9",
        "outputId": "18f2a2c0-c069-4f41-d1f2-e58ee8380445"
      },
      "outputs": [],
      "source": [
        "equivariance_dict = {'alpha': [], 'equivariance_level': [], 'error': [], 'lie': [], 'sharpness':[]}\n",
        "data_equivariance_error_map = {0: 0.0,1: 0.17,2: 0.313,3: 0.435,4: 0.541,5: 0.63,6: 0.709,7: 0.78,\n",
        "                               8:0.84, 9:0.896}\n",
        "#epoch_11_alpha_inf_equivariance_level_9\n",
        "\n",
        "for key, value in metric_dict.items():\n",
        "    error = value['equivariance_error']\n",
        "    lie = value['lie_derivative']\n",
        "    sharpness = value['sharpness']\n",
        "\n",
        "    parts = key.split('_')\n",
        "    alpha = parts[3]\n",
        "    alpha = float(alpha)\n",
        "    level = parts[-1]\n",
        "    equivariance_dict['alpha'].append(alpha)\n",
        "    equivariance_dict['equivariance_level'].append(int(level))\n",
        "    equivariance_dict['error'].append(error)\n",
        "    equivariance_dict['lie'].append(lie)\n",
        "    equivariance_dict['sharpness'].append(sharpness)\n",
        "\n",
        "df = pd.DataFrame(equivariance_dict)\n",
        "\n",
        "print(df)"
      ]
    },
    {
      "cell_type": "code",
      "execution_count": null,
      "metadata": {
        "colab": {
          "base_uri": "https://localhost:8080/",
          "height": 554
        },
        "id": "42yBX3LlGKlW",
        "outputId": "3cc9b9cc-e809-4d22-df6c-da58bfcb895d"
      },
      "outputs": [],
      "source": [
        "##Error\n",
        "\n",
        "# set width of bar\n",
        "barWidth = 0.25\n",
        "fig = plt.subplots(figsize =(12, 8))\n",
        "\n",
        "# set height of bar\n",
        "level_0 = df[df['equivariance_level'] == 0]['error']\n",
        "level_5 = df[df['equivariance_level'] == 5]['error']\n",
        "level_9 = df[df['equivariance_level'] == 9]['error']\n",
        "\n",
        "# Set position of bar on X axis\n",
        "br1 = np.arange(len(level_0))\n",
        "br2 = [x + barWidth for x in br1]\n",
        "br3 = [x + barWidth for x in br2]\n",
        "\n",
        "# Create bars with adjusted colors\n",
        "plt.bar(br1, level_0, color='#F9D342', width=barWidth, edgecolor='grey', label='Data Equivariance Error ' + str(data_equivariance_error_map[0]))\n",
        "plt.bar(br2, level_5, color='#FF8C42', width=barWidth, edgecolor='grey', label='Data Equivariance Error ' + str(data_equivariance_error_map[5]))\n",
        "plt.bar(br3, level_9, color='#FF6A6A', width=barWidth, edgecolor='grey', label='Data Equivariance Error ' + str(data_equivariance_error_map[9]))\n",
        "\n",
        "# Adding Xticks\n",
        "plt.xlabel('Alpha', fontsize=15)\n",
        "plt.ylabel('Model Equivariance Error', fontsize=15)\n",
        "plt.xticks([r + barWidth for r in range(len(level_0))], ['0', '1e-6', '1e-2', 'Equivariant Net'])\n",
        "\n",
        "# Adding grid\n",
        "plt.grid(True, which='major', linestyle='--', linewidth='0.5', color='grey')\n",
        "\n",
        "# Add legend\n",
        "plt.legend()\n",
        "\n",
        "# Display the plot\n",
        "plt.show()"
      ]
    },
    {
      "cell_type": "code",
      "execution_count": null,
      "metadata": {
        "colab": {
          "base_uri": "https://localhost:8080/",
          "height": 557
        },
        "id": "wSJPCiA2GNFL",
        "outputId": "b753f04c-c966-4598-cbb1-c9dff9ef08d4"
      },
      "outputs": [],
      "source": [
        "#Lie\n",
        "\n",
        "# set width of bar\n",
        "barWidth = 0.25\n",
        "fig = plt.subplots(figsize =(12, 8))\n",
        "\n",
        "# set height of bar\n",
        "level_0 = df[df['equivariance_level'] == 0]['lie']\n",
        "level_5 = df[df['equivariance_level'] == 5]['lie']\n",
        "level_9 = df[df['equivariance_level'] == 9]['lie']\n",
        "\n",
        "# Set position of bar on X axis\n",
        "br1 = np.arange(len(level_0))\n",
        "br2 = [x + barWidth for x in br1]\n",
        "br3 = [x + barWidth for x in br2]\n",
        "\n",
        "# Create bars with adjusted colors\n",
        "plt.bar(br1, level_0, color='#F9D342', width=barWidth, edgecolor='grey', label='Data Equivariance Error ' + str(data_equivariance_error_map[0]))\n",
        "plt.bar(br2, level_5, color='#FF8C42', width=barWidth, edgecolor='grey', label='Data Equivariance Error ' + str(data_equivariance_error_map[5]))\n",
        "plt.bar(br3, level_9, color='#FF6A6A', width=barWidth, edgecolor='grey', label='Data Equivariance Error ' + str(data_equivariance_error_map[9]))\n",
        "\n",
        "# Adding Xticks\n",
        "plt.xlabel('Alpha', fontsize=15)\n",
        "plt.ylabel('Model Lie Derivative', fontsize=15)\n",
        "plt.xticks([r + barWidth for r in range(len(level_0))], ['0', '1e-6', '1e-2', 'Equivariant Net'])\n",
        "\n",
        "# Adding grid\n",
        "plt.grid(True, which='major', linestyle='--', linewidth='0.5', color='grey')\n",
        "\n",
        "# Add legend\n",
        "plt.legend()\n",
        "\n",
        "# Display the plot\n",
        "plt.show()"
      ]
    },
    {
      "cell_type": "code",
      "execution_count": null,
      "metadata": {
        "colab": {
          "base_uri": "https://localhost:8080/",
          "height": 562
        },
        "id": "GZHa5bGTM9UO",
        "outputId": "02942539-fbec-4f99-89b2-06b969fbd645"
      },
      "outputs": [],
      "source": [
        "#Lie\n",
        "\n",
        "# set width of bar\n",
        "barWidth = 0.25\n",
        "fig = plt.subplots(figsize =(12, 8))\n",
        "\n",
        "\n",
        "# set height of bar\n",
        "level_0 = df[df['equivariance_level'] == 0]['sharpness']\n",
        "level_5 = df[df['equivariance_level'] == 5]['sharpness']\n",
        "level_9 = df[df['equivariance_level'] == 9]['sharpness']\n",
        "\n",
        "# Set position of bar on X axis\n",
        "br1 = np.arange(len(level_0))\n",
        "br2 = [x + barWidth for x in br1]\n",
        "br3 = [x + barWidth for x in br2]\n",
        "\n",
        "# Create bars with adjusted colors\n",
        "plt.bar(br1, level_0, color='#F9D342', width=barWidth, edgecolor='grey', label='Data Equivariance Error ' + str(data_equivariance_error_map[0]))\n",
        "plt.bar(br2, level_5, color='#FF8C42', width=barWidth, edgecolor='grey', label='Data Equivariance Error ' + str(data_equivariance_error_map[5]))\n",
        "plt.bar(br3, level_9, color='#FF6A6A', width=barWidth, edgecolor='grey', label='Data Equivariance Error ' + str(data_equivariance_error_map[9]))\n",
        "\n",
        "# Adding Xticks\n",
        "plt.xlabel('Alpha', fontsize=15)\n",
        "plt.ylabel('Model Lie Derivative', fontsize=15)\n",
        "plt.xticks([r + barWidth for r in range(len(level_0))], ['0', '1e-6', '1e-2', 'Equivariant Net'])\n",
        "\n",
        "# Adding grid\n",
        "plt.grid(True, which='major', linestyle='--', linewidth='0.5', color='grey')\n",
        "\n",
        "# Add legend\n",
        "plt.legend()\n",
        "\n",
        "# Display the plot\n",
        "plt.show()"
      ]
    },
    {
      "cell_type": "code",
      "execution_count": null,
      "metadata": {
        "colab": {
          "base_uri": "https://localhost:8080/",
          "height": 813
        },
        "id": "bdOh0OuRthD9",
        "outputId": "24924fc7-a45e-438d-b029-6f87018f75c2"
      },
      "outputs": [],
      "source": [
        "#Lie\n",
        "equivariance_dict = {'epoch': [], 'sharpness':[], 'alpha':[]}\n",
        "\n",
        "#epoch_11_alpha_inf_equivariance_level_9\n",
        "\n",
        "for key, value in metric_dict.items():\n",
        "    sharpness = value['sharpness']\n",
        "\n",
        "\n",
        "    parts = key.split('_')\n",
        "    epoch = parts[1]\n",
        "    alpha = parts[3]\n",
        "\n",
        "    equivariance_dict['epoch'].append(epoch)\n",
        "    equivariance_dict['sharpness'].append(sharpness)\n",
        "    equivariance_dict['alpha'].append(alpha)\n",
        "\n",
        "# set width of bar\n",
        "df = pd.DataFrame(equivariance_dict)\n",
        "df = df.sort_values(by='epoch')\n",
        "\n",
        "print(df)\n",
        "print('hello')\n",
        "\n",
        "barWidth = 0.25\n",
        "fig = plt.subplots(figsize =(12, 8))\n",
        "\n",
        "# set height of bar\n",
        "E2 = df[df['alpha'] == 'inf']['sharpness']\n",
        "Rsteer = df[df['alpha'] == '0']['sharpness']\n",
        "\n",
        "\n",
        "# Set position of bar on X axis\n",
        "br1 = np.arange(len(E2))\n",
        "br2 = [x + barWidth for x in br1]\n",
        "\n",
        "# Create bars with adjusted colors\n",
        "plt.bar(br1, E2, color='#4fa89e', width=barWidth, edgecolor='grey', label='E2CNN')\n",
        "plt.bar(br2, Rsteer, color='#eda7be', width=barWidth, edgecolor='grey', label='Rsteer')\n",
        "\n",
        "# Adding Xticks\n",
        "plt.xlabel('Checkpoint', fontsize=15)\n",
        "plt.ylabel('Sharpness', fontsize=15)\n",
        "plt.xticks([r + barWidth / 2 for r in range(len(E2))], ['Early', 'Best'])\n",
        "plt.yscale('log')\n",
        "# Adding grid\n",
        "plt.grid(True, which='major', linestyle='--', linewidth='0.5', color='grey')\n",
        "\n",
        "# Add legend\n",
        "plt.legend()\n",
        "\n",
        "# Display the plot\n",
        "plt.show()"
      ]
    },
    {
      "cell_type": "markdown",
      "metadata": {
        "id": "YUtVCXbdnCYk"
      },
      "source": [
        "###RMSE###\n"
      ]
    },
    {
      "cell_type": "code",
      "execution_count": null,
      "metadata": {
        "colab": {
          "base_uri": "https://localhost:8080/",
          "height": 1000
        },
        "id": "yNPm8-xJnMEt",
        "outputId": "20f45a2f-87ea-4212-8b53-7af45276b6c0"
      },
      "outputs": [],
      "source": [
        "df_dict = {'alpha': [], 'equivariance_level': [], 'value': []}\n",
        "data_equivariance_error_map = {0: 0.0,1: 0.17,2: 0.313,3: 0.435,4: 0.541,5: 0.63,6: 0.709,7: 0.78,\n",
        "                               8:0.84, 9:0.896}\n",
        "#epoch_11_alpha_inf_equivariance_level_9\n",
        "print(test_rmse_dict)\n",
        "\n",
        "for key, value in test_rmse_dict.items():\n",
        "    parts = key.split('_')\n",
        "    alpha = parts[3]\n",
        "    alpha = float(alpha)\n",
        "    level = parts[-1]\n",
        "    df_dict['alpha'].append(alpha)\n",
        "    df_dict['equivariance_level'].append(\n",
        "        data_equivariance_error_map[int(level)])\n",
        "    df_dict['value'].append(value)\n",
        "\n",
        "# Creating the DataFrame\n",
        "df = pd.DataFrame(df_dict)\n",
        "\n",
        "# Converting alpha and equivariance_level to numeric types for plotting\n",
        "df['alpha'] = pd.to_numeric(df['alpha'])\n",
        "df['equivariance_level'] = pd.to_numeric(df['equivariance_level'])\n",
        "\n",
        "# Sorting the DataFrame by the alpha column\n",
        "df = df.sort_values(by='alpha')\n",
        "\n",
        "print(df)\n",
        "\n",
        "#################### MAKE the bar plot #####################\n",
        "# set width of bar\n",
        "barWidth = 0.25\n",
        "fig = plt.subplots(figsize =(12, 8))\n",
        "\n",
        "# set height of bar\n",
        "#IT = [12, 30, 1, 8, 22]\n",
        "level_0 = df[df['equivariance_level'] == data_equivariance_error_map[0]]['rmse']\n",
        "\n",
        "\n",
        "# Set position of bar on X axis\n",
        "br1 = np.arange(len(level_0))\n",
        "br2 = [x + barWidth for x in br1]\n",
        "br3 = [x + barWidth for x in br2]\n",
        "\n",
        "# Make the plot\n",
        "plt.bar(br1, level_0, color ='r', width = barWidth,\n",
        "        edgecolor ='grey', label ='IT')\n",
        "#plt.bar(br2, ECE, color ='g', width = barWidth,\n",
        "#       edgecolor ='grey', label ='ECE')\n",
        "#lt.bar(br3, CSE, color ='b', width = barWidth,\n",
        "#        edgecolor ='grey', label ='CSE')\n",
        "\n",
        "# Adding Xticks\n",
        "plt.xlabel('Branch', fontweight ='bold', fontsize = 15)\n",
        "plt.ylabel('Students passed', fontweight ='bold', fontsize = 15)\n",
        "plt.xticks([r + barWidth for r in range(len(level_0))],\n",
        "        ['0', '0.1', '0.000001'])\n",
        "\n",
        "plt.legend()\n",
        "plt.show()\n",
        "\n",
        "\n",
        "\n",
        "\n",
        "\n"
      ]
    },
    {
      "cell_type": "code",
      "execution_count": null,
      "metadata": {
        "cellView": "form",
        "colab": {
          "base_uri": "https://localhost:8080/",
          "height": 500
        },
        "id": "Gv8W4xoDuV_d",
        "outputId": "d0ed2a9a-1b5d-4e43-a972-2f91040dbe42"
      },
      "outputs": [],
      "source": [
        "# @title alpha vs value\n",
        "\n",
        "from matplotlib import pyplot as plt\n",
        "import seaborn as sns\n",
        "figsize = (12, 1.2 * len(df['alpha'].unique()))\n",
        "plt.figure(figsize=figsize)\n",
        "sns.violinplot(df, x='value', y='alpha', inner='stick', palette='Dark2')\n",
        "sns.despine(top=True, right=True, bottom=True, left=True)"
      ]
    }
  ],
  "metadata": {
    "accelerator": "GPU",
    "colab": {
      "gpuType": "T4",
      "provenance": []
    },
    "kernelspec": {
      "display_name": "Python 3",
      "name": "python3"
    },
    "language_info": {
      "name": "python"
    }
  },
  "nbformat": 4,
  "nbformat_minor": 0
}

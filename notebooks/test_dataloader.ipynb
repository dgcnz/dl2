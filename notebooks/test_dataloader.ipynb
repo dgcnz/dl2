{
 "cells": [
  {
   "cell_type": "code",
   "execution_count": null,
   "metadata": {
    "colab": {
     "base_uri": "https://localhost:8080/"
    },
    "id": "DafTtG-zoJFM",
    "outputId": "a5becdb3-bc78-4913-d98a-c2a34824ea23"
   },
   "outputs": [],
   "source": [
    "import os\n",
    "from pathlib import Path\n",
    "\n",
    "try:\n",
    "    import google.colab\n",
    "\n",
    "    IN_COLAB = True\n",
    "except:\n",
    "    IN_COLAB = False\n",
    "\n",
    "if IN_COLAB:\n",
    "    from google.colab import userdata\n",
    "\n",
    "    repo_name = \"dgcnz/dl2\"\n",
    "    url = f\"https://{userdata.get('gh_pat')}@github.com/{repo_name}.git\"\n",
    "    !git clone {url}\n",
    "    print(\"\\nCurrent Directory:\")\n",
    "    %cd dl2\n",
    "    !pip install lightning\n",
    "    #!pip install -r requirements.txt\n",
    "\n",
    "else:  # automatically checks if the current directory is 'repo name'\n",
    "    curdir = Path.cwd()\n",
    "    print(\"Current Directory\", curdir)\n",
    "    assert (\n",
    "        curdir.name == \"dl2\" or curdir.parent.name == \"dl2\"\n",
    "    ), \"Notebook cwd has to be on the project root\"\n",
    "    if curdir.name == \"notebooks\":\n",
    "        %cd ..\n",
    "        print(\"New Current Directory:\", curdir)"
   ]
  },
  {
   "cell_type": "code",
   "execution_count": null,
   "metadata": {
    "id": "E0PoSICpq-TW"
   },
   "outputs": [],
   "source": [
    "import sys\n",
    "\n",
    "sys.path.append(\".\")"
   ]
  },
  {
   "cell_type": "code",
   "execution_count": null,
   "metadata": {
    "id": "RBDnpkwpoJFS"
   },
   "outputs": [],
   "source": [
    "import numpy as np\n",
    "import torch\n",
    "from PIL import Image\n",
    "from torch.utils.data import Dataset\n",
    "from torchvision.transforms import (\n",
    "    Compose,\n",
    "    InterpolationMode,\n",
    "    Pad,\n",
    "    RandomRotation,\n",
    "    Resize,\n",
    "    ToTensor,\n",
    ")\n",
    "\n",
    "# these imports always confuse me\n",
    "from src.data.rotated_mnist_datamodule import MnistRotDataset\n",
    "\n",
    "device = \"cuda\" if torch.cuda.is_available() else \"cpu\""
   ]
  },
  {
   "cell_type": "code",
   "execution_count": null,
   "metadata": {
    "colab": {
     "base_uri": "https://localhost:8080/"
    },
    "id": "LZMCeNdRoJFT",
    "outputId": "73a68898-e07b-4aed-d97c-095e7a2cc099"
   },
   "outputs": [],
   "source": [
    "# simple test\n",
    "raw_mnist_test = MnistRotDataset(root=\"data/\", train=False, download=True)\n",
    "# retrieve the first image from the test set\n",
    "x, y = next(iter(raw_mnist_test))\n",
    "print(x)\n",
    "print(y)"
   ]
  },
  {
   "cell_type": "code",
   "execution_count": null,
   "metadata": {
    "id": "mR6wppXOoJFU"
   },
   "outputs": [],
   "source": [
    "# images are padded to have shape 29x29.\n",
    "# this allows to use odd-size filters with stride 2 when downsampling a feature map in the model\n",
    "pad = Pad((0, 0, 1, 1), fill=0)\n",
    "\n",
    "# to reduce interpolation artifacts (e.g. when testing the model on rotated images),\n",
    "# we upsample an image by a factor of 3, rotate it and finally downsample it again\n",
    "resize1 = Resize(87)\n",
    "resize2 = Resize(29)\n",
    "\n",
    "totensor = ToTensor()\n",
    "\n",
    "train_transform = Compose(\n",
    "    [\n",
    "        pad,\n",
    "        resize1,\n",
    "        RandomRotation(180.0, interpolation=InterpolationMode.BILINEAR, expand=False),\n",
    "        resize2,\n",
    "        totensor,\n",
    "    ]\n",
    ")\n",
    "\n",
    "mnist_train = MnistRotDataset(root=\"data/\", train=True, transform=train_transform)\n",
    "train_loader = torch.utils.data.DataLoader(mnist_train, batch_size=64)\n",
    "\n",
    "\n",
    "test_transform = Compose(\n",
    "    [\n",
    "        pad,\n",
    "        totensor,\n",
    "    ]\n",
    ")\n",
    "mnist_test = MnistRotDataset(root=\"data/\", train=True, transform=test_transform)\n",
    "test_loader = torch.utils.data.DataLoader(mnist_test, batch_size=64)"
   ]
  }
 ],
 "metadata": {
  "colab": {
   "provenance": []
  },
  "kernelspec": {
   "display_name": "Python 3",
   "name": "python3"
  },
  "language_info": {
   "name": "python"
  }
 },
 "nbformat": 4,
 "nbformat_minor": 0
}

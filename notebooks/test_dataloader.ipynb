{
 "cells": [
  {
   "cell_type": "code",
   "execution_count": null,
   "metadata": {},
   "outputs": [],
   "source": [
    "import os\n",
    "from pathlib import Path\n",
    "\n",
    "try:\n",
    "    import google.colab\n",
    "    IN_COLAB = True\n",
    "except:\n",
    "    IN_COLAB = False\n",
    "\n",
    "if IN_COLAB:\n",
    "    from google.colab import userdata\n",
    "    repo_name = 'dgcnz/dl2'\n",
    "    url = f\"https://{userdata.get('gh_pat')}@github.com/{repo_name}.git\"\n",
    "    !git clone {url}\n",
    "    print(\"\\nCurrent Directory:\")\n",
    "    %cd dl2\n",
    "    #!pip install -r requirements.txt\n",
    "\n",
    "else: # automatically checks if the current directory is 'repo name'\n",
    "    curdir = Path.cwd()\n",
    "    print(\"Current Directory\", curdir)\n",
    "    assert curdir.name == \"dl2\" or curdir.parent.name == \"dl2\", \"Notebook cwd has to be on the project root\"\n",
    "    if curdir.name == \"notebooks\":\n",
    "        %cd ..\n",
    "        print(\"New Current Directory:\", curdir)"
   ]
  },
  {
   "cell_type": "code",
   "execution_count": null,
   "metadata": {},
   "outputs": [],
   "source": [
    "from torch.utils.data import Dataset\n",
    "from torchvision.transforms import RandomRotation\n",
    "from torchvision.transforms import Pad\n",
    "from torchvision.transforms import Resize\n",
    "from torchvision.transforms import ToTensor\n",
    "from torchvision.transforms import Compose\n",
    "from torchvision.transforms import InterpolationMode\n",
    "\n",
    "import numpy as np\n",
    "\n",
    "from PIL import Image\n",
    "\n",
    "device = 'cuda' if torch.cuda.is_available() else 'cpu'"
   ]
  },
  {
   "cell_type": "code",
   "execution_count": null,
   "metadata": {},
   "outputs": [],
   "source": [
    "#simple test \n",
    "raw_mnist_test = MnistRotDataset(train = False, dowload = True)\n"
   ]
  },
  {
   "cell_type": "code",
   "execution_count": null,
   "metadata": {},
   "outputs": [],
   "source": [
    "# images are padded to have shape 29x29.\n",
    "# this allows to use odd-size filters with stride 2 when downsampling a feature map in the model\n",
    "pad = Pad((0, 0, 1, 1), fill=0)\n",
    "\n",
    "# to reduce interpolation artifacts (e.g. when testing the model on rotated images),\n",
    "# we upsample an image by a factor of 3, rotate it and finally downsample it again\n",
    "resize1 = Resize(87)\n",
    "resize2 = Resize(29)\n",
    "\n",
    "totensor = ToTensor()\n",
    "\n",
    "train_transform = Compose([\n",
    "    pad,\n",
    "    resize1,\n",
    "    RandomRotation(180., interpolation=InterpolationMode.BILINEAR, expand=False),\n",
    "    resize2,\n",
    "    totensor,\n",
    "])\n",
    "\n",
    "mnist_train = MnistRotDataset(mode='train', transform=train_transform)\n",
    "train_loader = torch.utils.data.DataLoader(mnist_train, batch_size=64)\n",
    "\n",
    "\n",
    "test_transform = Compose([\n",
    "    pad,\n",
    "    totensor,\n",
    "])\n",
    "mnist_test = MnistRotDataset(mode='test', transform=test_transform)\n",
    "test_loader = torch.utils.data.DataLoader(mnist_test, batch_size=64)"
   ]
  }
 ],
 "metadata": {
  "language_info": {
   "name": "python"
  }
 },
 "nbformat": 4,
 "nbformat_minor": 2
}

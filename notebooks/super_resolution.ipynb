{
 "cells": [
  {
   "cell_type": "code",
   "execution_count": null,
   "metadata": {},
   "outputs": [],
   "source": [
    "from src.data.jhtdb_datamodule import JHTDBDataModule\n",
    "from src.models.super_resolution_module import SuperResolutionLightningModule\n",
    "from src.models.components.wang2024.oh_t3 import GCNNOhT3\n",
    "from src.models.components.wang2024.oh_t3 import GCNNOhT3, RGCNNOhT3\n",
    "import lightning as L"
   ]
  },
  {
   "cell_type": "code",
   "execution_count": null,
   "metadata": {},
   "outputs": [],
   "source": [
    "data_module = JHTDBDataModule()\n",
    "\n",
    "data_module.prepare_data()\n",
    "data_module.setup()\n",
    "\n",
    "#validation data already takes up 4 GB of RAM\n",
    "#Free google colab crashed with the full training data\n",
    "#So for testing I recommend the validation split\n",
    "#train_dataloader = data_module.val_dataloader()\n",
    "\n",
    "train_dataloader = data_module.train_dataloader()\n",
    "\n",
    "#9 in channels, because 3 spacial dimensions * 3 timesteps\n",
    "#hidden_dims need to be tuned\n",
    "#num_filter_banks too\n",
    "\n",
    "#net = GCNNOhT3(in_channels=9,out_channels=3,kernel_size=3,hidden_dim=3,maxpool=True)\n",
    "\n",
    "net = RGCNNOhT3(in_channels=9,out_channels=3,num_filter_banks=4,kernel_size=3,hidden_dim=3,maxpool=True)\n",
    "\n",
    "model = SuperResolutionLightningModule(net)\n",
    "\n",
    "trainer = L.Trainer(limit_train_batches=5, max_epochs=1)\n",
    "trainer.fit(model=model, train_dataloaders=train_dataloader)"
   ]
  }
 ],
 "metadata": {
  "language_info": {
   "name": "python"
  }
 },
 "nbformat": 4,
 "nbformat_minor": 2
}
